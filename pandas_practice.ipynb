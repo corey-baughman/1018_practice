{
 "cells": [
  {
   "cell_type": "markdown",
   "id": "0c526181-241d-4fbd-9d2d-965595b81f17",
   "metadata": {},
   "source": [
    "## Pandas Practice"
   ]
  },
  {
   "cell_type": "code",
   "execution_count": 1,
   "id": "4a1f6fe3-1e2a-403c-bc75-eee2a3de2f6b",
   "metadata": {},
   "outputs": [],
   "source": [
    "import numpy as np\n",
    "import pandas as pd\n",
    "from pydataset import data"
   ]
  },
  {
   "cell_type": "markdown",
   "id": "e34406d8-35a7-4ad5-801d-2dba010cbd5f",
   "metadata": {},
   "source": [
    "#### pandas Series\n",
    "- a Series is essentially a single column with an index\n",
    "- if data is of mixed types, pandas will force it into a single type\n",
    "- can generate a series from:\n",
    "    1. a list\n",
    "    2. a numpy array\n",
    "    3. a dictionary\n",
    "    4. a pandas DataFrame"
   ]
  },
  {
   "cell_type": "markdown",
   "id": "c6e90524-79e8-4eaf-93d2-a7dd9b4400c2",
   "metadata": {},
   "source": [
    "#### Creating a Series from a list"
   ]
  },
  {
   "cell_type": "code",
   "execution_count": 2,
   "id": "81cfcc0f-337b-4bbb-9a8a-aa82323edd7f",
   "metadata": {},
   "outputs": [
    {
     "data": {
      "text/plain": [
       "list"
      ]
     },
     "execution_count": 2,
     "metadata": {},
     "output_type": "execute_result"
    }
   ],
   "source": [
    "my_list = [2, 3, 5]\n",
    "type(my_list)"
   ]
  },
  {
   "cell_type": "code",
   "execution_count": 3,
   "id": "3c4c2256-3e43-466c-9dae-27cfd3448f3c",
   "metadata": {},
   "outputs": [
    {
     "data": {
      "text/plain": [
       "2"
      ]
     },
     "execution_count": 3,
     "metadata": {},
     "output_type": "execute_result"
    }
   ],
   "source": [
    "# a python list has an index, but it is a set of fixed integers\n",
    "my_list[0]"
   ]
  },
  {
   "cell_type": "code",
   "execution_count": 4,
   "id": "ce11da96-531e-480d-adff-934e6ad7e0f8",
   "metadata": {},
   "outputs": [],
   "source": [
    "# a Series index can be a name, datetime, etc"
   ]
  },
  {
   "cell_type": "code",
   "execution_count": 5,
   "id": "75db5b3e-35ef-4895-b050-73aa8ae20569",
   "metadata": {},
   "outputs": [
    {
     "data": {
      "text/plain": [
       "pandas.core.series.Series"
      ]
     },
     "execution_count": 5,
     "metadata": {},
     "output_type": "execute_result"
    }
   ],
   "source": [
    "# convert my_list to a Series\n",
    "my_series = pd.Series(my_list)\n",
    "type(my_series)"
   ]
  },
  {
   "cell_type": "code",
   "execution_count": 6,
   "id": "94436e83-4440-4c17-bbed-49fd7286fa0f",
   "metadata": {},
   "outputs": [
    {
     "data": {
      "text/plain": [
       "0    2\n",
       "1    3\n",
       "2    5\n",
       "dtype: int64"
      ]
     },
     "execution_count": 6,
     "metadata": {},
     "output_type": "execute_result"
    }
   ],
   "source": [
    "# what's inside a pandas Series?\n",
    "my_series"
   ]
  },
  {
   "cell_type": "markdown",
   "id": "fc1a8f08-f02f-4d3d-87e2-f7fb940f5e9f",
   "metadata": {},
   "source": [
    "- Index: the left column is the Series index\n",
    "- Values: the right column is the Series data or values\n",
    "- Data type: the dtype here is a 64-bit integer"
   ]
  },
  {
   "cell_type": "markdown",
   "id": "693da90b-264c-47d5-96ce-5303cad7965f",
   "metadata": {},
   "source": [
    "#### Creating a Series from a numpy array"
   ]
  },
  {
   "cell_type": "code",
   "execution_count": 7,
   "id": "a9e0f8a2-b562-4b3f-9b1d-ad14891261c7",
   "metadata": {},
   "outputs": [
    {
     "name": "stdout",
     "output_type": "stream",
     "text": [
      "<class 'numpy.ndarray'> [ 8. 13. 21.]\n"
     ]
    }
   ],
   "source": [
    "my_array = np.array([8.0, 13.0, 21.0])\n",
    "print(type(my_array), my_array)"
   ]
  },
  {
   "cell_type": "code",
   "execution_count": 8,
   "id": "76c90a77-9771-4620-ad63-2fc8a1af3010",
   "metadata": {},
   "outputs": [
    {
     "data": {
      "text/plain": [
       "pandas.core.series.Series"
      ]
     },
     "execution_count": 8,
     "metadata": {},
     "output_type": "execute_result"
    }
   ],
   "source": [
    "# convert to a Series\n",
    "my_series = pd.Series(my_array)\n",
    "type(my_series)"
   ]
  },
  {
   "cell_type": "code",
   "execution_count": 9,
   "id": "463a8eda-3a6a-4074-a14e-661fb19da3e5",
   "metadata": {},
   "outputs": [
    {
     "data": {
      "text/plain": [
       "0     8.0\n",
       "1    13.0\n",
       "2    21.0\n",
       "dtype: float64"
      ]
     },
     "execution_count": 9,
     "metadata": {},
     "output_type": "execute_result"
    }
   ],
   "source": [
    "my_series"
   ]
  },
  {
   "cell_type": "markdown",
   "id": "2437f46b-0239-4828-a66e-2a328f0aad71",
   "metadata": {},
   "source": [
    "#### Creating a Series from a Dictionary"
   ]
  },
  {
   "cell_type": "code",
   "execution_count": 10,
   "id": "cc9ae763-194e-4d48-b3b2-66a4dae68def",
   "metadata": {},
   "outputs": [],
   "source": [
    "labeled_series = pd.Series({'a': 0, 'b': 1.5, 'c': 2, 'd': 3.5, 'e': 4, 'f': 5.5})"
   ]
  },
  {
   "cell_type": "code",
   "execution_count": 11,
   "id": "dfa87d41-1bdb-4f0b-87a9-df57d545fc4d",
   "metadata": {},
   "outputs": [
    {
     "data": {
      "text/plain": [
       "a    0.0\n",
       "b    1.5\n",
       "c    2.0\n",
       "d    3.5\n",
       "e    4.0\n",
       "f    5.5\n",
       "dtype: float64"
      ]
     },
     "execution_count": 11,
     "metadata": {},
     "output_type": "execute_result"
    }
   ],
   "source": [
    "labeled_series"
   ]
  },
  {
   "cell_type": "markdown",
   "id": "d5c6246d-f28d-447d-bdc9-c16f1b2fff49",
   "metadata": {},
   "source": [
    "#### Creating a Series from a DataFrame\n",
    "- data from pydataset imports various datasets, here, sleepstudy data"
   ]
  },
  {
   "cell_type": "code",
   "execution_count": 12,
   "id": "545b657c-efdd-4f15-8a72-afc173553172",
   "metadata": {},
   "outputs": [
    {
     "data": {
      "text/html": [
       "<div>\n",
       "<style scoped>\n",
       "    .dataframe tbody tr th:only-of-type {\n",
       "        vertical-align: middle;\n",
       "    }\n",
       "\n",
       "    .dataframe tbody tr th {\n",
       "        vertical-align: top;\n",
       "    }\n",
       "\n",
       "    .dataframe thead th {\n",
       "        text-align: right;\n",
       "    }\n",
       "</style>\n",
       "<table border=\"1\" class=\"dataframe\">\n",
       "  <thead>\n",
       "    <tr style=\"text-align: right;\">\n",
       "      <th></th>\n",
       "      <th>Reaction</th>\n",
       "      <th>Days</th>\n",
       "      <th>Subject</th>\n",
       "    </tr>\n",
       "  </thead>\n",
       "  <tbody>\n",
       "    <tr>\n",
       "      <th>1</th>\n",
       "      <td>249.5600</td>\n",
       "      <td>0</td>\n",
       "      <td>308</td>\n",
       "    </tr>\n",
       "    <tr>\n",
       "      <th>2</th>\n",
       "      <td>258.7047</td>\n",
       "      <td>1</td>\n",
       "      <td>308</td>\n",
       "    </tr>\n",
       "    <tr>\n",
       "      <th>3</th>\n",
       "      <td>250.8006</td>\n",
       "      <td>2</td>\n",
       "      <td>308</td>\n",
       "    </tr>\n",
       "    <tr>\n",
       "      <th>4</th>\n",
       "      <td>321.4398</td>\n",
       "      <td>3</td>\n",
       "      <td>308</td>\n",
       "    </tr>\n",
       "    <tr>\n",
       "      <th>5</th>\n",
       "      <td>356.8519</td>\n",
       "      <td>4</td>\n",
       "      <td>308</td>\n",
       "    </tr>\n",
       "  </tbody>\n",
       "</table>\n",
       "</div>"
      ],
      "text/plain": [
       "   Reaction  Days  Subject\n",
       "1  249.5600     0      308\n",
       "2  258.7047     1      308\n",
       "3  250.8006     2      308\n",
       "4  321.4398     3      308\n",
       "5  356.8519     4      308"
      ]
     },
     "execution_count": 12,
     "metadata": {},
     "output_type": "execute_result"
    }
   ],
   "source": [
    "sleep_df = data('sleepstudy')\n",
    "sleep_df.head()"
   ]
  },
  {
   "cell_type": "code",
   "execution_count": 13,
   "id": "804ad75b-1d25-4b9f-b748-5b5ffae8425c",
   "metadata": {},
   "outputs": [
    {
     "data": {
      "text/plain": [
       "pandas.core.series.Series"
      ]
     },
     "execution_count": 13,
     "metadata": {},
     "output_type": "execute_result"
    }
   ],
   "source": [
    "# two sytax options to choose a column from this DataFrame:\n",
    "# 1) df.columnname  2) df['columnname']\n",
    "# DataFrame's index is retained for the Series\n",
    "reaction_series = sleep_df.Reaction\n",
    "type(reaction_series)"
   ]
  },
  {
   "cell_type": "code",
   "execution_count": 14,
   "id": "34d4b811-233c-4e9d-8877-59b606d697f2",
   "metadata": {},
   "outputs": [
    {
     "data": {
      "text/plain": [
       "pandas.core.series.Series"
      ]
     },
     "execution_count": 14,
     "metadata": {},
     "output_type": "execute_result"
    }
   ],
   "source": [
    "days_series = sleep_df['Days']\n",
    "type(days_series)"
   ]
  },
  {
   "cell_type": "code",
   "execution_count": 15,
   "id": "9237988d-71af-4527-be4e-fe6db024e320",
   "metadata": {},
   "outputs": [
    {
     "data": {
      "text/plain": [
       "pandas.core.frame.DataFrame"
      ]
     },
     "execution_count": 15,
     "metadata": {},
     "output_type": "execute_result"
    }
   ],
   "source": [
    "# note that I could've created a single column DataFrame instead by using [[]]\n",
    "df_that_resembles_a_series = sleep_df[['Days']]\n",
    "type(df_that_resembles_a_series)"
   ]
  },
  {
   "cell_type": "code",
   "execution_count": 16,
   "id": "0c2d8f10-2315-41be-b937-2c99f2ceba78",
   "metadata": {},
   "outputs": [
    {
     "data": {
      "text/html": [
       "<div>\n",
       "<style scoped>\n",
       "    .dataframe tbody tr th:only-of-type {\n",
       "        vertical-align: middle;\n",
       "    }\n",
       "\n",
       "    .dataframe tbody tr th {\n",
       "        vertical-align: top;\n",
       "    }\n",
       "\n",
       "    .dataframe thead th {\n",
       "        text-align: right;\n",
       "    }\n",
       "</style>\n",
       "<table border=\"1\" class=\"dataframe\">\n",
       "  <thead>\n",
       "    <tr style=\"text-align: right;\">\n",
       "      <th></th>\n",
       "      <th>Days</th>\n",
       "    </tr>\n",
       "  </thead>\n",
       "  <tbody>\n",
       "    <tr>\n",
       "      <th>1</th>\n",
       "      <td>0</td>\n",
       "    </tr>\n",
       "    <tr>\n",
       "      <th>2</th>\n",
       "      <td>1</td>\n",
       "    </tr>\n",
       "    <tr>\n",
       "      <th>3</th>\n",
       "      <td>2</td>\n",
       "    </tr>\n",
       "    <tr>\n",
       "      <th>4</th>\n",
       "      <td>3</td>\n",
       "    </tr>\n",
       "    <tr>\n",
       "      <th>5</th>\n",
       "      <td>4</td>\n",
       "    </tr>\n",
       "    <tr>\n",
       "      <th>...</th>\n",
       "      <td>...</td>\n",
       "    </tr>\n",
       "    <tr>\n",
       "      <th>176</th>\n",
       "      <td>5</td>\n",
       "    </tr>\n",
       "    <tr>\n",
       "      <th>177</th>\n",
       "      <td>6</td>\n",
       "    </tr>\n",
       "    <tr>\n",
       "      <th>178</th>\n",
       "      <td>7</td>\n",
       "    </tr>\n",
       "    <tr>\n",
       "      <th>179</th>\n",
       "      <td>8</td>\n",
       "    </tr>\n",
       "    <tr>\n",
       "      <th>180</th>\n",
       "      <td>9</td>\n",
       "    </tr>\n",
       "  </tbody>\n",
       "</table>\n",
       "<p>180 rows × 1 columns</p>\n",
       "</div>"
      ],
      "text/plain": [
       "     Days\n",
       "1       0\n",
       "2       1\n",
       "3       2\n",
       "4       3\n",
       "5       4\n",
       "..    ...\n",
       "176     5\n",
       "177     6\n",
       "178     7\n",
       "179     8\n",
       "180     9\n",
       "\n",
       "[180 rows x 1 columns]"
      ]
     },
     "execution_count": 16,
     "metadata": {},
     "output_type": "execute_result"
    }
   ],
   "source": [
    "# note that the printed output is formatted differently than a Series\n",
    "df_that_resembles_a_series"
   ]
  },
  {
   "cell_type": "code",
   "execution_count": 17,
   "id": "79584bf3-a06c-4de5-bd21-cb0b51b364b8",
   "metadata": {},
   "outputs": [
    {
     "data": {
      "text/plain": [
       "1      0\n",
       "2      1\n",
       "3      2\n",
       "4      3\n",
       "5      4\n",
       "      ..\n",
       "176    5\n",
       "177    6\n",
       "178    7\n",
       "179    8\n",
       "180    9\n",
       "Name: Days, Length: 180, dtype: int64"
      ]
     },
     "execution_count": 17,
     "metadata": {},
     "output_type": "execute_result"
    }
   ],
   "source": [
    "days_series"
   ]
  },
  {
   "cell_type": "markdown",
   "id": "ac3a7c21-dd6b-44b3-b7ec-1e55b8b83004",
   "metadata": {},
   "source": [
    "#### Data types for Series or DataFrames:\n",
    "- `int` integers\n",
    "- `float` floating point decimal numbers\n",
    "- `bool` booleans -- True or False values\n",
    "- `object` the category for Python strings\n",
    "- `category` a fixed set of string values\n",
    "- a name. an optional human-friendly name for the series\n",
    "- inferring\n",
    "- using `astype()`"
   ]
  },
  {
   "cell_type": "markdown",
   "id": "d3e48515-ea55-419c-90e0-7d13a05bf18c",
   "metadata": {},
   "source": [
    "#### Inferring\n",
    "- pandas will infer the datatype when it can, e.g."
   ]
  },
  {
   "cell_type": "code",
   "execution_count": 18,
   "id": "afb163b4-3fa0-4b8e-b6f0-dc75a5b15439",
   "metadata": {},
   "outputs": [
    {
     "data": {
      "text/plain": [
       "0     True\n",
       "1    False\n",
       "2     True\n",
       "dtype: bool"
      ]
     },
     "execution_count": 18,
     "metadata": {},
     "output_type": "execute_result"
    }
   ],
   "source": [
    "# here it recognizes that I fed it a list of Booleans\n",
    "pd.Series([True, False, True])"
   ]
  },
  {
   "cell_type": "code",
   "execution_count": 19,
   "id": "71a1abf0-e483-4a62-97a2-75b2f23e6b54",
   "metadata": {},
   "outputs": [
    {
     "data": {
      "text/plain": [
       "0       I\n",
       "1    love\n",
       "2    lamp\n",
       "dtype: object"
      ]
     },
     "execution_count": 19,
     "metadata": {},
     "output_type": "execute_result"
    }
   ],
   "source": [
    "# here it inputs a list of strings as object type\n",
    "pd.Series(['I', 'love', 'lamp'])"
   ]
  },
  {
   "cell_type": "code",
   "execution_count": 20,
   "id": "9276942e-8b00-4010-bfca-0f79e01ffd37",
   "metadata": {},
   "outputs": [
    {
     "data": {
      "text/plain": [
       "0       1\n",
       "1       3\n",
       "2    five\n",
       "dtype: object"
      ]
     },
     "execution_count": 20,
     "metadata": {},
     "output_type": "execute_result"
    }
   ],
   "source": [
    "# here it sees a mixed type list and chooses object type since a series\n",
    "# must have a single datatype\n",
    "my_series = pd.Series([1, 3, 'five'])\n",
    "my_series"
   ]
  },
  {
   "cell_type": "code",
   "execution_count": 21,
   "id": "c2cf59b4-599b-45fe-9265-5e9ffcf7759b",
   "metadata": {},
   "outputs": [
    {
     "data": {
      "text/plain": [
       "0    1\n",
       "1    3\n",
       "dtype: object"
      ]
     },
     "execution_count": 21,
     "metadata": {},
     "output_type": "execute_result"
    }
   ],
   "source": [
    "# filter out 'five' from the Series and reassign\n",
    "my_new_series = my_series[my_series != 'five']\n",
    "my_new_series"
   ]
  },
  {
   "cell_type": "code",
   "execution_count": 22,
   "id": "82157ebe-2baa-44f0-a069-18510b54ae9e",
   "metadata": {},
   "outputs": [
    {
     "data": {
      "text/plain": [
       "0    1\n",
       "1    3\n",
       "dtype: int64"
      ]
     },
     "execution_count": 22,
     "metadata": {},
     "output_type": "execute_result"
    }
   ],
   "source": [
    "# now that we have only integers in the Series, we can cast to an \n",
    "# int datatype using the .astype() method:\n",
    "my_new_series.astype('int')"
   ]
  },
  {
   "cell_type": "code",
   "execution_count": 23,
   "id": "ffe2ba29-4e0c-48f9-96a1-ab1f97521c9d",
   "metadata": {},
   "outputs": [],
   "source": [
    "# when we try this on the original Series it doesn't work\n",
    "# my_series.astype('int')\n",
    "# uncomment to see error message"
   ]
  },
  {
   "cell_type": "code",
   "execution_count": 24,
   "id": "df4bccfa-9337-4996-b7ca-fc339dbf6f5a",
   "metadata": {},
   "outputs": [
    {
     "data": {
      "text/plain": [
       "1      308\n",
       "2      308\n",
       "3      308\n",
       "4      308\n",
       "5      308\n",
       "      ... \n",
       "176    372\n",
       "177    372\n",
       "178    372\n",
       "179    372\n",
       "180    372\n",
       "Name: Subject, Length: 180, dtype: object"
      ]
     },
     "execution_count": 24,
     "metadata": {},
     "output_type": "execute_result"
    }
   ],
   "source": [
    "# The Subject column in sleep study is actually an object representing a subject\n",
    "# makes sense to cast it as an 'object' (however, the argument for this is 'str')\n",
    "sleep_subj_series = sleep_df['Subject'].astype('str')\n",
    "sleep_subj_series"
   ]
  },
  {
   "cell_type": "markdown",
   "id": "54dd42a4-e293-45a5-bbd0-1cc1b0828141",
   "metadata": {},
   "source": [
    "#### Vectorized Series Operations\n",
    "- since a pandas Series is just a numpy array with an index bolted on, we can use arithmetic and comparison operator in the same way."
   ]
  },
  {
   "cell_type": "code",
   "execution_count": 25,
   "id": "e236be59-64f7-44a7-a518-8ebd70eac337",
   "metadata": {},
   "outputs": [
    {
     "data": {
      "text/plain": [
       "0    0\n",
       "1    1\n",
       "2    1\n",
       "3    2\n",
       "4    3\n",
       "dtype: int64"
      ]
     },
     "execution_count": 25,
     "metadata": {},
     "output_type": "execute_result"
    }
   ],
   "source": [
    "fibi_series = pd.Series([0, 1, 1, 2, 3, 5, 8])\n",
    "\n",
    "fibi_series.head()"
   ]
  },
  {
   "cell_type": "code",
   "execution_count": 26,
   "id": "345fa4f9-a943-4e46-baf1-e992a049fca9",
   "metadata": {},
   "outputs": [
    {
     "data": {
      "text/plain": [
       "0    1\n",
       "1    2\n",
       "2    2\n",
       "3    3\n",
       "4    4\n",
       "5    6\n",
       "6    9\n",
       "dtype: int64"
      ]
     },
     "execution_count": 26,
     "metadata": {},
     "output_type": "execute_result"
    }
   ],
   "source": [
    "fibi_series + 1"
   ]
  },
  {
   "cell_type": "code",
   "execution_count": 27,
   "id": "715da5ed-d969-4e89-ac4f-bf2f3e0fc653",
   "metadata": {},
   "outputs": [
    {
     "data": {
      "text/plain": [
       "0    0.0\n",
       "1    0.5\n",
       "2    0.5\n",
       "3    1.0\n",
       "4    1.5\n",
       "5    2.5\n",
       "6    4.0\n",
       "dtype: float64"
      ]
     },
     "execution_count": 27,
     "metadata": {},
     "output_type": "execute_result"
    }
   ],
   "source": [
    "fibi_series / 2"
   ]
  },
  {
   "cell_type": "code",
   "execution_count": 28,
   "id": "bb311793-7d50-4dcb-b379-b66a558690dd",
   "metadata": {},
   "outputs": [
    {
     "data": {
      "text/plain": [
       "0    0\n",
       "1    1\n",
       "2    1\n",
       "3    2\n",
       "4    3\n",
       "5    5\n",
       "6    8\n",
       "dtype: int64"
      ]
     },
     "execution_count": 28,
     "metadata": {},
     "output_type": "execute_result"
    }
   ],
   "source": [
    "# note you can see that the underlying Series values didn't change\n",
    "fibi_series"
   ]
  },
  {
   "cell_type": "code",
   "execution_count": 29,
   "id": "c30c3283-9c25-4846-a748-41015a5cc67b",
   "metadata": {},
   "outputs": [
    {
     "data": {
      "text/plain": [
       "0    False\n",
       "1    False\n",
       "2    False\n",
       "3    False\n",
       "4    False\n",
       "5     True\n",
       "6     True\n",
       "dtype: bool"
      ]
     },
     "execution_count": 29,
     "metadata": {},
     "output_type": "execute_result"
    }
   ],
   "source": [
    "fibi_series >= 5"
   ]
  },
  {
   "cell_type": "code",
   "execution_count": 30,
   "id": "35f6101d-dabe-43f9-ab48-216a5f1766e8",
   "metadata": {},
   "outputs": [
    {
     "data": {
      "text/plain": [
       "0    False\n",
       "1    False\n",
       "2    False\n",
       "3    False\n",
       "4    False\n",
       "5    False\n",
       "6     True\n",
       "dtype: bool"
      ]
     },
     "execution_count": 30,
     "metadata": {},
     "output_type": "execute_result"
    }
   ],
   "source": [
    "(fibi_series >= 3) & (fibi_series % 2 == 0)"
   ]
  },
  {
   "cell_type": "markdown",
   "id": "e296820c-5a5b-40b8-b39b-93294d0456f9",
   "metadata": {},
   "source": [
    "#### Series 'Attributes'\n",
    "- attributes are a sort of metadata about pandas objects\n",
    "- they are easily accessible using .notation withouth ()(unlike .methods())\n",
    "- in Jupyter, can see a list of attributes by pressing `tab` after `seriesname.`\n",
    "- `.index` allows us to reference the Series index\n",
    "- `.values` allows us to reference the values of the Series\n",
    "- `.dtype` allows us to reference the datatype of the Series\n",
    "- `.size` returns an int of the number of rows. NULL vals ARE included.\n",
    "- `.shape` returns a tuple representing rows, columns. NULL vals ARE included."
   ]
  },
  {
   "cell_type": "code",
   "execution_count": 31,
   "id": "ccc5a32b-814d-4f91-86ad-4d92ba74f6d1",
   "metadata": {},
   "outputs": [
    {
     "data": {
      "text/plain": [
       "dtype('int64')"
      ]
     },
     "execution_count": 31,
     "metadata": {},
     "output_type": "execute_result"
    }
   ],
   "source": [
    "fibi_series.dtype"
   ]
  },
  {
   "cell_type": "code",
   "execution_count": 32,
   "id": "350c76bd-ba57-4da9-bf5c-b3cfeb73b6a4",
   "metadata": {},
   "outputs": [
    {
     "data": {
      "text/plain": [
       "RangeIndex(start=0, stop=7, step=1)"
      ]
     },
     "execution_count": 32,
     "metadata": {},
     "output_type": "execute_result"
    }
   ],
   "source": [
    "fibi_series.index"
   ]
  },
  {
   "cell_type": "code",
   "execution_count": 33,
   "id": "3d4f09c3-f14b-4fa7-a8aa-7f7dc07b1657",
   "metadata": {},
   "outputs": [
    {
     "data": {
      "text/plain": [
       "array([0, 1, 1, 2, 3, 5, 8])"
      ]
     },
     "execution_count": 33,
     "metadata": {},
     "output_type": "execute_result"
    }
   ],
   "source": [
    "# note that the values are literally a numpy array\n",
    "fibi_series.values"
   ]
  },
  {
   "cell_type": "markdown",
   "id": "073332b0-570d-473a-881a-3e8f59472709",
   "metadata": {},
   "source": [
    "#### Series Methods\n",
    "- methods used on pandas Series often return new Series objects\n",
    "- most methods have default parameters to not overwrite original vals (inplace=True)"
   ]
  },
  {
   "cell_type": "markdown",
   "id": "7ebb23d7-bafa-4613-8c31-b38891455246",
   "metadata": {},
   "source": [
    "- `.head()` returns the 1st 5 rows of the series\n",
    "- `.tail()` returns the last 5\n",
    "- 5 is the default, can adjust with an int in the arguments i.e. `.head(10)`"
   ]
  },
  {
   "cell_type": "code",
   "execution_count": 34,
   "id": "e9c2b076-b558-4c3e-9644-30c0083104b4",
   "metadata": {},
   "outputs": [
    {
     "data": {
      "text/plain": [
       "(0    0\n",
       " 1    1\n",
       " 2    1\n",
       " 3    2\n",
       " 4    3\n",
       " dtype: int64,\n",
       " 5    5\n",
       " 6    8\n",
       " dtype: int64)"
      ]
     },
     "execution_count": 34,
     "metadata": {},
     "output_type": "execute_result"
    }
   ],
   "source": [
    "fibi_series.head(), fibi_series.tail(2)"
   ]
  },
  {
   "cell_type": "markdown",
   "id": "63dfe67f-32db-474c-a846-5d39bcabe90c",
   "metadata": {},
   "source": [
    "- `.sample()` returns a random sample of rows in the Series\n",
    "- n=1 by default, can put in any int\n",
    "- can exceed number of rows with argument replace=True"
   ]
  },
  {
   "cell_type": "code",
   "execution_count": 35,
   "id": "e33a0916-7524-490c-b9d5-084ee4482ad8",
   "metadata": {},
   "outputs": [
    {
     "data": {
      "text/plain": [
       "(5    5\n",
       " dtype: int64,\n",
       " 6    8\n",
       " 2    1\n",
       " 5    5\n",
       " dtype: int64,\n",
       " 0    0\n",
       " 2    1\n",
       " 4    3\n",
       " 5    5\n",
       " 2    1\n",
       " 1    1\n",
       " 2    1\n",
       " 5    5\n",
       " 4    3\n",
       " 0    0\n",
       " 2    1\n",
       " 1    1\n",
       " 6    8\n",
       " 3    2\n",
       " 4    3\n",
       " 1    1\n",
       " 1    1\n",
       " 2    1\n",
       " 5    5\n",
       " 3    2\n",
       " dtype: int64)"
      ]
     },
     "execution_count": 35,
     "metadata": {},
     "output_type": "execute_result"
    }
   ],
   "source": [
    "fibi_series.sample(), fibi_series.sample(3), fibi_series.sample(20, replace=True)"
   ]
  },
  {
   "cell_type": "markdown",
   "id": "3aa5ff06-a5c3-4774-89d8-b1cda2fa5dea",
   "metadata": {},
   "source": [
    "- `.value_counts()` counts number of records/items/rows containing each unique value (think 'group by' from MySQL)"
   ]
  },
  {
   "cell_type": "code",
   "execution_count": 36,
   "id": "8fd56650-a12b-4c4f-af81-a773a6fe91f0",
   "metadata": {},
   "outputs": [
    {
     "data": {
      "text/plain": [
       "0    18\n",
       "1    18\n",
       "2    18\n",
       "3    18\n",
       "4    18\n",
       "5    18\n",
       "6    18\n",
       "7    18\n",
       "8    18\n",
       "9    18\n",
       "Name: Days, dtype: int64"
      ]
     },
     "execution_count": 36,
     "metadata": {},
     "output_type": "execute_result"
    }
   ],
   "source": [
    "sleep_days_series = sleep_df.Days\n",
    "sleep_days_series.value_counts()"
   ]
  },
  {
   "cell_type": "markdown",
   "id": "a838b095-ef5c-4859-b4b9-8f56543edf29",
   "metadata": {},
   "source": [
    "- In MySQL this would look like:\n",
    "\n",
    "  SELECT Days, COUNT(Subject)<br>    FROM my_df<br>    GROUP BY Days;"
   ]
  },
  {
   "cell_type": "markdown",
   "id": "2b0aec75-6955-4056-9e47-b9c3718815c9",
   "metadata": {},
   "source": [
    "#### Descriptive Stats in pandas\n",
    "- pandas has a number of methods that can be used to view summary stats about our data. Below are some of the most common:\n",
    "|  Function\t |   Description   |\n",
    "|:------------|:--------------------------------|\n",
    "|count|\tNumber of non-NA observations|\n",
    "|sum|\tSum of values|\n",
    "|mean|\tMean of values|\n",
    "|median|\tArithmetic median of values|\n",
    "|min|\tMinimum|\n",
    "|max|\tMaximum|\n",
    "|mode|\tMode|\n",
    "|abs|\tAbsolute Value|\n",
    "|std|\tBessel-corrected sample standard deviation|\n",
    "|quantile|\tSample quantile (value at %)|"
   ]
  },
  {
   "cell_type": "code",
   "execution_count": 37,
   "id": "ab7c4d27-6621-4502-bb4d-3730df9b2610",
   "metadata": {},
   "outputs": [],
   "source": [
    "sleep_reaction_time = sleep_df.Reaction"
   ]
  },
  {
   "cell_type": "code",
   "execution_count": 38,
   "id": "0269ca70-0fb6-4ddd-9dac-5e471fb995df",
   "metadata": {},
   "outputs": [
    {
     "data": {
      "text/plain": [
       "{'count': 180,\n",
       " 'sum': 53731.42049999999,\n",
       " 'mean': 298.50789166666664,\n",
       " 'median': 288.6508}"
      ]
     },
     "execution_count": 38,
     "metadata": {},
     "output_type": "execute_result"
    }
   ],
   "source": [
    "{\n",
    "    'count': sleep_reaction_time.count(),\n",
    "    'sum': sleep_reaction_time.sum(),\n",
    "    'mean': sleep_reaction_time.mean(),\n",
    "    'median': sleep_reaction_time.median()\n",
    "}"
   ]
  },
  {
   "cell_type": "markdown",
   "id": "27c3425b-51d9-4565-9590-5cf3ce8300b4",
   "metadata": {},
   "source": [
    "- `.describe()` returns a series of descriptive stats on a Series (or DataFrame)\n",
    "- what it returns depends on the dtype of the values"
   ]
  },
  {
   "cell_type": "code",
   "execution_count": 39,
   "id": "11025fd2-aa96-4a5a-98a8-a435ea6946d3",
   "metadata": {},
   "outputs": [
    {
     "data": {
      "text/plain": [
       "count    180.000000\n",
       "mean     298.507892\n",
       "std       56.328757\n",
       "min      194.332200\n",
       "25%      255.375825\n",
       "50%      288.650800\n",
       "75%      336.752075\n",
       "max      466.353500\n",
       "Name: Reaction, dtype: float64"
      ]
     },
     "execution_count": 39,
     "metadata": {},
     "output_type": "execute_result"
    }
   ],
   "source": [
    "sleep_reaction_time.describe()"
   ]
  },
  {
   "cell_type": "code",
   "execution_count": 40,
   "id": "6226cced-f4f3-459b-a5e6-10ac76511e7a",
   "metadata": {},
   "outputs": [
    {
     "name": "stdout",
     "output_type": "stream",
     "text": [
      "0    0\n",
      "1    1\n",
      "2    1\n",
      "3    2\n",
      "4    3\n",
      "5    5\n",
      "6    8\n",
      "dtype: int64\n"
     ]
    },
    {
     "data": {
      "text/plain": [
       "count    7.000000\n",
       "mean     2.857143\n",
       "std      2.794553\n",
       "min      0.000000\n",
       "25%      1.000000\n",
       "50%      2.000000\n",
       "75%      4.000000\n",
       "max      8.000000\n",
       "dtype: float64"
      ]
     },
     "execution_count": 40,
     "metadata": {},
     "output_type": "execute_result"
    }
   ],
   "source": [
    "print(fibi_series)\n",
    "fibi_series.describe()"
   ]
  },
  {
   "cell_type": "markdown",
   "id": "9007824a-5bf5-4004-b19b-58052cb32b86",
   "metadata": {},
   "source": [
    "- `.nlargest()` returns n largest values in a Series\n",
    "- `.nsmallest()` returns n smallest values in a Series\n",
    "- defaults to 5, but can add `n=an_integer`\n",
    "- for duplicates, can add argument `keep='first', 'last', or 'all'`"
   ]
  },
  {
   "cell_type": "code",
   "execution_count": 41,
   "id": "c29a6ae9-4e13-4e2c-b452-d67070d6824a",
   "metadata": {},
   "outputs": [
    {
     "data": {
      "text/plain": [
       "6    8\n",
       "5    5\n",
       "4    3\n",
       "dtype: int64"
      ]
     },
     "execution_count": 41,
     "metadata": {},
     "output_type": "execute_result"
    }
   ],
   "source": [
    "fibi_series.nlargest(n=3, keep='first')"
   ]
  },
  {
   "cell_type": "code",
   "execution_count": 42,
   "id": "964c251e-ecae-4e81-b315-ffc693351078",
   "metadata": {},
   "outputs": [
    {
     "data": {
      "text/plain": [
       "0    0\n",
       "1    1\n",
       "2    1\n",
       "dtype: int64"
      ]
     },
     "execution_count": 42,
     "metadata": {},
     "output_type": "execute_result"
    }
   ],
   "source": [
    "fibi_series.nsmallest(n=2, keep='all')"
   ]
  },
  {
   "cell_type": "markdown",
   "id": "92773290-b73c-4d11-ab31-d7df4b0f196a",
   "metadata": {},
   "source": [
    "- `.sort_values()` sorts values defaulting to ascending=True\n",
    "- `.sort_index()` sorts index defaulting to ascending=True"
   ]
  },
  {
   "cell_type": "code",
   "execution_count": 43,
   "id": "a655039b-5f3b-4f8e-a836-371d1f3c70f4",
   "metadata": {},
   "outputs": [
    {
     "data": {
      "text/plain": [
       "180    364.1236\n",
       "179    369.1417\n",
       "178    343.2199\n",
       "177    334.4818\n",
       "176    329.6076\n",
       "         ...   \n",
       "5      356.8519\n",
       "4      321.4398\n",
       "3      250.8006\n",
       "2      258.7047\n",
       "1      249.5600\n",
       "Name: Reaction, Length: 180, dtype: float64"
      ]
     },
     "execution_count": 43,
     "metadata": {},
     "output_type": "execute_result"
    }
   ],
   "source": [
    "sleep_reaction_time.sort_index(ascending=False)"
   ]
  },
  {
   "cell_type": "markdown",
   "id": "53da37c6-d9c3-4172-b59c-428cbdb5cf08",
   "metadata": {},
   "source": [
    "#### [Pandas Series Exercises](https://ds.codeup.com/python/series/)"
   ]
  },
  {
   "cell_type": "code",
   "execution_count": 44,
   "id": "40d48592-a150-4b55-a587-641b445d82f6",
   "metadata": {},
   "outputs": [],
   "source": [
    "# make a pandas Series from a list of fruits\n",
    "fruits = pd.Series([\"kiwi\", \"mango\", \"strawberry\", \"pineapple\", \"gala apple\", \"honeycrisp apple\", \"tomato\", \"watermelon\", \"honeydew\", \"kiwi\", \"kiwi\", \"kiwi\", \"mango\", \"blueberry\", \"blackberry\", \"gooseberry\", \"papaya\"]\n",
    ")"
   ]
  },
  {
   "cell_type": "markdown",
   "id": "78df014b-201c-4508-b9cd-d733ce1b6795",
   "metadata": {},
   "source": [
    "1. Determine the number of elements in fruits."
   ]
  },
  {
   "cell_type": "code",
   "execution_count": 45,
   "id": "02aeef91-0123-4827-b1fe-cd7810974e51",
   "metadata": {},
   "outputs": [
    {
     "data": {
      "text/plain": [
       "17"
      ]
     },
     "execution_count": 45,
     "metadata": {},
     "output_type": "execute_result"
    }
   ],
   "source": [
    "len(fruits)"
   ]
  },
  {
   "cell_type": "code",
   "execution_count": 46,
   "id": "0cdbf54d-abd1-41ea-9ed9-c5cbc78ad267",
   "metadata": {},
   "outputs": [
    {
     "data": {
      "text/plain": [
       "17"
      ]
     },
     "execution_count": 46,
     "metadata": {},
     "output_type": "execute_result"
    }
   ],
   "source": [
    "fruits.size"
   ]
  },
  {
   "cell_type": "code",
   "execution_count": 47,
   "id": "a06008e4-0b71-40cc-ba1e-57c46d3b1b48",
   "metadata": {},
   "outputs": [
    {
     "data": {
      "text/plain": [
       "(RangeIndex(start=0, stop=17, step=1),\n",
       " array(['kiwi', 'mango', 'strawberry', 'pineapple', 'gala apple',\n",
       "        'honeycrisp apple', 'tomato', 'watermelon', 'honeydew', 'kiwi',\n",
       "        'kiwi', 'kiwi', 'mango', 'blueberry', 'blackberry', 'gooseberry',\n",
       "        'papaya'], dtype=object),\n",
       " (17,))"
      ]
     },
     "execution_count": 47,
     "metadata": {},
     "output_type": "execute_result"
    }
   ],
   "source": [
    "fruits.index, fruits.values, fruits.shape"
   ]
  },
  {
   "cell_type": "code",
   "execution_count": 48,
   "id": "d8365238-b482-4352-b4ce-7f53780b5abb",
   "metadata": {},
   "outputs": [
    {
     "data": {
      "text/plain": [
       "<bound method NDFrame.describe of 0                 kiwi\n",
       "1                mango\n",
       "2           strawberry\n",
       "3            pineapple\n",
       "4           gala apple\n",
       "5     honeycrisp apple\n",
       "6               tomato\n",
       "7           watermelon\n",
       "8             honeydew\n",
       "9                 kiwi\n",
       "10                kiwi\n",
       "11                kiwi\n",
       "12               mango\n",
       "13           blueberry\n",
       "14          blackberry\n",
       "15          gooseberry\n",
       "16              papaya\n",
       "dtype: object>"
      ]
     },
     "execution_count": 48,
     "metadata": {},
     "output_type": "execute_result"
    }
   ],
   "source": [
    "fruits.describe"
   ]
  },
  {
   "cell_type": "code",
   "execution_count": 49,
   "id": "364258a8-092f-4f2f-a2af-e80b4d7b2561",
   "metadata": {},
   "outputs": [
    {
     "data": {
      "text/plain": [
       "(0          kiwi\n",
       " 1         mango\n",
       " 2    strawberry\n",
       " 3     pineapple\n",
       " 4    gala apple\n",
       " dtype: object,\n",
       " 14    blackberry\n",
       " 15    gooseberry\n",
       " 16        papaya\n",
       " dtype: object,\n",
       " 5     honeycrisp apple\n",
       " 16              papaya\n",
       " dtype: object)"
      ]
     },
     "execution_count": 49,
     "metadata": {},
     "output_type": "execute_result"
    }
   ],
   "source": [
    "fruits.head(), fruits.tail(3), fruits.sample(2)"
   ]
  },
  {
   "cell_type": "code",
   "execution_count": 50,
   "id": "e94dc5a2-6a55-4a04-8599-da40f23f9652",
   "metadata": {},
   "outputs": [
    {
     "data": {
      "text/plain": [
       "array(['kiwi', 'mango', 'strawberry', 'pineapple', 'gala apple',\n",
       "       'honeycrisp apple', 'tomato', 'watermelon', 'honeydew',\n",
       "       'blueberry', 'blackberry', 'gooseberry', 'papaya'], dtype=object)"
      ]
     },
     "execution_count": 50,
     "metadata": {},
     "output_type": "execute_result"
    }
   ],
   "source": [
    "fruits.unique()"
   ]
  },
  {
   "cell_type": "code",
   "execution_count": 51,
   "id": "b15ecd68-eef1-4a80-b213-888d044be1c1",
   "metadata": {},
   "outputs": [
    {
     "data": {
      "text/plain": [
       "(13,)"
      ]
     },
     "execution_count": 51,
     "metadata": {},
     "output_type": "execute_result"
    }
   ],
   "source": [
    "fruits.unique().shape"
   ]
  },
  {
   "cell_type": "code",
   "execution_count": 52,
   "id": "7e913e17-93c2-47b8-93a0-db4d9ada4133",
   "metadata": {},
   "outputs": [
    {
     "data": {
      "text/plain": [
       "kiwi                4\n",
       "mango               2\n",
       "strawberry          1\n",
       "pineapple           1\n",
       "gala apple          1\n",
       "honeycrisp apple    1\n",
       "tomato              1\n",
       "watermelon          1\n",
       "honeydew            1\n",
       "blueberry           1\n",
       "blackberry          1\n",
       "gooseberry          1\n",
       "papaya              1\n",
       "dtype: int64"
      ]
     },
     "execution_count": 52,
     "metadata": {},
     "output_type": "execute_result"
    }
   ],
   "source": [
    "fruits.value_counts()"
   ]
  },
  {
   "cell_type": "code",
   "execution_count": 53,
   "id": "1dd351b8-3522-434a-9c59-674aa8fbd252",
   "metadata": {},
   "outputs": [
    {
     "data": {
      "text/plain": [
       "'kiwi'"
      ]
     },
     "execution_count": 53,
     "metadata": {},
     "output_type": "execute_result"
    }
   ],
   "source": [
    "# return the name of the fruit that occurs the most times\n",
    "fruits.value_counts().head(1).index[0]"
   ]
  },
  {
   "cell_type": "code",
   "execution_count": 54,
   "id": "a235220a-01c1-4ea8-b1c1-d0a9c97a6be3",
   "metadata": {},
   "outputs": [
    {
     "data": {
      "text/plain": [
       "['strawberry',\n",
       " 'pineapple',\n",
       " 'gala apple',\n",
       " 'honeycrisp apple',\n",
       " 'tomato',\n",
       " 'watermelon',\n",
       " 'honeydew',\n",
       " 'blueberry',\n",
       " 'blackberry',\n",
       " 'gooseberry',\n",
       " 'papaya']"
      ]
     },
     "execution_count": 54,
     "metadata": {},
     "output_type": "execute_result"
    }
   ],
   "source": [
    "# return the name of the fruit that occurs the least times\n",
    "fruits.value_counts().nsmallest(keep='all').index.tolist()"
   ]
  },
  {
   "cell_type": "markdown",
   "id": "4e1d65b8-8583-49a9-aab9-682a390e11aa",
   "metadata": {},
   "source": [
    "### Series Part II\n",
    "- Indexing and subseting\n",
    "- The .str attribute\n",
    "- Methods: `.any()` `.all` `.isin` `.apply`"
   ]
  },
  {
   "cell_type": "markdown",
   "id": "fa133170-4232-4a90-b14b-ef59a10b08a2",
   "metadata": {},
   "source": [
    "#### Subsetting and Indexing:\n",
    "- We can select subsets of our data using index labels, index position, or boolean sequences (list, array, Series).\n",
    "- We can also pass a sequence of boolean values to the indexing operator, []; that sequence could be a list or array, but it can also be another pandas Series **if the index of the boolean Series matches the original Series.**\n"
   ]
  },
  {
   "cell_type": "code",
   "execution_count": 55,
   "id": "4cda69f4-9a92-4996-9e7c-3fdc83ca3f53",
   "metadata": {},
   "outputs": [
    {
     "data": {
      "text/plain": [
       "0     False\n",
       "1     False\n",
       "2     False\n",
       "3     False\n",
       "4     False\n",
       "5      True\n",
       "6     False\n",
       "7      True\n",
       "8     False\n",
       "9     False\n",
       "10    False\n",
       "dtype: bool"
      ]
     },
     "execution_count": 55,
     "metadata": {},
     "output_type": "execute_result"
    }
   ],
   "source": [
    "pi_series = pd.Series([3, 1, 4, 1, 5, 9, 2, 6, 5, 3, 5])\n",
    "booleans = pi_series > 5\n",
    "booleans"
   ]
  },
  {
   "cell_type": "code",
   "execution_count": 56,
   "id": "5eab0aeb-9857-465c-b324-accdd73349ab",
   "metadata": {},
   "outputs": [
    {
     "data": {
      "text/plain": [
       "5    9\n",
       "7    6\n",
       "dtype: int64"
      ]
     },
     "execution_count": 56,
     "metadata": {},
     "output_type": "execute_result"
    }
   ],
   "source": [
    "pi_series[booleans]"
   ]
  },
  {
   "cell_type": "markdown",
   "id": "53582492-39fb-4f9a-9dd2-c88ce669becf",
   "metadata": {},
   "source": [
    "- I can pass my conditional expression into the indexing operator too."
   ]
  },
  {
   "cell_type": "code",
   "execution_count": 57,
   "id": "7263de4b-13e5-4a5e-ad4a-be8af365ac1f",
   "metadata": {},
   "outputs": [
    {
     "data": {
      "text/plain": [
       "5    9\n",
       "7    6\n",
       "dtype: int64"
      ]
     },
     "execution_count": 57,
     "metadata": {},
     "output_type": "execute_result"
    }
   ],
   "source": [
    "pi_series[pi_series > 5]"
   ]
  },
  {
   "cell_type": "markdown",
   "id": "5f760950-f39b-4ba5-a5b0-0a4c16402b13",
   "metadata": {},
   "source": [
    "- to create compound logical statements to narrow/expand our subset\n",
    "- wrap parens around each comparison, then use `|` for OR, and `&` for AND"
   ]
  },
  {
   "cell_type": "code",
   "execution_count": 58,
   "id": "f1fab4ef-a7ac-4063-ae32-f9b2aac66b0f",
   "metadata": {},
   "outputs": [
    {
     "data": {
      "text/plain": [
       "2    4\n",
       "5    9\n",
       "6    2\n",
       "7    6\n",
       "dtype: int64"
      ]
     },
     "execution_count": 58,
     "metadata": {},
     "output_type": "execute_result"
    }
   ],
   "source": [
    "# Find the numbers that are even or greater than 5:\n",
    "pi_series[(pi_series % 2 == 0) | (pi_series > 5)]"
   ]
  },
  {
   "cell_type": "markdown",
   "id": "f757e0bc-073a-49e6-b838-a918efba0983",
   "metadata": {},
   "source": [
    "Let's use subsetting to find all response times that are in the 4th quartile of response times.\n",
    "\n",
    "1. identify the value at the 75th percentile using describe and subsetting using the row name '75%'.\n",
    "1. subset the series using that value in a conditional statement (where 'values' > 'q3')"
   ]
  },
  {
   "cell_type": "code",
   "execution_count": 59,
   "id": "8e939d99-33fa-4084-add6-2dada719f522",
   "metadata": {},
   "outputs": [
    {
     "data": {
      "text/plain": [
       "count    180.000000\n",
       "mean       4.975132\n",
       "std        0.938813\n",
       "min        3.238870\n",
       "25%        4.256264\n",
       "50%        4.810847\n",
       "75%        5.612535\n",
       "max        7.772558\n",
       "Name: Reaction, dtype: float64"
      ]
     },
     "execution_count": 59,
     "metadata": {},
     "output_type": "execute_result"
    }
   ],
   "source": [
    "# change this from seconds to minutes for interpretability\n",
    "sleep_reaction_minutes = sleep_reaction_time / 60\n",
    "sleep_reaction_minutes.describe()"
   ]
  },
  {
   "cell_type": "code",
   "execution_count": 60,
   "id": "5902cdcb-2273-487a-82ea-b79d7ffe658d",
   "metadata": {},
   "outputs": [
    {
     "data": {
      "text/plain": [
       "pandas.core.series.Series"
      ]
     },
     "execution_count": 60,
     "metadata": {},
     "output_type": "execute_result"
    }
   ],
   "source": [
    "# .describe produces a series so we can use the index to call values\n",
    "type(sleep_reaction_minutes.describe())"
   ]
  },
  {
   "cell_type": "code",
   "execution_count": 63,
   "id": "d3bba4e6-15b0-4f52-ab2e-9782b77d2cd8",
   "metadata": {},
   "outputs": [],
   "source": [
    "q3 = sleep_reaction_minutes.describe()['75%']"
   ]
  },
  {
   "cell_type": "code",
   "execution_count": 65,
   "id": "74639aaf-e67f-451b-871b-215f4863a19f",
   "metadata": {},
   "outputs": [
    {
     "data": {
      "text/plain": [
       "5     5.947532\n",
       "6     6.911502\n",
       "7     6.370063\n",
       "9     7.176422\n",
       "10    7.772558\n",
       "Name: Reaction, dtype: float64"
      ]
     },
     "execution_count": 65,
     "metadata": {},
     "output_type": "execute_result"
    }
   ],
   "source": [
    "sleep_reaction_minutes[sleep_reaction_minutes > q3].head()"
   ]
  },
  {
   "cell_type": "markdown",
   "id": "bc05a372-204c-4733-9a15-32f6141a989b",
   "metadata": {},
   "source": [
    "#### The .str attribute\n",
    "- In addition to vectorized arithmetic operations, pandas also provides us with a way to vectorize string manipulation.\n",
    "- Once we access the .str attribute, we can apply string methods to string values in a Series\n",
    "- This kind of string manipulation does NOT mutate the underlying Series.\n",
    "- One must assign the manipulation to a variable to keep it."
   ]
  },
  {
   "cell_type": "code",
   "execution_count": 66,
   "id": "cbb087ac-62e7-4319-9336-f70c1ab64dd4",
   "metadata": {},
   "outputs": [
    {
     "data": {
      "text/plain": [
       "0          adam\n",
       "1          adam\n",
       "2        andrew\n",
       "3        carina\n",
       "4          john\n",
       "5          john\n",
       "6     madeleine\n",
       "7         misty\n",
       "8      margaret\n",
       "9          ryan\n",
       "10        tasha\n",
       "dtype: object"
      ]
     },
     "execution_count": 66,
     "metadata": {},
     "output_type": "execute_result"
    }
   ],
   "source": [
    "# use the .lower method to convert each string value to lowercase\n",
    "ds_team_series = pd.Series(['Adam', 'Adam', 'Andrew', 'Carina', 'John', 'John', \n",
    "                            'Madeleine', 'Misty', 'Margaret', 'Ryan', 'Tasha'\n",
    "                           ])\n",
    "ds_team_series.str.lower()"
   ]
  },
  {
   "cell_type": "code",
   "execution_count": 67,
   "id": "23923647-bf5e-4f62-b71a-3c8fe0a22d36",
   "metadata": {},
   "outputs": [],
   "source": [
    "ds_team_series = ds_team_series.str.replace('rgaret', 'ggie')"
   ]
  },
  {
   "cell_type": "code",
   "execution_count": 68,
   "id": "53e6de14-3aa9-44c2-902a-e24d0a9ee505",
   "metadata": {},
   "outputs": [
    {
     "data": {
      "text/plain": [
       "0          Adam\n",
       "1          Adam\n",
       "2        Andrew\n",
       "3        Carina\n",
       "4          John\n",
       "5          John\n",
       "6     Madeleine\n",
       "7         Misty\n",
       "8        Maggie\n",
       "9          Ryan\n",
       "10        Tasha\n",
       "dtype: object"
      ]
     },
     "execution_count": 68,
     "metadata": {},
     "output_type": "execute_result"
    }
   ],
   "source": [
    "ds_team_series"
   ]
  },
  {
   "cell_type": "code",
   "execution_count": 69,
   "id": "18861e0f-31a8-4132-8fb5-8504245f2e17",
   "metadata": {},
   "outputs": [
    {
     "data": {
      "text/plain": [
       "0       Hello\n",
       "1      CodeuP\n",
       "2    StUDenTs\n",
       "dtype: object"
      ]
     },
     "execution_count": 69,
     "metadata": {},
     "output_type": "execute_result"
    }
   ],
   "source": [
    "string_series = pd.Series(['Hello', 'CodeuP', 'StUDenTs'])\n",
    "string_series"
   ]
  },
  {
   "cell_type": "code",
   "execution_count": 70,
   "id": "7e6a7b01-32d2-49a0-a2c6-c51a22c291d7",
   "metadata": {},
   "outputs": [
    {
     "data": {
      "text/plain": [
       "0       hello\n",
       "1      codeup\n",
       "2    students\n",
       "dtype: object"
      ]
     },
     "execution_count": 70,
     "metadata": {},
     "output_type": "execute_result"
    }
   ],
   "source": [
    "string_series.str.lower()"
   ]
  },
  {
   "cell_type": "code",
   "execution_count": 71,
   "id": "ef790c9c-745c-4655-b7ad-3b49fe654a85",
   "metadata": {},
   "outputs": [
    {
     "data": {
      "text/plain": [
       "0       H_llo\n",
       "1      Cod_uP\n",
       "2    StUD_nTs\n",
       "dtype: object"
      ]
     },
     "execution_count": 71,
     "metadata": {},
     "output_type": "execute_result"
    }
   ],
   "source": [
    "string_series.str.replace('e', '_')"
   ]
  },
  {
   "cell_type": "markdown",
   "id": "056fb128-119e-42a6-998f-177ad7a302a3",
   "metadata": {},
   "source": [
    "#### Method Chaining\n",
    "- Since each method returns a Series, they can be chained together like this:"
   ]
  },
  {
   "cell_type": "code",
   "execution_count": 72,
   "id": "03c5f381-a545-42b8-9bee-68a42c19e55e",
   "metadata": {},
   "outputs": [
    {
     "data": {
      "text/plain": [
       "0       h_llo\n",
       "1      cod_up\n",
       "2    stud_nts\n",
       "dtype: object"
      ]
     },
     "execution_count": 72,
     "metadata": {},
     "output_type": "execute_result"
    }
   ],
   "source": [
    "string_series.str.lower().str.replace('e', '_')"
   ]
  },
  {
   "cell_type": "markdown",
   "id": "9d661b6b-f0a4-4499-8d82-4be14a4738ea",
   "metadata": {},
   "source": [
    "- Can even use method chaining and indexing together:"
   ]
  },
  {
   "cell_type": "code",
   "execution_count": 73,
   "id": "6b0e527f-1197-4486-a1e1-a4073716e5a7",
   "metadata": {},
   "outputs": [
    {
     "data": {
      "text/plain": [
       "0    Hello\n",
       "dtype: object"
      ]
     },
     "execution_count": 73,
     "metadata": {},
     "output_type": "execute_result"
    }
   ],
   "source": [
    "string_series[string_series.str.lower().str.startswith('h')]"
   ]
  },
  {
   "cell_type": "markdown",
   "id": "e861033d-b5f0-4a3f-84d4-b2cc45ea1567",
   "metadata": {},
   "source": [
    "#### More Series Methods"
   ]
  },
  {
   "cell_type": "markdown",
   "id": "c64c0781-18df-486d-bb32-8b9b7318ccbb",
   "metadata": {},
   "source": [
    "`.any()`: returns a single boolean...do any values in the series meet the condition?"
   ]
  },
  {
   "cell_type": "code",
   "execution_count": 74,
   "id": "dc27b5ac-a329-43c0-bbeb-130970a5cea0",
   "metadata": {},
   "outputs": [
    {
     "data": {
      "text/plain": [
       "True"
      ]
     },
     "execution_count": 74,
     "metadata": {},
     "output_type": "execute_result"
    }
   ],
   "source": [
    "(fibi_series > 3).any()"
   ]
  },
  {
   "cell_type": "markdown",
   "id": "11a10de2-68ab-4c82-82c7-0a2fd6faed0a",
   "metadata": {},
   "source": [
    "`.all()`: returns a single boolean...do all values in the Series meet the condition?"
   ]
  },
  {
   "cell_type": "code",
   "execution_count": 75,
   "id": "e51815df-4266-4dad-b678-99728b3cde7e",
   "metadata": {},
   "outputs": [
    {
     "data": {
      "text/plain": [
       "False"
      ]
     },
     "execution_count": 75,
     "metadata": {},
     "output_type": "execute_result"
    }
   ],
   "source": [
    "(fibi_series > 3).all()"
   ]
  },
  {
   "cell_type": "markdown",
   "id": "dfe0ba23-9c9b-447a-a809-43f915fa62fa",
   "metadata": {},
   "source": [
    "`.isin()`: comparing string of each item in Series to a list of strings. Is the string in your series found in the list of strings? Returns a Series of boolean values."
   ]
  },
  {
   "cell_type": "code",
   "execution_count": 77,
   "id": "2cd3dc80-3d23-481c-bc48-ec87df453815",
   "metadata": {},
   "outputs": [
    {
     "data": {
      "text/plain": [
       "False    13\n",
       "True      7\n",
       "dtype: int64"
      ]
     },
     "execution_count": 77,
     "metadata": {},
     "output_type": "execute_result"
    }
   ],
   "source": [
    "# Use .isin() to tell whether each value is in a set of known values.\n",
    "vowels = list('aeiouy')\n",
    "letters = list('abcdefghijkeliminnow')\n",
    "letters_series = pd.Series(letters)\n",
    "letters_series.isin(vowels).value_counts()"
   ]
  },
  {
   "cell_type": "code",
   "execution_count": 78,
   "id": "7bafa764-2cc8-432f-bda7-1a633f4183a2",
   "metadata": {},
   "outputs": [
    {
     "data": {
      "text/plain": [
       "['a',\n",
       " 'b',\n",
       " 'c',\n",
       " 'd',\n",
       " 'e',\n",
       " 'f',\n",
       " 'g',\n",
       " 'h',\n",
       " 'i',\n",
       " 'j',\n",
       " 'k',\n",
       " 'e',\n",
       " 'l',\n",
       " 'i',\n",
       " 'm',\n",
       " 'i',\n",
       " 'n',\n",
       " 'n',\n",
       " 'o',\n",
       " 'w']"
      ]
     },
     "execution_count": 78,
     "metadata": {},
     "output_type": "execute_result"
    }
   ],
   "source": [
    "letters"
   ]
  },
  {
   "cell_type": "code",
   "execution_count": 81,
   "id": "fba2a834-5946-4a76-8fa5-ea848c86489b",
   "metadata": {},
   "outputs": [
    {
     "data": {
      "text/plain": [
       "0     a\n",
       "4     e\n",
       "8     i\n",
       "11    e\n",
       "13    i\n",
       "15    i\n",
       "18    o\n",
       "dtype: object"
      ]
     },
     "execution_count": 81,
     "metadata": {},
     "output_type": "execute_result"
    }
   ],
   "source": [
    "# filter our list of letters to only vowels by subsetting w/ a conditional\n",
    "letters_series[letters_series.isin(vowels)]"
   ]
  },
  {
   "cell_type": "markdown",
   "id": "6f6403e9-1828-4569-b493-e118da8989d0",
   "metadata": {},
   "source": [
    "`.apply`: apply a function to each item in a Series\n",
    "- define the function -> series.apply(fcn)\n",
    "- using a lambda: series.apply(lambda n:)"
   ]
  },
  {
   "cell_type": "code",
   "execution_count": 83,
   "id": "f5c8f05e-7a6a-4dec-817d-24dacec77273",
   "metadata": {},
   "outputs": [],
   "source": [
    "# Create a function that we will later pass with .apply()\n",
    "\n",
    "def even_or_odd(n):\n",
    "    '''\n",
    "    This function takes in a number and returns a string indicating\n",
    "    whether the passed number is even or odd.\n",
    "    '''\n",
    "    if n % 2 == 0:\n",
    "        return 'even'\n",
    "    else:\n",
    "        return 'odd'"
   ]
  },
  {
   "cell_type": "code",
   "execution_count": 84,
   "id": "6e0cd896-9f6c-4300-b53b-a9c39f0d3cf7",
   "metadata": {},
   "outputs": [
    {
     "data": {
      "text/plain": [
       "0    even\n",
       "1     odd\n",
       "2     odd\n",
       "3    even\n",
       "4     odd\n",
       "5     odd\n",
       "6    even\n",
       "dtype: object"
      ]
     },
     "execution_count": 84,
     "metadata": {},
     "output_type": "execute_result"
    }
   ],
   "source": [
    "fibi_series.apply(even_or_odd)"
   ]
  },
  {
   "cell_type": "code",
   "execution_count": 87,
   "id": "2d663323-5925-4206-a1ef-523a89bdcf58",
   "metadata": {},
   "outputs": [
    {
     "data": {
      "text/plain": [
       "0    even\n",
       "1     odd\n",
       "2     odd\n",
       "3    even\n",
       "4     odd\n",
       "5     odd\n",
       "6    even\n",
       "dtype: object"
      ]
     },
     "execution_count": 87,
     "metadata": {},
     "output_type": "execute_result"
    }
   ],
   "source": [
    "# using a lambda function:\n",
    "fibi_series.apply(lambda x: 'even' if x % 2 == 0 else 'odd')"
   ]
  },
  {
   "cell_type": "markdown",
   "id": "e03220b0-b146-4067-848d-60c4b13b05b2",
   "metadata": {},
   "source": [
    "### Exercises Part II"
   ]
  },
  {
   "cell_type": "code",
   "execution_count": 88,
   "id": "30567107-830c-49b0-8206-553fbb4197d1",
   "metadata": {},
   "outputs": [
    {
     "data": {
      "text/plain": [
       "0                 KIWI\n",
       "1                MANGO\n",
       "2           STRAWBERRY\n",
       "3            PINEAPPLE\n",
       "4           GALA APPLE\n",
       "5     HONEYCRISP APPLE\n",
       "6               TOMATO\n",
       "7           WATERMELON\n",
       "8             HONEYDEW\n",
       "9                 KIWI\n",
       "10                KIWI\n",
       "11                KIWI\n",
       "12               MANGO\n",
       "13           BLUEBERRY\n",
       "14          BLACKBERRY\n",
       "15          GOOSEBERRY\n",
       "16              PAPAYA\n",
       "dtype: object"
      ]
     },
     "execution_count": 88,
     "metadata": {},
     "output_type": "execute_result"
    }
   ],
   "source": [
    "fruits.str.upper()"
   ]
  },
  {
   "cell_type": "code",
   "execution_count": 105,
   "id": "b6a55b8c-7178-4a18-a35c-8aceb0edd20d",
   "metadata": {},
   "outputs": [
    {
     "data": {
      "text/plain": [
       "0     0\n",
       "1     1\n",
       "2     1\n",
       "3     1\n",
       "4     3\n",
       "5     1\n",
       "6     1\n",
       "7     1\n",
       "8     0\n",
       "9     0\n",
       "10    0\n",
       "11    0\n",
       "12    1\n",
       "13    0\n",
       "14    1\n",
       "15    0\n",
       "16    3\n",
       "dtype: int64"
      ]
     },
     "execution_count": 105,
     "metadata": {},
     "output_type": "execute_result"
    }
   ],
   "source": [
    "# count the number of 'a' in each string using string vectorization\n",
    "fruits.str.lower().str.count('a')"
   ]
  },
  {
   "cell_type": "code",
   "execution_count": 110,
   "id": "0e5b1ecb-38a7-405b-b9a5-c34a075ef53c",
   "metadata": {},
   "outputs": [
    {
     "data": {
      "text/plain": [
       "0     2\n",
       "1     2\n",
       "2     2\n",
       "3     4\n",
       "4     4\n",
       "5     5\n",
       "6     3\n",
       "7     4\n",
       "8     3\n",
       "9     2\n",
       "10    2\n",
       "11    2\n",
       "12    2\n",
       "13    3\n",
       "14    2\n",
       "15    4\n",
       "16    3\n",
       "dtype: int64"
      ]
     },
     "execution_count": 110,
     "metadata": {},
     "output_type": "execute_result"
    }
   ],
   "source": [
    "# Output the number of vowels in each and every string value\n",
    "# Using count here with a regular expression\n",
    "fruits.str.count('[aeiouAEIOU]')"
   ]
  },
  {
   "cell_type": "code",
   "execution_count": 114,
   "id": "7a329322-650a-4a86-b129-d118556308a6",
   "metadata": {},
   "outputs": [
    {
     "data": {
      "text/plain": [
       "0      4\n",
       "1      5\n",
       "2     10\n",
       "3      9\n",
       "4      9\n",
       "5     15\n",
       "6      6\n",
       "7     10\n",
       "8      8\n",
       "9      4\n",
       "10     4\n",
       "11     4\n",
       "12     5\n",
       "13     9\n",
       "14    10\n",
       "15    10\n",
       "16     6\n",
       "dtype: int64"
      ]
     },
     "execution_count": 114,
     "metadata": {},
     "output_type": "execute_result"
    }
   ],
   "source": [
    "# count the number of letters in every fruit\n",
    "fruits.str.count('[\\w]')"
   ]
  },
  {
   "cell_type": "code",
   "execution_count": 121,
   "id": "b91d468f-2488-4f57-ba6d-0821b94bd182",
   "metadata": {},
   "outputs": [
    {
     "data": {
      "text/plain": [
       "5    honeycrisp apple\n",
       "dtype: object"
      ]
     },
     "execution_count": 121,
     "metadata": {},
     "output_type": "execute_result"
    }
   ],
   "source": [
    "# write the code to get the longest string value\n",
    "fruits[fruits.str.count('[\\w]') == (fruits.str.count('[\\w]').max())]"
   ]
  },
  {
   "cell_type": "code",
   "execution_count": 144,
   "id": "74e6b7e9-6549-40c1-8847-78df522180a1",
   "metadata": {},
   "outputs": [
    {
     "data": {
      "text/plain": [
       "6         tomato\n",
       "15    gooseberry\n",
       "dtype: object"
      ]
     },
     "execution_count": 144,
     "metadata": {},
     "output_type": "execute_result"
    }
   ],
   "source": [
    "# which strings have two or more 'o's?\n",
    "fruits[fruits.str.count('[o]') >= 2]"
   ]
  },
  {
   "cell_type": "code",
   "execution_count": 143,
   "id": "67ff4e4e-519e-410d-a8cd-35bcdc13879e",
   "metadata": {},
   "outputs": [
    {
     "data": {
      "text/plain": [
       "2     strawberry\n",
       "13     blueberry\n",
       "14    blackberry\n",
       "15    gooseberry\n",
       "dtype: object"
      ]
     },
     "execution_count": 143,
     "metadata": {},
     "output_type": "execute_result"
    }
   ],
   "source": [
    "# which strings contain 'berry'?\n",
    "fruits[fruits.str.contains('berry')]"
   ]
  },
  {
   "cell_type": "code",
   "execution_count": 142,
   "id": "4cd81d22-7220-4000-b163-4526ca1b2576",
   "metadata": {},
   "outputs": [
    {
     "data": {
      "text/plain": [
       "3           pineapple\n",
       "4          gala apple\n",
       "5    honeycrisp apple\n",
       "dtype: object"
      ]
     },
     "execution_count": 142,
     "metadata": {},
     "output_type": "execute_result"
    }
   ],
   "source": [
    "# which strings contain 'apple'?\n",
    "fruits[fruits.str.contains('apple')]"
   ]
  },
  {
   "cell_type": "code",
   "execution_count": 141,
   "id": "6170c37e-bfa3-46bc-8305-fd17ab87d071",
   "metadata": {},
   "outputs": [
    {
     "data": {
      "text/plain": [
       "5    honeycrisp apple\n",
       "dtype: object"
      ]
     },
     "execution_count": 141,
     "metadata": {},
     "output_type": "execute_result"
    }
   ],
   "source": [
    "# which string contains the most vowels?\n",
    "fruits[fruits.str.count('[aeiouaeiou]') == fruits.str.count('[aeiouAEIOU]').max()]"
   ]
  },
  {
   "cell_type": "code",
   "execution_count": 145,
   "id": "1eeac358-e30b-4efa-a8e4-33009e5dc38b",
   "metadata": {},
   "outputs": [],
   "source": [
    "# make sure this catches duplicate maxes\n",
    "fruits_e = fruits.str.replace('pineapple', 'pineapplee')"
   ]
  },
  {
   "cell_type": "code",
   "execution_count": 146,
   "id": "d263187b-6731-4b89-8d6b-c44489168daf",
   "metadata": {},
   "outputs": [
    {
     "data": {
      "text/plain": [
       "3          pineapplee\n",
       "5    honeycrisp apple\n",
       "dtype: object"
      ]
     },
     "execution_count": 146,
     "metadata": {},
     "output_type": "execute_result"
    }
   ],
   "source": [
    "fruits_e[fruits_e.str.count('[aeiouAEIOU]') == fruits_e.str.count('[aeiouAEIOU]').max()]"
   ]
  },
  {
   "cell_type": "markdown",
   "id": "b70c73e4-0694-42f7-b3ce-cbd5fdf2d2ad",
   "metadata": {},
   "source": [
    "## Series Part II\n",
    "- Binning\n",
    "- Plotting"
   ]
  },
  {
   "cell_type": "markdown",
   "id": "6c79e32d-ce85-400b-8599-9c4a6ac4743f",
   "metadata": {},
   "source": [
    "#### Numerical to Categorical Values - Binning & Cutting\n",
    "- `pd.cut(series, bins=n)` will put numerical values into discrete bins.\n",
    "- this is useful when we want to turn continuous values into categorical values\n",
    "- pandas will default to n bins of equal size.\n",
    "- We can specify the bin edges ourselves by passing a list of bin edges"
   ]
  },
  {
   "cell_type": "code",
   "execution_count": 148,
   "id": "4c12b1d9-b99f-41cf-8973-69d8c778bcbc",
   "metadata": {},
   "outputs": [],
   "source": [
    "# Create bins of equal intervals\n",
    "reaction_bins_series = pd.cut(sleep_reaction_minutes, 4)"
   ]
  },
  {
   "cell_type": "code",
   "execution_count": 151,
   "id": "3f54bae7-633f-4086-95c2-a26c464c33f2",
   "metadata": {},
   "outputs": [
    {
     "data": {
      "text/plain": [
       "(4.372, 5.506]    75\n",
       "(3.234, 4.372]    53\n",
       "(5.506, 6.639]    44\n",
       "(6.639, 7.773]     8\n",
       "Name: Reaction, dtype: int64"
      ]
     },
     "execution_count": 151,
     "metadata": {},
     "output_type": "execute_result"
    }
   ],
   "source": [
    "# look at the bins and number of values per bin\n",
    "# bottom edge of the bin is exclusive )(\n",
    "# top edge of the bin is inclusive ][\n",
    "# can pass the argument right=False to reverse this\n",
    "# The behavior can be altered by the include_lowest parameter, which, if set to\n",
    "# True, will make the left endpoint inclusive as well.\n",
    "reaction_bins_series.value_counts()"
   ]
  },
  {
   "cell_type": "code",
   "execution_count": 156,
   "id": "dc81fa51-5fe6-439b-84f1-ca0a1e5e23cd",
   "metadata": {},
   "outputs": [],
   "source": [
    "# set the bins manually\n",
    "# note that I made the left value inclusive and right exclusive\n",
    "reaction_bins_series = pd.cut(sleep_reaction_minutes, [3, 4, 5, 6, 7, 8], right=False)"
   ]
  },
  {
   "cell_type": "code",
   "execution_count": 157,
   "id": "d67d44ec-daae-4dbc-adf3-c02ca215dd73",
   "metadata": {},
   "outputs": [
    {
     "data": {
      "text/plain": [
       "[4, 5)    74\n",
       "[5, 6)    51\n",
       "[3, 4)    28\n",
       "[6, 7)    22\n",
       "[7, 8)     5\n",
       "Name: Reaction, dtype: int64"
      ]
     },
     "execution_count": 157,
     "metadata": {},
     "output_type": "execute_result"
    }
   ],
   "source": [
    "reaction_bins_series.value_counts()"
   ]
  },
  {
   "cell_type": "markdown",
   "id": "7ace745a-9577-4aba-858e-0d0e811edd31",
   "metadata": {},
   "source": [
    "- The `value_counts()` method can also cut values using bins.\n",
    "- Use the `bins=n` argument like this:"
   ]
  },
  {
   "cell_type": "code",
   "execution_count": 158,
   "id": "d1ea60d9-9616-43ee-959d-d00084d8230b",
   "metadata": {},
   "outputs": [
    {
     "data": {
      "text/plain": [
       "(4.146, 5.052]    70\n",
       "(5.052, 5.959]    48\n",
       "(3.233, 4.146]    35\n",
       "(5.959, 6.866]    20\n",
       "(6.866, 7.773]     7\n",
       "Name: Reaction, dtype: int64"
      ]
     },
     "execution_count": 158,
     "metadata": {},
     "output_type": "execute_result"
    }
   ],
   "source": [
    "sleep_reaction_minutes.value_counts(bins=5)"
   ]
  },
  {
   "cell_type": "code",
   "execution_count": 160,
   "id": "354b5570-0f50-4588-bf3f-cae6cce9314c",
   "metadata": {},
   "outputs": [
    {
     "data": {
      "text/plain": [
       "4.159333    1\n",
       "4.258785    1\n",
       "5.495412    1\n",
       "6.324075    1\n",
       "6.048640    1\n",
       "           ..\n",
       "4.825917    1\n",
       "4.612822    1\n",
       "4.996828    1\n",
       "4.952850    1\n",
       "6.068727    1\n",
       "Name: Reaction, Length: 180, dtype: int64"
      ]
     },
     "execution_count": 160,
     "metadata": {},
     "output_type": "execute_result"
    }
   ],
   "source": [
    "# vs. without the bins where it's not very useful\n",
    "sleep_reaction_minutes.value_counts()"
   ]
  },
  {
   "cell_type": "markdown",
   "id": "b57eca5a-9d5e-46c8-962e-4d02257d95f8",
   "metadata": {},
   "source": [
    "#### Plotting\n",
    "- The `.plot()` pandas method allows us to quickly visualize the data in a Series. It's built on top of Matplotlib.\n",
    "- By default, Matplotlib will choose the best type of plot for us.\n",
    "- We can also customize our plot using the parameters of the .plot method or by using Matplotlib."
   ]
  },
  {
   "cell_type": "code",
   "execution_count": 161,
   "id": "60a40c51-e807-431b-b1da-7f1b016b1a10",
   "metadata": {},
   "outputs": [
    {
     "data": {
      "text/plain": [
       "<AxesSubplot:>"
      ]
     },
     "execution_count": 161,
     "metadata": {},
     "output_type": "execute_result"
    },
    {
     "data": {
      "image/png": "[encoded data removed]",
      "text/plain": [
       "<Figure size 640x480 with 1 Axes>"
      ]
     },
     "metadata": {},
     "output_type": "display_data"
    }
   ],
   "source": [
    "# Matplotlib is choosing the plot type for us here:\n",
    "\n",
    "nums_series = pd.Series([1, 5, 5, 5, 10, 20, 100, 40])\n",
    "nums_series.plot()"
   ]
  },
  {
   "cell_type": "code",
   "execution_count": 162,
   "id": "79f18253-c098-46ed-bde5-f53c01d232d9",
   "metadata": {},
   "outputs": [
    {
     "data": {
      "text/plain": [
       "<AxesSubplot:ylabel='Frequency'>"
      ]
     },
     "execution_count": 162,
     "metadata": {},
     "output_type": "execute_result"
    },
    {
     "data": {
      "image/png": "[encoded data removed]",
      "text/plain": [
       "<Figure size 640x480 with 1 Axes>"
      ]
     },
     "metadata": {},
     "output_type": "display_data"
    }
   ],
   "source": [
    "# here we specify the plot type we want matplotlib to use:\n",
    "nums_series.plot.hist()"
   ]
  },
  {
   "cell_type": "code",
   "execution_count": 163,
   "id": "b39a05ac-7ca8-4277-a7e5-2de6f66a92fe",
   "metadata": {},
   "outputs": [
    {
     "data": {
      "text/plain": [
       "[Text(0.5, 0, 'Letter'), Text(0, 0.5, 'Frequency')]"
      ]
     },
     "execution_count": 163,
     "metadata": {},
     "output_type": "execute_result"
    },
    {
     "data": {
      "image/png": "[encoded data removed]",
      "text/plain": [
       "<Figure size 640x480 with 1 Axes>"
      ]
     },
     "metadata": {},
     "output_type": "display_data"
    }
   ],
   "source": [
    "# Use the parameters of the .plot method to customize my chart.\n",
    "\n",
    "(\n",
    "    pd.Series(['a', 'b', 'a', 'c', 'b', 'a', 'd', 'a']).\n",
    "    value_counts().plot.bar(title='Example Pandas Visualization',\n",
    "                           rot=0,\n",
    "                           color='firebrick',\n",
    "                           ec='black',\n",
    "                           width=.9).set(xlabel='Letter',\n",
    "                                        ylabel='Frequency')\n",
    ")"
   ]
  },
  {
   "cell_type": "markdown",
   "id": "d71754ec-98b4-4e01-8f97-e05a83fc47aa",
   "metadata": {},
   "source": [
    "## Exercises Part III"
   ]
  },
  {
   "cell_type": "markdown",
   "id": "7f0555df-a06f-4583-8752-36c34c67751e",
   "metadata": {},
   "source": [
    "[Exercises here](https://ds.codeup.com/python/series/)"
   ]
  },
  {
   "cell_type": "code",
   "execution_count": null,
   "id": "de524352-921f-4841-93d8-dc60ff668a52",
   "metadata": {},
   "outputs": [],
   "source": []
  }
 ],
 "metadata": {
  "kernelspec": {
   "display_name": "Python 3 (ipykernel)",
   "language": "python",
   "name": "python3"
  },
  "language_info": {
   "codemirror_mode": {
    "name": "ipython",
    "version": 3
   },
   "file_extension": ".py",
   "mimetype": "text/x-python",
   "name": "python",
   "nbconvert_exporter": "python",
   "pygments_lexer": "ipython3",
   "version": "3.9.13"
  }
 },
 "nbformat": 4,
 "nbformat_minor": 5
}
