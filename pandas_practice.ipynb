{
 "cells": [
  {
   "cell_type": "markdown",
   "id": "0c526181-241d-4fbd-9d2d-965595b81f17",
   "metadata": {},
   "source": [
    "## Pandas Practice"
   ]
  },
  {
   "cell_type": "code",
   "execution_count": 1,
   "id": "4a1f6fe3-1e2a-403c-bc75-eee2a3de2f6b",
   "metadata": {},
   "outputs": [],
   "source": [
    "import numpy as np\n",
    "import pandas as pd\n",
    "from pydataset import data"
   ]
  },
  {
   "cell_type": "markdown",
   "id": "e34406d8-35a7-4ad5-801d-2dba010cbd5f",
   "metadata": {},
   "source": [
    "#### pandas Series\n",
    "- a Series is essentially a single column with an index\n",
    "- if data is of mixed types, pandas will force it into a single type\n",
    "- can generate a series from:\n",
    "    1. a list\n",
    "    2. a numpy array\n",
    "    3. a dictionary\n",
    "    4. a pandas DataFrame"
   ]
  },
  {
   "cell_type": "markdown",
   "id": "c6e90524-79e8-4eaf-93d2-a7dd9b4400c2",
   "metadata": {},
   "source": [
    "#### Creating a Series from a list"
   ]
  },
  {
   "cell_type": "code",
   "execution_count": null,
   "id": "81cfcc0f-337b-4bbb-9a8a-aa82323edd7f",
   "metadata": {},
   "outputs": [],
   "source": [
    "my_list = [2, 3, 5]\n",
    "type(my_list)"
   ]
  },
  {
   "cell_type": "code",
   "execution_count": 4,
   "id": "3c4c2256-3e43-466c-9dae-27cfd3448f3c",
   "metadata": {},
   "outputs": [
    {
     "data": {
      "text/plain": [
       "2"
      ]
     },
     "execution_count": 4,
     "metadata": {},
     "output_type": "execute_result"
    }
   ],
   "source": [
    "# a python list has an index, but it is a set of fixed integers\n",
    "my_list[0]"
   ]
  },
  {
   "cell_type": "code",
   "execution_count": 5,
   "id": "ce11da96-531e-480d-adff-934e6ad7e0f8",
   "metadata": {},
   "outputs": [],
   "source": [
    "# a Series index can be a name, datetime, etc"
   ]
  },
  {
   "cell_type": "code",
   "execution_count": 6,
   "id": "75db5b3e-35ef-4895-b050-73aa8ae20569",
   "metadata": {},
   "outputs": [
    {
     "data": {
      "text/plain": [
       "pandas.core.series.Series"
      ]
     },
     "execution_count": 6,
     "metadata": {},
     "output_type": "execute_result"
    }
   ],
   "source": [
    "# convert my_list to a Series\n",
    "my_series = pd.Series(my_list)\n",
    "type(my_series)"
   ]
  },
  {
   "cell_type": "code",
   "execution_count": 7,
   "id": "94436e83-4440-4c17-bbed-49fd7286fa0f",
   "metadata": {},
   "outputs": [
    {
     "data": {
      "text/plain": [
       "0    2\n",
       "1    3\n",
       "2    5\n",
       "dtype: int64"
      ]
     },
     "execution_count": 7,
     "metadata": {},
     "output_type": "execute_result"
    }
   ],
   "source": [
    "# what's inside a pandas Series?\n",
    "my_series"
   ]
  },
  {
   "cell_type": "markdown",
   "id": "fc1a8f08-f02f-4d3d-87e2-f7fb940f5e9f",
   "metadata": {},
   "source": [
    "- Index: the left column is the Series index\n",
    "- Values: the right column is the Series data or values\n",
    "- Data type: the dtype here is a 64-bit integer"
   ]
  },
  {
   "cell_type": "markdown",
   "id": "693da90b-264c-47d5-96ce-5303cad7965f",
   "metadata": {},
   "source": [
    "#### Creating a Series from a numpy array"
   ]
  },
  {
   "cell_type": "code",
   "execution_count": null,
   "id": "a9e0f8a2-b562-4b3f-9b1d-ad14891261c7",
   "metadata": {},
   "outputs": [],
   "source": [
    "my_array = np.array([8.0, 13.0, 21.0])\n",
    "print(type(my_array), my_array)"
   ]
  },
  {
   "cell_type": "code",
   "execution_count": 10,
   "id": "76c90a77-9771-4620-ad63-2fc8a1af3010",
   "metadata": {},
   "outputs": [
    {
     "data": {
      "text/plain": [
       "pandas.core.series.Series"
      ]
     },
     "execution_count": 10,
     "metadata": {},
     "output_type": "execute_result"
    }
   ],
   "source": [
    "# convert to a Series\n",
    "my_series = pd.Series(my_array)\n",
    "type(my_series)"
   ]
  },
  {
   "cell_type": "code",
   "execution_count": 11,
   "id": "463a8eda-3a6a-4074-a14e-661fb19da3e5",
   "metadata": {},
   "outputs": [
    {
     "data": {
      "text/plain": [
       "0     8.0\n",
       "1    13.0\n",
       "2    21.0\n",
       "dtype: float64"
      ]
     },
     "execution_count": 11,
     "metadata": {},
     "output_type": "execute_result"
    }
   ],
   "source": [
    "my_series"
   ]
  },
  {
   "cell_type": "markdown",
   "id": "2437f46b-0239-4828-a66e-2a328f0aad71",
   "metadata": {},
   "source": [
    "#### Creating a Series from a Dictionary"
   ]
  },
  {
   "cell_type": "code",
   "execution_count": 21,
   "id": "cc9ae763-194e-4d48-b3b2-66a4dae68def",
   "metadata": {},
   "outputs": [],
   "source": [
    "labeled_series = pd.Series({'a': 0, 'b': 1.5, 'c': 2, 'd': 3.5, 'e': 4, 'f': 5.5})"
   ]
  },
  {
   "cell_type": "code",
   "execution_count": 22,
   "id": "dfa87d41-1bdb-4f0b-87a9-df57d545fc4d",
   "metadata": {},
   "outputs": [
    {
     "data": {
      "text/plain": [
       "a    0.0\n",
       "b    1.5\n",
       "c    2.0\n",
       "d    3.5\n",
       "e    4.0\n",
       "f    5.5\n",
       "dtype: float64"
      ]
     },
     "execution_count": 22,
     "metadata": {},
     "output_type": "execute_result"
    }
   ],
   "source": [
    "labeled_series"
   ]
  },
  {
   "cell_type": "markdown",
   "id": "d5c6246d-f28d-447d-bdc9-c16f1b2fff49",
   "metadata": {},
   "source": [
    "#### Creating a Series from a DataFrame\n",
    "- data from pydataset imports various datasets, here, sleepstudy data"
   ]
  },
  {
   "cell_type": "code",
   "execution_count": 18,
   "id": "545b657c-efdd-4f15-8a72-afc173553172",
   "metadata": {},
   "outputs": [
    {
     "data": {
      "text/html": [
       "<div>\n",
       "<style scoped>\n",
       "    .dataframe tbody tr th:only-of-type {\n",
       "        vertical-align: middle;\n",
       "    }\n",
       "\n",
       "    .dataframe tbody tr th {\n",
       "        vertical-align: top;\n",
       "    }\n",
       "\n",
       "    .dataframe thead th {\n",
       "        text-align: right;\n",
       "    }\n",
       "</style>\n",
       "<table border=\"1\" class=\"dataframe\">\n",
       "  <thead>\n",
       "    <tr style=\"text-align: right;\">\n",
       "      <th></th>\n",
       "      <th>Reaction</th>\n",
       "      <th>Days</th>\n",
       "      <th>Subject</th>\n",
       "    </tr>\n",
       "  </thead>\n",
       "  <tbody>\n",
       "    <tr>\n",
       "      <th>1</th>\n",
       "      <td>249.5600</td>\n",
       "      <td>0</td>\n",
       "      <td>308</td>\n",
       "    </tr>\n",
       "    <tr>\n",
       "      <th>2</th>\n",
       "      <td>258.7047</td>\n",
       "      <td>1</td>\n",
       "      <td>308</td>\n",
       "    </tr>\n",
       "    <tr>\n",
       "      <th>3</th>\n",
       "      <td>250.8006</td>\n",
       "      <td>2</td>\n",
       "      <td>308</td>\n",
       "    </tr>\n",
       "    <tr>\n",
       "      <th>4</th>\n",
       "      <td>321.4398</td>\n",
       "      <td>3</td>\n",
       "      <td>308</td>\n",
       "    </tr>\n",
       "    <tr>\n",
       "      <th>5</th>\n",
       "      <td>356.8519</td>\n",
       "      <td>4</td>\n",
       "      <td>308</td>\n",
       "    </tr>\n",
       "  </tbody>\n",
       "</table>\n",
       "</div>"
      ],
      "text/plain": [
       "   Reaction  Days  Subject\n",
       "1  249.5600     0      308\n",
       "2  258.7047     1      308\n",
       "3  250.8006     2      308\n",
       "4  321.4398     3      308\n",
       "5  356.8519     4      308"
      ]
     },
     "execution_count": 18,
     "metadata": {},
     "output_type": "execute_result"
    }
   ],
   "source": [
    "sleep_df = data('sleepstudy')\n",
    "sleep_df.head()"
   ]
  },
  {
   "cell_type": "code",
   "execution_count": 16,
   "id": "804ad75b-1d25-4b9f-b748-5b5ffae8425c",
   "metadata": {},
   "outputs": [
    {
     "data": {
      "text/plain": [
       "pandas.core.series.Series"
      ]
     },
     "execution_count": 16,
     "metadata": {},
     "output_type": "execute_result"
    }
   ],
   "source": [
    "# two sytax options to choose a column from this DataFrame:\n",
    "# 1) df.columnname  2) df['columnname']\n",
    "# DataFrame's index is retained for the Series\n",
    "reaction_series = sleep_df.Reaction\n",
    "type(reaction_series)"
   ]
  },
  {
   "cell_type": "code",
   "execution_count": 17,
   "id": "34d4b811-233c-4e9d-8877-59b606d697f2",
   "metadata": {},
   "outputs": [
    {
     "data": {
      "text/plain": [
       "pandas.core.series.Series"
      ]
     },
     "execution_count": 17,
     "metadata": {},
     "output_type": "execute_result"
    }
   ],
   "source": [
    "days_series = sleep_df['Days']\n",
    "type(days_series)"
   ]
  },
  {
   "cell_type": "code",
   "execution_count": 23,
   "id": "9237988d-71af-4527-be4e-fe6db024e320",
   "metadata": {},
   "outputs": [
    {
     "data": {
      "text/plain": [
       "pandas.core.frame.DataFrame"
      ]
     },
     "execution_count": 23,
     "metadata": {},
     "output_type": "execute_result"
    }
   ],
   "source": [
    "# note that I could've created a single column DataFrame instead by using [[]]\n",
    "df_that_resembles_a_series = sleep_df[['Days']]\n",
    "type(df_that_resembles_a_series)"
   ]
  },
  {
   "cell_type": "code",
   "execution_count": 25,
   "id": "0c2d8f10-2315-41be-b937-2c99f2ceba78",
   "metadata": {},
   "outputs": [
    {
     "data": {
      "text/html": [
       "<div>\n",
       "<style scoped>\n",
       "    .dataframe tbody tr th:only-of-type {\n",
       "        vertical-align: middle;\n",
       "    }\n",
       "\n",
       "    .dataframe tbody tr th {\n",
       "        vertical-align: top;\n",
       "    }\n",
       "\n",
       "    .dataframe thead th {\n",
       "        text-align: right;\n",
       "    }\n",
       "</style>\n",
       "<table border=\"1\" class=\"dataframe\">\n",
       "  <thead>\n",
       "    <tr style=\"text-align: right;\">\n",
       "      <th></th>\n",
       "      <th>Days</th>\n",
       "    </tr>\n",
       "  </thead>\n",
       "  <tbody>\n",
       "    <tr>\n",
       "      <th>1</th>\n",
       "      <td>0</td>\n",
       "    </tr>\n",
       "    <tr>\n",
       "      <th>2</th>\n",
       "      <td>1</td>\n",
       "    </tr>\n",
       "    <tr>\n",
       "      <th>3</th>\n",
       "      <td>2</td>\n",
       "    </tr>\n",
       "    <tr>\n",
       "      <th>4</th>\n",
       "      <td>3</td>\n",
       "    </tr>\n",
       "    <tr>\n",
       "      <th>5</th>\n",
       "      <td>4</td>\n",
       "    </tr>\n",
       "    <tr>\n",
       "      <th>...</th>\n",
       "      <td>...</td>\n",
       "    </tr>\n",
       "    <tr>\n",
       "      <th>176</th>\n",
       "      <td>5</td>\n",
       "    </tr>\n",
       "    <tr>\n",
       "      <th>177</th>\n",
       "      <td>6</td>\n",
       "    </tr>\n",
       "    <tr>\n",
       "      <th>178</th>\n",
       "      <td>7</td>\n",
       "    </tr>\n",
       "    <tr>\n",
       "      <th>179</th>\n",
       "      <td>8</td>\n",
       "    </tr>\n",
       "    <tr>\n",
       "      <th>180</th>\n",
       "      <td>9</td>\n",
       "    </tr>\n",
       "  </tbody>\n",
       "</table>\n",
       "<p>180 rows × 1 columns</p>\n",
       "</div>"
      ],
      "text/plain": [
       "     Days\n",
       "1       0\n",
       "2       1\n",
       "3       2\n",
       "4       3\n",
       "5       4\n",
       "..    ...\n",
       "176     5\n",
       "177     6\n",
       "178     7\n",
       "179     8\n",
       "180     9\n",
       "\n",
       "[180 rows x 1 columns]"
      ]
     },
     "execution_count": 25,
     "metadata": {},
     "output_type": "execute_result"
    }
   ],
   "source": [
    "# note that the printed output is formatted differently than a Series\n",
    "df_that_resembles_a_series"
   ]
  },
  {
   "cell_type": "code",
   "execution_count": 26,
   "id": "79584bf3-a06c-4de5-bd21-cb0b51b364b8",
   "metadata": {},
   "outputs": [
    {
     "data": {
      "text/plain": [
       "1      0\n",
       "2      1\n",
       "3      2\n",
       "4      3\n",
       "5      4\n",
       "      ..\n",
       "176    5\n",
       "177    6\n",
       "178    7\n",
       "179    8\n",
       "180    9\n",
       "Name: Days, Length: 180, dtype: int64"
      ]
     },
     "execution_count": 26,
     "metadata": {},
     "output_type": "execute_result"
    }
   ],
   "source": [
    "days_series"
   ]
  },
  {
   "cell_type": "markdown",
   "id": "ac3a7c21-dd6b-44b3-b7ec-1e55b8b83004",
   "metadata": {},
   "source": [
    "#### Data types for Series or DataFrames:\n",
    "- `int` integers\n",
    "- `float` floating point decimal numbers\n",
    "- `bool` booleans -- True or False values\n",
    "- `object` the category for Python strings\n",
    "- `category` a fixed set of string values\n",
    "- a name. an optional human-friendly name for the series\n",
    "- inferring\n",
    "- using `astype()`"
   ]
  },
  {
   "cell_type": "markdown",
   "id": "d3e48515-ea55-419c-90e0-7d13a05bf18c",
   "metadata": {},
   "source": [
    "#### Inferring\n",
    "- pandas will infer the datatype when it can, e.g."
   ]
  },
  {
   "cell_type": "code",
   "execution_count": 28,
   "id": "afb163b4-3fa0-4b8e-b6f0-dc75a5b15439",
   "metadata": {},
   "outputs": [
    {
     "data": {
      "text/plain": [
       "0     True\n",
       "1    False\n",
       "2     True\n",
       "dtype: bool"
      ]
     },
     "execution_count": 28,
     "metadata": {},
     "output_type": "execute_result"
    }
   ],
   "source": [
    "# here it recognizes that I fed it a list of Booleans\n",
    "pd.Series([True, False, True])"
   ]
  },
  {
   "cell_type": "code",
   "execution_count": 29,
   "id": "71a1abf0-e483-4a62-97a2-75b2f23e6b54",
   "metadata": {},
   "outputs": [
    {
     "data": {
      "text/plain": [
       "0       I\n",
       "1    love\n",
       "2    lamp\n",
       "dtype: object"
      ]
     },
     "execution_count": 29,
     "metadata": {},
     "output_type": "execute_result"
    }
   ],
   "source": [
    "# here it inputs a list of strings as object type\n",
    "pd.Series(['I', 'love', 'lamp'])"
   ]
  },
  {
   "cell_type": "code",
   "execution_count": 30,
   "id": "9276942e-8b00-4010-bfca-0f79e01ffd37",
   "metadata": {},
   "outputs": [
    {
     "data": {
      "text/plain": [
       "0       1\n",
       "1       3\n",
       "2    five\n",
       "dtype: object"
      ]
     },
     "execution_count": 30,
     "metadata": {},
     "output_type": "execute_result"
    }
   ],
   "source": [
    "# here it sees a mixed type list and chooses object type since a series\n",
    "# must have a single datatype\n",
    "my_series = pd.Series([1, 3, 'five'])\n",
    "my_series"
   ]
  },
  {
   "cell_type": "code",
   "execution_count": 31,
   "id": "c2cf59b4-599b-45fe-9265-5e9ffcf7759b",
   "metadata": {},
   "outputs": [
    {
     "data": {
      "text/plain": [
       "0    1\n",
       "1    3\n",
       "dtype: object"
      ]
     },
     "execution_count": 31,
     "metadata": {},
     "output_type": "execute_result"
    }
   ],
   "source": [
    "# filter out 'five' from the Series and reassign\n",
    "my_new_series = my_series[my_series != 'five']\n",
    "my_new_series"
   ]
  },
  {
   "cell_type": "code",
   "execution_count": 33,
   "id": "82157ebe-2baa-44f0-a069-18510b54ae9e",
   "metadata": {},
   "outputs": [
    {
     "data": {
      "text/plain": [
       "0    1\n",
       "1    3\n",
       "dtype: int64"
      ]
     },
     "execution_count": 33,
     "metadata": {},
     "output_type": "execute_result"
    }
   ],
   "source": [
    "# now that we have only integers in the Series, we can cast to an \n",
    "# int datatype using the .astype() method:\n",
    "my_new_series.astype('int')"
   ]
  },
  {
   "cell_type": "code",
   "execution_count": 35,
   "id": "ffe2ba29-4e0c-48f9-96a1-ab1f97521c9d",
   "metadata": {},
   "outputs": [],
   "source": [
    "# when we try this on the original Series it doesn't work\n",
    "# my_series.astype('int')\n",
    "# uncomment to see error message"
   ]
  },
  {
   "cell_type": "code",
   "execution_count": 37,
   "id": "df4bccfa-9337-4996-b7ca-fc339dbf6f5a",
   "metadata": {},
   "outputs": [
    {
     "data": {
      "text/plain": [
       "1      308\n",
       "2      308\n",
       "3      308\n",
       "4      308\n",
       "5      308\n",
       "      ... \n",
       "176    372\n",
       "177    372\n",
       "178    372\n",
       "179    372\n",
       "180    372\n",
       "Name: Subject, Length: 180, dtype: object"
      ]
     },
     "execution_count": 37,
     "metadata": {},
     "output_type": "execute_result"
    }
   ],
   "source": [
    "# The Subject column in sleep study is actually an object representing a subject\n",
    "# makes sense to cast it as an 'object' (however, the argument for this is 'str')\n",
    "sleep_subj_series = sleep_df['Subject'].astype('str')\n",
    "sleep_subj_series"
   ]
  },
  {
   "cell_type": "markdown",
   "id": "54dd42a4-e293-45a5-bbd0-1cc1b0828141",
   "metadata": {},
   "source": [
    "#### Vectorized Series Operations\n",
    "- since a pandas Series is just a numpy array with an index bolted on, we can use arithmetic and comparison operator in the same way."
   ]
  },
  {
   "cell_type": "code",
   "execution_count": 38,
   "id": "e236be59-64f7-44a7-a518-8ebd70eac337",
   "metadata": {},
   "outputs": [
    {
     "data": {
      "text/plain": [
       "0    0\n",
       "1    1\n",
       "2    1\n",
       "3    2\n",
       "4    3\n",
       "dtype: int64"
      ]
     },
     "execution_count": 38,
     "metadata": {},
     "output_type": "execute_result"
    }
   ],
   "source": [
    "fibi_series = pd.Series([0, 1, 1, 2, 3, 5, 8])\n",
    "\n",
    "fibi_series.head()"
   ]
  },
  {
   "cell_type": "code",
   "execution_count": 39,
   "id": "345fa4f9-a943-4e46-baf1-e992a049fca9",
   "metadata": {},
   "outputs": [
    {
     "data": {
      "text/plain": [
       "0    1\n",
       "1    2\n",
       "2    2\n",
       "3    3\n",
       "4    4\n",
       "5    6\n",
       "6    9\n",
       "dtype: int64"
      ]
     },
     "execution_count": 39,
     "metadata": {},
     "output_type": "execute_result"
    }
   ],
   "source": [
    "fibi_series + 1"
   ]
  },
  {
   "cell_type": "code",
   "execution_count": 40,
   "id": "715da5ed-d969-4e89-ac4f-bf2f3e0fc653",
   "metadata": {},
   "outputs": [
    {
     "data": {
      "text/plain": [
       "0    0.0\n",
       "1    0.5\n",
       "2    0.5\n",
       "3    1.0\n",
       "4    1.5\n",
       "5    2.5\n",
       "6    4.0\n",
       "dtype: float64"
      ]
     },
     "execution_count": 40,
     "metadata": {},
     "output_type": "execute_result"
    }
   ],
   "source": [
    "fibi_series / 2"
   ]
  },
  {
   "cell_type": "code",
   "execution_count": 41,
   "id": "bb311793-7d50-4dcb-b379-b66a558690dd",
   "metadata": {},
   "outputs": [
    {
     "data": {
      "text/plain": [
       "0    0\n",
       "1    1\n",
       "2    1\n",
       "3    2\n",
       "4    3\n",
       "5    5\n",
       "6    8\n",
       "dtype: int64"
      ]
     },
     "execution_count": 41,
     "metadata": {},
     "output_type": "execute_result"
    }
   ],
   "source": [
    "# note you can see that the underlying Series values didn't change\n",
    "fibi_series"
   ]
  },
  {
   "cell_type": "code",
   "execution_count": 42,
   "id": "c30c3283-9c25-4846-a748-41015a5cc67b",
   "metadata": {},
   "outputs": [
    {
     "data": {
      "text/plain": [
       "0    False\n",
       "1    False\n",
       "2    False\n",
       "3    False\n",
       "4    False\n",
       "5     True\n",
       "6     True\n",
       "dtype: bool"
      ]
     },
     "execution_count": 42,
     "metadata": {},
     "output_type": "execute_result"
    }
   ],
   "source": [
    "fibi_series >= 5"
   ]
  },
  {
   "cell_type": "code",
   "execution_count": 43,
   "id": "35f6101d-dabe-43f9-ab48-216a5f1766e8",
   "metadata": {},
   "outputs": [
    {
     "data": {
      "text/plain": [
       "0    False\n",
       "1    False\n",
       "2    False\n",
       "3    False\n",
       "4    False\n",
       "5    False\n",
       "6     True\n",
       "dtype: bool"
      ]
     },
     "execution_count": 43,
     "metadata": {},
     "output_type": "execute_result"
    }
   ],
   "source": [
    "(fibi_series >= 3) & (fibi_series % 2 == 0)"
   ]
  },
  {
   "cell_type": "markdown",
   "id": "e296820c-5a5b-40b8-b39b-93294d0456f9",
   "metadata": {},
   "source": [
    "#### Series 'Attributes'\n",
    "- attributes are a sort of metadata about pandas objects\n",
    "- they are easily accessible using .notation withouth ()(unlike .methods())\n",
    "- in Jupyter, can see a list of attributes by pressing `tab` after `seriesname.`\n",
    "- `.index` allows us to reference the Series index\n",
    "- `.values` allows us to reference the values of the Series\n",
    "- `.dtype` allows us to reference the datatype of the Series\n",
    "- `.size` returns an int of the number of rows. NULL vals ARE included.\n",
    "- `.shape` returns a tuple representing rows, columns. NULL vals ARE included."
   ]
  },
  {
   "cell_type": "code",
   "execution_count": 50,
   "id": "ccc5a32b-814d-4f91-86ad-4d92ba74f6d1",
   "metadata": {},
   "outputs": [
    {
     "data": {
      "text/plain": [
       "dtype('int64')"
      ]
     },
     "execution_count": 50,
     "metadata": {},
     "output_type": "execute_result"
    }
   ],
   "source": [
    "fibi_series.dtype"
   ]
  },
  {
   "cell_type": "code",
   "execution_count": 47,
   "id": "350c76bd-ba57-4da9-bf5c-b3cfeb73b6a4",
   "metadata": {},
   "outputs": [
    {
     "data": {
      "text/plain": [
       "RangeIndex(start=0, stop=7, step=1)"
      ]
     },
     "execution_count": 47,
     "metadata": {},
     "output_type": "execute_result"
    }
   ],
   "source": [
    "fibi_series.index"
   ]
  },
  {
   "cell_type": "code",
   "execution_count": 49,
   "id": "3d4f09c3-f14b-4fa7-a8aa-7f7dc07b1657",
   "metadata": {},
   "outputs": [
    {
     "data": {
      "text/plain": [
       "array([0, 1, 1, 2, 3, 5, 8])"
      ]
     },
     "execution_count": 49,
     "metadata": {},
     "output_type": "execute_result"
    }
   ],
   "source": [
    "# note that the values are literally a numpy array\n",
    "fibi_series.values"
   ]
  },
  {
   "cell_type": "markdown",
   "id": "073332b0-570d-473a-881a-3e8f59472709",
   "metadata": {},
   "source": [
    "#### Series Methods\n",
    "- methods used on pandas Series often return new Series objects\n",
    "- most methods have default parameters to not overwrite original vals (inplace=True)"
   ]
  },
  {
   "cell_type": "markdown",
   "id": "7ebb23d7-bafa-4613-8c31-b38891455246",
   "metadata": {},
   "source": [
    "- `.head()` returns the 1st 5 rows of the series\n",
    "- `.tail()` returns the last 5\n",
    "- 5 is the default, can adjust with an int in the arguments i.e. `.head(10)`"
   ]
  },
  {
   "cell_type": "code",
   "execution_count": 52,
   "id": "e9c2b076-b558-4c3e-9644-30c0083104b4",
   "metadata": {},
   "outputs": [
    {
     "data": {
      "text/plain": [
       "(0    0\n",
       " 1    1\n",
       " 2    1\n",
       " 3    2\n",
       " 4    3\n",
       " dtype: int64,\n",
       " 5    5\n",
       " 6    8\n",
       " dtype: int64)"
      ]
     },
     "execution_count": 52,
     "metadata": {},
     "output_type": "execute_result"
    }
   ],
   "source": [
    "fibi_series.head(), fibi_series.tail(2)"
   ]
  },
  {
   "cell_type": "markdown",
   "id": "63dfe67f-32db-474c-a846-5d39bcabe90c",
   "metadata": {},
   "source": [
    "- `.sample()` returns a random sample of rows in the Series\n",
    "- n=1 by default, can put in any int\n",
    "- can exceed number of rows with argument replace=True"
   ]
  },
  {
   "cell_type": "code",
   "execution_count": 56,
   "id": "e33a0916-7524-490c-b9d5-084ee4482ad8",
   "metadata": {},
   "outputs": [
    {
     "data": {
      "text/plain": [
       "(2    1\n",
       " dtype: int64,\n",
       " 4    3\n",
       " 1    1\n",
       " 5    5\n",
       " dtype: int64,\n",
       " 5    5\n",
       " 5    5\n",
       " 6    8\n",
       " 6    8\n",
       " 2    1\n",
       " 2    1\n",
       " 0    0\n",
       " 5    5\n",
       " 3    2\n",
       " 2    1\n",
       " 5    5\n",
       " 6    8\n",
       " 6    8\n",
       " 2    1\n",
       " 2    1\n",
       " 0    0\n",
       " 0    0\n",
       " 4    3\n",
       " 4    3\n",
       " 1    1\n",
       " dtype: int64)"
      ]
     },
     "execution_count": 56,
     "metadata": {},
     "output_type": "execute_result"
    }
   ],
   "source": [
    "fibi_series.sample(), fibi_series.sample(3), fibi_series.sample(20, replace=True)"
   ]
  },
  {
   "cell_type": "markdown",
   "id": "3aa5ff06-a5c3-4774-89d8-b1cda2fa5dea",
   "metadata": {},
   "source": [
    "- `.value_counts()` counts number of records/items/rows containing each unique value (think 'group by' from MySQL)"
   ]
  },
  {
   "cell_type": "code",
   "execution_count": 57,
   "id": "8fd56650-a12b-4c4f-af81-a773a6fe91f0",
   "metadata": {},
   "outputs": [
    {
     "data": {
      "text/plain": [
       "0    18\n",
       "1    18\n",
       "2    18\n",
       "3    18\n",
       "4    18\n",
       "5    18\n",
       "6    18\n",
       "7    18\n",
       "8    18\n",
       "9    18\n",
       "Name: Days, dtype: int64"
      ]
     },
     "execution_count": 57,
     "metadata": {},
     "output_type": "execute_result"
    }
   ],
   "source": [
    "sleep_days_series = sleep_df.Days\n",
    "sleep_days_series.value_counts()"
   ]
  },
  {
   "cell_type": "markdown",
   "id": "a838b095-ef5c-4859-b4b9-8f56543edf29",
   "metadata": {},
   "source": [
    "- In MySQL this would look like:\n",
    "\n",
    "  SELECT Days, COUNT(Subject)<br>    FROM my_df<br>    GROUP BY Days;"
   ]
  },
  {
   "cell_type": "markdown",
   "id": "2b0aec75-6955-4056-9e47-b9c3718815c9",
   "metadata": {},
   "source": [
    "#### Descriptive Stats in pandas\n",
    "- pandas has a number of methods that can be used to view summary stats about our data. Below are some of the most common:\n",
    "|  Function\t |   Description   |\n",
    "|:------------|:--------------------------------|\n",
    "|count|\tNumber of non-NA observations|\n",
    "|sum|\tSum of values|\n",
    "|mean|\tMean of values|\n",
    "|median|\tArithmetic median of values|\n",
    "|min|\tMinimum|\n",
    "|max|\tMaximum|\n",
    "|mode|\tMode|\n",
    "|abs|\tAbsolute Value|\n",
    "|std|\tBessel-corrected sample standard deviation|\n",
    "|quantile|\tSample quantile (value at %)|"
   ]
  },
  {
   "cell_type": "code",
   "execution_count": 58,
   "id": "ab7c4d27-6621-4502-bb4d-3730df9b2610",
   "metadata": {},
   "outputs": [],
   "source": [
    "sleep_reaction_time = sleep_df.Reaction"
   ]
  },
  {
   "cell_type": "code",
   "execution_count": 59,
   "id": "0269ca70-0fb6-4ddd-9dac-5e471fb995df",
   "metadata": {},
   "outputs": [
    {
     "data": {
      "text/plain": [
       "{'count': 180,\n",
       " 'sum': 53731.42049999999,\n",
       " 'mean': 298.50789166666664,\n",
       " 'median': 288.6508}"
      ]
     },
     "execution_count": 59,
     "metadata": {},
     "output_type": "execute_result"
    }
   ],
   "source": [
    "{\n",
    "    'count': sleep_reaction_time.count(),\n",
    "    'sum': sleep_reaction_time.sum(),\n",
    "    'mean': sleep_reaction_time.mean(),\n",
    "    'median': sleep_reaction_time.median()\n",
    "}"
   ]
  },
  {
   "cell_type": "markdown",
   "id": "27c3425b-51d9-4565-9590-5cf3ce8300b4",
   "metadata": {},
   "source": [
    "- `.describe()` returns a series of descriptive stats on a Series (or DataFrame)\n",
    "- what it returns depends on the dtype of the values"
   ]
  },
  {
   "cell_type": "code",
   "execution_count": 60,
   "id": "11025fd2-aa96-4a5a-98a8-a435ea6946d3",
   "metadata": {},
   "outputs": [
    {
     "data": {
      "text/plain": [
       "count    180.000000\n",
       "mean     298.507892\n",
       "std       56.328757\n",
       "min      194.332200\n",
       "25%      255.375825\n",
       "50%      288.650800\n",
       "75%      336.752075\n",
       "max      466.353500\n",
       "Name: Reaction, dtype: float64"
      ]
     },
     "execution_count": 60,
     "metadata": {},
     "output_type": "execute_result"
    }
   ],
   "source": [
    "sleep_reaction_time.describe()"
   ]
  },
  {
   "cell_type": "code",
   "execution_count": 61,
   "id": "6226cced-f4f3-459b-a5e6-10ac76511e7a",
   "metadata": {},
   "outputs": [
    {
     "name": "stdout",
     "output_type": "stream",
     "text": [
      "0    0\n",
      "1    1\n",
      "2    1\n",
      "3    2\n",
      "4    3\n",
      "5    5\n",
      "6    8\n",
      "dtype: int64\n"
     ]
    },
    {
     "data": {
      "text/plain": [
       "count    7.000000\n",
       "mean     2.857143\n",
       "std      2.794553\n",
       "min      0.000000\n",
       "25%      1.000000\n",
       "50%      2.000000\n",
       "75%      4.000000\n",
       "max      8.000000\n",
       "dtype: float64"
      ]
     },
     "execution_count": 61,
     "metadata": {},
     "output_type": "execute_result"
    }
   ],
   "source": [
    "print(fibi_series)\n",
    "fibi_series.describe()"
   ]
  },
  {
   "cell_type": "markdown",
   "id": "9007824a-5bf5-4004-b19b-58052cb32b86",
   "metadata": {},
   "source": [
    "- `.nlargest()` returns n largest values in a Series\n",
    "- `.nsmallest()` returns n smallest values in a Series\n",
    "- defaults to 5, but can add `n=an_integer`\n",
    "- for duplicates, can add argument `keep='first', 'last', or 'all'`"
   ]
  },
  {
   "cell_type": "code",
   "execution_count": 65,
   "id": "c29a6ae9-4e13-4e2c-b452-d67070d6824a",
   "metadata": {},
   "outputs": [
    {
     "data": {
      "text/plain": [
       "6    8\n",
       "5    5\n",
       "4    3\n",
       "dtype: int64"
      ]
     },
     "execution_count": 65,
     "metadata": {},
     "output_type": "execute_result"
    }
   ],
   "source": [
    "fibi_series.nlargest(n=3, keep='first')"
   ]
  },
  {
   "cell_type": "code",
   "execution_count": 68,
   "id": "964c251e-ecae-4e81-b315-ffc693351078",
   "metadata": {},
   "outputs": [
    {
     "data": {
      "text/plain": [
       "0    0\n",
       "1    1\n",
       "2    1\n",
       "dtype: int64"
      ]
     },
     "execution_count": 68,
     "metadata": {},
     "output_type": "execute_result"
    }
   ],
   "source": [
    "fibi_series.nsmallest(n=2, keep='all')"
   ]
  },
  {
   "cell_type": "markdown",
   "id": "92773290-b73c-4d11-ab31-d7df4b0f196a",
   "metadata": {},
   "source": [
    "- `.sort_values()` sorts values defaulting to ascending=True\n",
    "- `.sort_index()` sorts index defaulting to ascending=True"
   ]
  },
  {
   "cell_type": "code",
   "execution_count": 69,
   "id": "a655039b-5f3b-4f8e-a836-371d1f3c70f4",
   "metadata": {},
   "outputs": [
    {
     "data": {
      "text/plain": [
       "180    364.1236\n",
       "179    369.1417\n",
       "178    343.2199\n",
       "177    334.4818\n",
       "176    329.6076\n",
       "         ...   \n",
       "5      356.8519\n",
       "4      321.4398\n",
       "3      250.8006\n",
       "2      258.7047\n",
       "1      249.5600\n",
       "Name: Reaction, Length: 180, dtype: float64"
      ]
     },
     "execution_count": 69,
     "metadata": {},
     "output_type": "execute_result"
    }
   ],
   "source": [
    "sleep_reaction_time.sort_index(ascending=False)"
   ]
  },
  {
   "cell_type": "code",
   "execution_count": null,
   "id": "bf37e186-01be-4e3d-9f46-bb2f54a2d7da",
   "metadata": {},
   "outputs": [],
   "source": []
  }
 ],
 "metadata": {
  "kernelspec": {
   "display_name": "Python 3 (ipykernel)",
   "language": "python",
   "name": "python3"
  },
  "language_info": {
   "codemirror_mode": {
    "name": "ipython",
    "version": 3
   },
   "file_extension": ".py",
   "mimetype": "text/x-python",
   "name": "python",
   "nbconvert_exporter": "python",
   "pygments_lexer": "ipython3",
   "version": "3.9.13"
  }
 },
 "nbformat": 4,
 "nbformat_minor": 5
}
