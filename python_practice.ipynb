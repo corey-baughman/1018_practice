{
 "cells": [
  {
   "cell_type": "markdown",
   "id": "044b008a-788e-4e6d-a276-eba607dc9751",
   "metadata": {},
   "source": [
    "## Python Practice"
   ]
  },
  {
   "cell_type": "code",
   "execution_count": 35,
   "id": "131f255c-e8d2-4516-82c9-20adabf54781",
   "metadata": {},
   "outputs": [],
   "source": [
    "# imports\n",
    "import re"
   ]
  },
  {
   "cell_type": "code",
   "execution_count": 1,
   "id": "94af37e0-01f8-4e08-8219-aece79eb816b",
   "metadata": {},
   "outputs": [
    {
     "data": {
      "text/plain": [
       "int"
      ]
     },
     "execution_count": 1,
     "metadata": {},
     "output_type": "execute_result"
    }
   ],
   "source": [
    "type(123)"
   ]
  },
  {
   "cell_type": "code",
   "execution_count": 2,
   "id": "43578978-0722-43be-9215-f757a0cc8958",
   "metadata": {},
   "outputs": [],
   "source": [
    "favorite_number = 42\n",
    "n = favorite_number + 7"
   ]
  },
  {
   "cell_type": "code",
   "execution_count": 3,
   "id": "fc1649db-31e9-4e4f-9c8b-71cb5e7d8ae7",
   "metadata": {},
   "outputs": [
    {
     "data": {
      "text/plain": [
       "49"
      ]
     },
     "execution_count": 3,
     "metadata": {},
     "output_type": "execute_result"
    }
   ],
   "source": [
    "n"
   ]
  },
  {
   "cell_type": "code",
   "execution_count": 4,
   "id": "88ee64c3-3acc-4d9d-8703-4b282d45a674",
   "metadata": {},
   "outputs": [
    {
     "name": "stdout",
     "output_type": "stream",
     "text": [
      "49\n"
     ]
    }
   ],
   "source": [
    "print(n)"
   ]
  },
  {
   "cell_type": "markdown",
   "id": "e7b36fa1-7e3b-4015-9e81-9e92ab9d4c1e",
   "metadata": {},
   "source": [
    "#### Booleans"
   ]
  },
  {
   "cell_type": "code",
   "execution_count": 5,
   "id": "c9059258-822e-425f-9bed-d9a14636f183",
   "metadata": {},
   "outputs": [
    {
     "data": {
      "text/plain": [
       "True"
      ]
     },
     "execution_count": 5,
     "metadata": {},
     "output_type": "execute_result"
    }
   ],
   "source": [
    "True == True"
   ]
  },
  {
   "cell_type": "code",
   "execution_count": 6,
   "id": "f757c013-4137-40af-8f50-2d5e814d83fd",
   "metadata": {},
   "outputs": [
    {
     "data": {
      "text/plain": [
       "False"
      ]
     },
     "execution_count": 6,
     "metadata": {},
     "output_type": "execute_result"
    }
   ],
   "source": [
    "True != True"
   ]
  },
  {
   "cell_type": "code",
   "execution_count": 7,
   "id": "171a660e-d7ba-40fa-b585-e429f7716d36",
   "metadata": {},
   "outputs": [
    {
     "data": {
      "text/plain": [
       "False"
      ]
     },
     "execution_count": 7,
     "metadata": {},
     "output_type": "execute_result"
    }
   ],
   "source": [
    "True > True"
   ]
  },
  {
   "cell_type": "code",
   "execution_count": 8,
   "id": "aa601579-4198-4d16-9d4f-371230618602",
   "metadata": {},
   "outputs": [
    {
     "name": "stdout",
     "output_type": "stream",
     "text": [
      "True\n"
     ]
    }
   ],
   "source": [
    "is_first_of_the_month = True\n",
    "report_has_been_filed = False\n",
    "\n",
    "should_process_report = is_first_of_the_month and not report_has_been_filed\n",
    "\n",
    "print(should_process_report)"
   ]
  },
  {
   "cell_type": "markdown",
   "id": "a0cb1cc9-6b68-4984-837a-5ff767b4848f",
   "metadata": {},
   "source": [
    "#### Numbers"
   ]
  },
  {
   "cell_type": "code",
   "execution_count": 9,
   "id": "37235275-2d64-41a0-8713-6d3bbe0f3d84",
   "metadata": {},
   "outputs": [],
   "source": [
    "# Addition\n",
    "add = 4 + 5"
   ]
  },
  {
   "cell_type": "code",
   "execution_count": 10,
   "id": "5128ad50-50e9-4a92-9307-a4d50cff0ef0",
   "metadata": {},
   "outputs": [],
   "source": [
    "# Subtraction\n",
    "sub = 9 - 1"
   ]
  },
  {
   "cell_type": "code",
   "execution_count": 11,
   "id": "b37a2789-9e46-4efb-a73e-196336955a95",
   "metadata": {},
   "outputs": [],
   "source": [
    "# Multiplication\n",
    "mult = 4 * 2"
   ]
  },
  {
   "cell_type": "code",
   "execution_count": 12,
   "id": "ef3f451b-0f5c-4854-8d67-66d101121b9b",
   "metadata": {},
   "outputs": [],
   "source": [
    "# Division\n",
    "div = 8 / 4"
   ]
  },
  {
   "cell_type": "code",
   "execution_count": 13,
   "id": "5042f0bc-a983-4bb0-b961-b024a19992dc",
   "metadata": {},
   "outputs": [],
   "source": [
    "# Exponentiation\n",
    "exp = 2 ** 4"
   ]
  },
  {
   "cell_type": "code",
   "execution_count": 14,
   "id": "704a92f1-1e2d-4dba-91f1-9328cf237d33",
   "metadata": {},
   "outputs": [
    {
     "name": "stdout",
     "output_type": "stream",
     "text": [
      "9 <class 'int'>\n",
      "8 <class 'int'>\n",
      "8 <class 'int'>\n",
      "2.0 <class 'float'>\n",
      "16 <class 'int'>\n"
     ]
    }
   ],
   "source": [
    "operators = [add, sub, mult, div, exp]\n",
    "\n",
    "for i in operators:\n",
    "    print(i, type(i)) "
   ]
  },
  {
   "cell_type": "code",
   "execution_count": 15,
   "id": "961c8e7a-143a-4739-abc0-21a42e77434e",
   "metadata": {},
   "outputs": [],
   "source": [
    "# interesting that division is the only operation that produces a float"
   ]
  },
  {
   "cell_type": "markdown",
   "id": "09c2a0fe-de52-4272-bd4a-565336f105ff",
   "metadata": {},
   "source": [
    "#### Numeric expressions with Booleans"
   ]
  },
  {
   "cell_type": "code",
   "execution_count": 16,
   "id": "8135eb60-7952-4ec5-8210-5975da577dba",
   "metadata": {},
   "outputs": [
    {
     "data": {
      "text/plain": [
       "False"
      ]
     },
     "execution_count": 16,
     "metadata": {},
     "output_type": "execute_result"
    }
   ],
   "source": [
    "4 ** 2 != 2 ** 4"
   ]
  },
  {
   "cell_type": "code",
   "execution_count": 17,
   "id": "9770333e-af86-4657-9fe4-11ece54c5419",
   "metadata": {},
   "outputs": [],
   "source": [
    "# <, >, <=, >="
   ]
  },
  {
   "cell_type": "markdown",
   "id": "52c06704-cccc-4164-a16e-7cdf23475d39",
   "metadata": {},
   "source": [
    "#### Strings"
   ]
  },
  {
   "cell_type": "code",
   "execution_count": 18,
   "id": "3a227841-a6c5-4596-916f-8a50e964eaaf",
   "metadata": {},
   "outputs": [
    {
     "data": {
      "text/plain": [
       "'123'"
      ]
     },
     "execution_count": 18,
     "metadata": {},
     "output_type": "execute_result"
    }
   ],
   "source": [
    "'hello there'\n",
    "''\n",
    "'123'\n",
    "# \"here is a number: 42. It's a nice number\""
   ]
  },
  {
   "cell_type": "code",
   "execution_count": 19,
   "id": "e0719372-44b9-4263-931a-f9e093d37707",
   "metadata": {},
   "outputs": [
    {
     "name": "stdout",
     "output_type": "stream",
     "text": [
      "This string\n",
      "contains a newline\n"
     ]
    }
   ],
   "source": [
    "print('This string\\ncontains a newline')"
   ]
  },
  {
   "cell_type": "code",
   "execution_count": 20,
   "id": "bc905531-05dd-4a64-9deb-5d76fd08e185",
   "metadata": {},
   "outputs": [
    {
     "name": "stdout",
     "output_type": "stream",
     "text": [
      "\n",
      "This string\n",
      "can contain\n",
      "a lot of\n",
      "text!\n"
     ]
    },
    {
     "data": {
      "text/plain": [
       "'\\nThis string\\ncan contain\\na lot of\\ntext!'"
      ]
     },
     "execution_count": 20,
     "metadata": {},
     "output_type": "execute_result"
    }
   ],
   "source": [
    "# blocks of strings can also be delimited with triple quotes\n",
    "print('''\n",
    "This string\n",
    "can contain\n",
    "a lot of\n",
    "text!''')\n",
    "\n",
    "'''\n",
    "This string\n",
    "can contain\n",
    "a lot of\n",
    "text!'''"
   ]
  },
  {
   "cell_type": "markdown",
   "id": "d927cb89-d7a7-4a2d-81e4-1ea5eb8e279e",
   "metadata": {},
   "source": [
    "#### String Operations\n",
    "- Strings can be compared with the == and != operators.\n",
    "- Strings can be concatenated with +\n",
    "- Strings can be repeated with the * operator and a number"
   ]
  },
  {
   "cell_type": "code",
   "execution_count": 21,
   "id": "b0f56578-850d-4293-ae26-771fdca6a4c1",
   "metadata": {},
   "outputs": [
    {
     "data": {
      "text/plain": [
       "True"
      ]
     },
     "execution_count": 21,
     "metadata": {},
     "output_type": "execute_result"
    }
   ],
   "source": [
    "'hello' == 'hello'"
   ]
  },
  {
   "cell_type": "code",
   "execution_count": 22,
   "id": "77bf518e-7dda-4739-bee2-e1a992a1711f",
   "metadata": {},
   "outputs": [
    {
     "data": {
      "text/plain": [
       "True"
      ]
     },
     "execution_count": 22,
     "metadata": {},
     "output_type": "execute_result"
    }
   ],
   "source": [
    "'abc' != 'def'"
   ]
  },
  {
   "cell_type": "code",
   "execution_count": 23,
   "id": "41ffd053-c5f6-48c9-83d2-0866310a149b",
   "metadata": {},
   "outputs": [
    {
     "data": {
      "text/plain": [
       "'abcdef'"
      ]
     },
     "execution_count": 23,
     "metadata": {},
     "output_type": "execute_result"
    }
   ],
   "source": [
    "'abc' + 'def'"
   ]
  },
  {
   "cell_type": "code",
   "execution_count": 24,
   "id": "db3583cf-a1c1-4da7-91b4-095e6b89773f",
   "metadata": {},
   "outputs": [
    {
     "data": {
      "text/plain": [
       "'abcabcabc'"
      ]
     },
     "execution_count": 24,
     "metadata": {},
     "output_type": "execute_result"
    }
   ],
   "source": [
    "'abc' * 3"
   ]
  },
  {
   "cell_type": "code",
   "execution_count": 25,
   "id": "ecdc1f03-41d5-413a-b6a4-4b7cd9d0e222",
   "metadata": {},
   "outputs": [],
   "source": [
    "# can't mix strings and numbers in most operations\n",
    "# 'abc' + 3 produces error"
   ]
  },
  {
   "cell_type": "markdown",
   "id": "a413861e-730e-4161-a8ff-74e6b67ba963",
   "metadata": {},
   "source": [
    "#### String Formatting"
   ]
  },
  {
   "cell_type": "markdown",
   "id": "95f1ac86-2794-42f0-8bdc-54ff4bd15f30",
   "metadata": {},
   "source": [
    "##### It is very common that a string needs to contain the contents of a variable. There are several differen ways to include variables in strings\n",
    "- `%` formatting: a little older, but still fairly common\n",
    "- `.format`: a newer wayu to format strings\n",
    "- f-strings: introduced in Python 3.6; comparable to string interpolation in other languages"
   ]
  },
  {
   "cell_type": "code",
   "execution_count": 26,
   "id": "07715c79-e075-4987-9005-bf256aea58c3",
   "metadata": {},
   "outputs": [],
   "source": [
    "name = 'World'"
   ]
  },
  {
   "cell_type": "code",
   "execution_count": 27,
   "id": "52a1b7e5-94d7-48d3-bdf7-f46dc654df76",
   "metadata": {},
   "outputs": [
    {
     "data": {
      "text/plain": [
       "'Hello, World!'"
      ]
     },
     "execution_count": 27,
     "metadata": {},
     "output_type": "execute_result"
    }
   ],
   "source": [
    "'Hello, %s!' % name"
   ]
  },
  {
   "cell_type": "code",
   "execution_count": 28,
   "id": "3a0b1852-def9-4929-901a-13fbc45645b2",
   "metadata": {},
   "outputs": [
    {
     "data": {
      "text/plain": [
       "'Hello, World!'"
      ]
     },
     "execution_count": 28,
     "metadata": {},
     "output_type": "execute_result"
    }
   ],
   "source": [
    "'Hello, {}!'.format(name)"
   ]
  },
  {
   "cell_type": "code",
   "execution_count": 29,
   "id": "efbbd862-69c4-4090-aa12-a152ff3f01b3",
   "metadata": {},
   "outputs": [
    {
     "data": {
      "text/plain": [
       "'Hello, World!'"
      ]
     },
     "execution_count": 29,
     "metadata": {},
     "output_type": "execute_result"
    }
   ],
   "source": [
    "f'Hello, {name}!'"
   ]
  },
  {
   "cell_type": "markdown",
   "id": "c5389881-a43a-4d08-8448-df620866807b",
   "metadata": {},
   "source": [
    "#### String Methods"
   ]
  },
  {
   "cell_type": "markdown",
   "id": "e44bad1e-7333-4e35-b355-a3a001f804f1",
   "metadata": {},
   "source": [
    "- `.lower` and `.upper`: convert the string to all lower or upper-case\n",
    "- `.strip`: removes any leading and trailing whitespace from the string\n",
    "- `.isdigit`: tests whether or not the string is a number\n",
    "- `.split`: converts a string to a list\n",
    "- `.join`: converts a list to a string"
   ]
  },
  {
   "cell_type": "markdown",
   "id": "2051fb99-d791-41de-b63e-b7a0a7de4dcd",
   "metadata": {},
   "source": [
    "<div class=\"alert alert-block alert-info\">\n",
    "All of the string methods here do not modify the original string, they return a new string with the modification."
   ]
  },
  {
   "cell_type": "code",
   "execution_count": 30,
   "id": "52a73445-f7d7-47b5-a562-93fcb7355266",
   "metadata": {},
   "outputs": [],
   "source": [
    "s = '    Hello, Codeup!    '"
   ]
  },
  {
   "cell_type": "code",
   "execution_count": 31,
   "id": "81fd792a-4642-4743-9b32-be908f166253",
   "metadata": {},
   "outputs": [
    {
     "data": {
      "text/plain": [
       "'    hello, codeup!    '"
      ]
     },
     "execution_count": 31,
     "metadata": {},
     "output_type": "execute_result"
    }
   ],
   "source": [
    "s.lower()"
   ]
  },
  {
   "cell_type": "code",
   "execution_count": 32,
   "id": "f4f94625-0c29-4fa2-8911-24de95a77986",
   "metadata": {},
   "outputs": [
    {
     "data": {
      "text/plain": [
       "'    HELLO, CODEUP!    '"
      ]
     },
     "execution_count": 32,
     "metadata": {},
     "output_type": "execute_result"
    }
   ],
   "source": [
    "s.upper()"
   ]
  },
  {
   "cell_type": "code",
   "execution_count": 33,
   "id": "40c2d4fc-6494-4428-8443-b7d32606a873",
   "metadata": {},
   "outputs": [
    {
     "data": {
      "text/plain": [
       "'Hello, Codeup!'"
      ]
     },
     "execution_count": 33,
     "metadata": {},
     "output_type": "execute_result"
    }
   ],
   "source": [
    "s.strip()"
   ]
  },
  {
   "cell_type": "code",
   "execution_count": 34,
   "id": "70dbc7e0-f39f-449f-8d29-f6b2d0ca7b20",
   "metadata": {},
   "outputs": [
    {
     "data": {
      "text/plain": [
       "False"
      ]
     },
     "execution_count": 34,
     "metadata": {},
     "output_type": "execute_result"
    }
   ],
   "source": [
    "s.isdigit()"
   ]
  },
  {
   "cell_type": "code",
   "execution_count": 35,
   "id": "1eeb5b96-e5ea-4881-9266-88c65cca774d",
   "metadata": {},
   "outputs": [
    {
     "data": {
      "text/plain": [
       "True"
      ]
     },
     "execution_count": 35,
     "metadata": {},
     "output_type": "execute_result"
    }
   ],
   "source": [
    "'123'.isdigit()"
   ]
  },
  {
   "cell_type": "code",
   "execution_count": 36,
   "id": "1abe9b67-1267-49b0-858f-30f13df8827e",
   "metadata": {},
   "outputs": [
    {
     "data": {
      "text/plain": [
       "['Hello,', 'Codeup!']"
      ]
     },
     "execution_count": 36,
     "metadata": {},
     "output_type": "execute_result"
    }
   ],
   "source": [
    "s.strip().split()"
   ]
  },
  {
   "cell_type": "code",
   "execution_count": 37,
   "id": "97004de5-2c20-4631-9105-fb06aa7ad1bc",
   "metadata": {},
   "outputs": [
    {
     "data": {
      "text/plain": [
       "'one, two, three'"
      ]
     },
     "execution_count": 37,
     "metadata": {},
     "output_type": "execute_result"
    }
   ],
   "source": [
    "', '.join(['one', 'two', 'three'])"
   ]
  },
  {
   "cell_type": "markdown",
   "id": "45f850d1-8280-43d7-b94a-3742e99b57c4",
   "metadata": {},
   "source": [
    "#### Lists"
   ]
  },
  {
   "cell_type": "markdown",
   "id": "9f14b42d-935e-49a9-a9b2-13f79a622f0d",
   "metadata": {},
   "source": [
    "- lists allow us to store a sequence of objects\n",
    "- each list item is called an 'element'\n",
    "- elements in a list can be any type (including another list)\n",
    "- most commonly, lists contain elements of the same type\n",
    "- lists in Python, generally take the place of 'arrays' in languages like C, but can do extra things like be changed and have elements of various types"
   ]
  },
  {
   "cell_type": "code",
   "execution_count": 38,
   "id": "20205565-48ea-4fc5-a3a0-474df04c7765",
   "metadata": {},
   "outputs": [
    {
     "data": {
      "text/plain": [
       "[1, 2, 3]"
      ]
     },
     "execution_count": 38,
     "metadata": {},
     "output_type": "execute_result"
    }
   ],
   "source": [
    "# a list with three numbers\n",
    "[1, 2, 3]"
   ]
  },
  {
   "cell_type": "code",
   "execution_count": 39,
   "id": "5ff9606d-14d3-4766-968a-a06de7903957",
   "metadata": {},
   "outputs": [
    {
     "data": {
      "text/plain": [
       "['one', 'two', 'three']"
      ]
     },
     "execution_count": 39,
     "metadata": {},
     "output_type": "execute_result"
    }
   ],
   "source": [
    "# a list with three strings\n",
    "['one', 'two', 'three']"
   ]
  },
  {
   "cell_type": "code",
   "execution_count": 40,
   "id": "dbd2dc7d-b015-4bff-81c0-4def0c82aa2e",
   "metadata": {},
   "outputs": [
    {
     "data": {
      "text/plain": [
       "[[1, 2, 3], [4, 5, 6], [7, 8, 9]]"
      ]
     },
     "execution_count": 40,
     "metadata": {},
     "output_type": "execute_result"
    }
   ],
   "source": [
    "# a list of lists\n",
    "[[1, 2, 3], [4, 5, 6], [7, 8, 9]]"
   ]
  },
  {
   "cell_type": "markdown",
   "id": "c4d92484-53b2-4680-ad8b-f4147230c71a",
   "metadata": {},
   "source": [
    "#### List Operations\n",
    "- items can be added to a list with `.append`\n",
    "- items can be removed from a list with `.pop`\n"
   ]
  },
  {
   "cell_type": "code",
   "execution_count": 41,
   "id": "59530ce2-4f54-4909-8467-29d1c8b956f1",
   "metadata": {},
   "outputs": [],
   "source": [
    "numbers = [1, 2, 3]"
   ]
  },
  {
   "cell_type": "code",
   "execution_count": 42,
   "id": "33e810d0-71f5-4dd6-b083-877b4c99c214",
   "metadata": {},
   "outputs": [
    {
     "data": {
      "text/plain": [
       "[1, 2, 3, 4]"
      ]
     },
     "execution_count": 42,
     "metadata": {},
     "output_type": "execute_result"
    }
   ],
   "source": [
    "numbers.append(4)\n",
    "numbers"
   ]
  },
  {
   "cell_type": "code",
   "execution_count": 43,
   "id": "2ad8ba1e-4506-4361-a7ae-bf2748748dbf",
   "metadata": {},
   "outputs": [
    {
     "data": {
      "text/plain": [
       "[1, 2, 3]"
      ]
     },
     "execution_count": 43,
     "metadata": {},
     "output_type": "execute_result"
    }
   ],
   "source": [
    "numbers.pop()\n",
    "numbers"
   ]
  },
  {
   "cell_type": "code",
   "execution_count": 44,
   "id": "fc08ecd2-ae0b-4ad8-8414-688a1a116eb3",
   "metadata": {},
   "outputs": [
    {
     "data": {
      "text/plain": [
       "3"
      ]
     },
     "execution_count": 44,
     "metadata": {},
     "output_type": "execute_result"
    }
   ],
   "source": [
    "len(numbers)"
   ]
  },
  {
   "cell_type": "markdown",
   "id": "fd7a7d71-13e8-49c3-831c-83de46a76c48",
   "metadata": {},
   "source": [
    "##### List Indexing"
   ]
  },
  {
   "cell_type": "code",
   "execution_count": 45,
   "id": "8afa24ce-591e-4bc9-98df-207351bfd724",
   "metadata": {},
   "outputs": [
    {
     "data": {
      "text/plain": [
       "1"
      ]
     },
     "execution_count": 45,
     "metadata": {},
     "output_type": "execute_result"
    }
   ],
   "source": [
    "# refer to the first element in the list:\n",
    "numbers[0]"
   ]
  },
  {
   "cell_type": "code",
   "execution_count": 46,
   "id": "d7822791-cde1-4e1e-ae7d-3d8c92b7dea3",
   "metadata": {},
   "outputs": [
    {
     "data": {
      "text/plain": [
       "3"
      ]
     },
     "execution_count": 46,
     "metadata": {},
     "output_type": "execute_result"
    }
   ],
   "source": [
    "# refer to the last element in the list:\n",
    "numbers[-1]"
   ]
  },
  {
   "cell_type": "code",
   "execution_count": 47,
   "id": "ca44f66d-b121-4ed5-a171-b5c84caaf767",
   "metadata": {},
   "outputs": [
    {
     "data": {
      "text/plain": [
       "3"
      ]
     },
     "execution_count": 47,
     "metadata": {},
     "output_type": "execute_result"
    }
   ],
   "source": [
    "# this could also be called by calling the index from left\n",
    "numbers[2]"
   ]
  },
  {
   "cell_type": "code",
   "execution_count": 48,
   "id": "a0ebfbbe-58ea-43f7-8af9-653b385997ef",
   "metadata": {},
   "outputs": [
    {
     "data": {
      "text/plain": [
       "[1, 2]"
      ]
     },
     "execution_count": 48,
     "metadata": {},
     "output_type": "execute_result"
    }
   ],
   "source": [
    "# 'Slices' of a list can be called by using the `:` to indicate range inside `[]`\n",
    "    # everything up to, but not including the element at index 2\n",
    "numbers[:2]\n"
   ]
  },
  {
   "cell_type": "code",
   "execution_count": 49,
   "id": "e9babe99-64a5-41de-add7-d12b0c1a2edb",
   "metadata": {},
   "outputs": [
    {
     "data": {
      "text/plain": [
       "[2]"
      ]
     },
     "execution_count": 49,
     "metadata": {},
     "output_type": "execute_result"
    }
   ],
   "source": [
    "# everything including index one up to but not including index 2\n",
    "numbers[1:2]"
   ]
  },
  {
   "cell_type": "code",
   "execution_count": 50,
   "id": "4b56d3fb-98c8-4f78-be81-1f4abcaffade",
   "metadata": {},
   "outputs": [
    {
     "data": {
      "text/plain": [
       "[2, 3]"
      ]
     },
     "execution_count": 50,
     "metadata": {},
     "output_type": "execute_result"
    }
   ],
   "source": [
    "# every element from index one to the end of the list\n",
    "numbers[1:]"
   ]
  },
  {
   "cell_type": "markdown",
   "id": "3eefde31-53c2-4930-bbf4-55fd570663ac",
   "metadata": {},
   "source": [
    "#### Converting to a List"
   ]
  },
  {
   "cell_type": "markdown",
   "id": "e4a883c8-07d9-4e1b-ac65-286b5d2c9411",
   "metadata": {},
   "source": [
    "<div class=\"alert alert-block alert-info\">\n",
    "Many Python functions return an 'iterable', as opposed to a list. For example, the range function returns an iterable `range` object, not a list. These types of objects can be converted to a list by using the `list` function."
   ]
  },
  {
   "cell_type": "code",
   "execution_count": 51,
   "id": "f1a9ce96-69b1-47ab-8ab8-86124aff79e9",
   "metadata": {},
   "outputs": [
    {
     "data": {
      "text/plain": [
       "[0, 1, 2, 3, 4, 5, 6, 7, 8, 9]"
      ]
     },
     "execution_count": 51,
     "metadata": {},
     "output_type": "execute_result"
    }
   ],
   "source": [
    "list(range(10))"
   ]
  },
  {
   "cell_type": "code",
   "execution_count": 52,
   "id": "bf912d6e-49c3-4cab-a08f-af2f1eb0ecbe",
   "metadata": {},
   "outputs": [
    {
     "data": {
      "text/plain": [
       "range"
      ]
     },
     "execution_count": 52,
     "metadata": {},
     "output_type": "execute_result"
    }
   ],
   "source": [
    "type(range(10))"
   ]
  },
  {
   "cell_type": "code",
   "execution_count": 53,
   "id": "6238ac7a-edd2-4afd-a510-f5d4cf6b59e0",
   "metadata": {},
   "outputs": [
    {
     "data": {
      "text/plain": [
       "['a', 'b', 'c', 'd', 'e']"
      ]
     },
     "execution_count": 53,
     "metadata": {},
     "output_type": "execute_result"
    }
   ],
   "source": [
    "list('abcde')"
   ]
  },
  {
   "cell_type": "code",
   "execution_count": 54,
   "id": "d8b0fb98-1310-4dec-8358-ac451c5cbfcb",
   "metadata": {},
   "outputs": [
    {
     "data": {
      "text/plain": [
       "['1', '2', '3']"
      ]
     },
     "execution_count": 54,
     "metadata": {},
     "output_type": "execute_result"
    }
   ],
   "source": [
    "list(map(str, [1, 2, 3]))"
   ]
  },
  {
   "cell_type": "code",
   "execution_count": 55,
   "id": "9a2c2190-8763-469d-8bc0-2118be9791fa",
   "metadata": {},
   "outputs": [
    {
     "data": {
      "text/plain": [
       "map"
      ]
     },
     "execution_count": 55,
     "metadata": {},
     "output_type": "execute_result"
    }
   ],
   "source": [
    "type(map(str, [1, 2, 3]))"
   ]
  },
  {
   "cell_type": "markdown",
   "id": "664f17bc-a1e5-4feb-9be0-a4cc9cb82b46",
   "metadata": {},
   "source": [
    "#### Tuples\n",
    "- 'tuples' are like lists except that they are *immutable*\n",
    "- once a tuple is created, its length is fixed and nothing can be added/removed\n",
    "- generally, tuples are used when elements of different types v. lists used when same type.\n",
    "- lists are much more common"
   ]
  },
  {
   "cell_type": "code",
   "execution_count": 56,
   "id": "86442220-b34e-4fbb-8142-8dd0578b1b88",
   "metadata": {},
   "outputs": [
    {
     "data": {
      "text/plain": [
       "(1, 'two', ['t', 'h', 'r', 'e', 'e'])"
      ]
     },
     "execution_count": 56,
     "metadata": {},
     "output_type": "execute_result"
    }
   ],
   "source": [
    "(1, 'two', ['t', 'h', 'r', 'e', 'e'])"
   ]
  },
  {
   "cell_type": "code",
   "execution_count": 57,
   "id": "a8a6eaf6-e2b9-4803-8eec-e45f7dec083a",
   "metadata": {},
   "outputs": [
    {
     "data": {
      "text/plain": [
       "2"
      ]
     },
     "execution_count": 57,
     "metadata": {},
     "output_type": "execute_result"
    }
   ],
   "source": [
    "my_tuple = (1, 2, 3)\n",
    "my_tuple[1]"
   ]
  },
  {
   "cell_type": "markdown",
   "id": "02444ee0-1417-4466-9610-a11ba7408656",
   "metadata": {},
   "source": [
    "\n",
    "#### Dictionaries\n",
    "- a way to group values together and give a name to each value.\n",
    "- the *names* of the values are referred to as *keys*)\n",
    "- the names together with their respective values are called *key-value pairs*\n",
    "- dictionaries can be created by writing a dictiounary literal, which is delimited with curly braces, the keys are separated from the values with a colon, and key-value pairs are separated by commas."
   ]
  },
  {
   "cell_type": "code",
   "execution_count": 58,
   "id": "9b32d3c5-a83a-46ce-b461-418e3035e95b",
   "metadata": {},
   "outputs": [
    {
     "data": {
      "text/plain": [
       "{'name': 'Codeup', 'age': 4}"
      ]
     },
     "execution_count": 58,
     "metadata": {},
     "output_type": "execute_result"
    }
   ],
   "source": [
    "{'name': 'Codeup', 'age': 4}"
   ]
  },
  {
   "cell_type": "code",
   "execution_count": 59,
   "id": "fb8c5bb1-c292-45c0-845d-7a31d009b61b",
   "metadata": {},
   "outputs": [
    {
     "data": {
      "text/plain": [
       "dict"
      ]
     },
     "execution_count": 59,
     "metadata": {},
     "output_type": "execute_result"
    }
   ],
   "source": [
    "type({'name': 'Codeup', 'age': 4})"
   ]
  },
  {
   "cell_type": "markdown",
   "id": "0d21a425-c73b-42b1-a275-e5c1a5a5060d",
   "metadata": {},
   "source": [
    "- dictionaries can also be created using the built-in `dict` function:"
   ]
  },
  {
   "cell_type": "code",
   "execution_count": 60,
   "id": "a62f8cbc-b42d-45f7-87aa-cce93c1facfc",
   "metadata": {},
   "outputs": [
    {
     "data": {
      "text/plain": [
       "{'name': 'Codeup', 'age': 4}"
      ]
     },
     "execution_count": 60,
     "metadata": {},
     "output_type": "execute_result"
    }
   ],
   "source": [
    "dict(name='Codeup', age=4)"
   ]
  },
  {
   "cell_type": "markdown",
   "id": "5e8a1ad7-f08d-49a1-9027-70c163356087",
   "metadata": {},
   "source": [
    "- You can access values in a dictionary by their name, somewhat similar to lists"
   ]
  },
  {
   "cell_type": "code",
   "execution_count": 61,
   "id": "33ffcf42-8ad4-4ff8-ab95-8dc8f19ac407",
   "metadata": {},
   "outputs": [],
   "source": [
    "school = dict(name='Codeup', age=4)"
   ]
  },
  {
   "cell_type": "code",
   "execution_count": 62,
   "id": "5ddd7d6a-ac0b-454c-b0fa-fb288d13dae5",
   "metadata": {},
   "outputs": [
    {
     "data": {
      "text/plain": [
       "'Codeup'"
      ]
     },
     "execution_count": 62,
     "metadata": {},
     "output_type": "execute_result"
    }
   ],
   "source": [
    "school['name']"
   ]
  },
  {
   "cell_type": "code",
   "execution_count": 63,
   "id": "911576a3-9bae-4882-ac73-05eb60024efb",
   "metadata": {},
   "outputs": [
    {
     "data": {
      "text/plain": [
       "5"
      ]
     },
     "execution_count": 63,
     "metadata": {},
     "output_type": "execute_result"
    }
   ],
   "source": [
    "school['age'] + 1"
   ]
  },
  {
   "cell_type": "code",
   "execution_count": 64,
   "id": "07fa8113-7c09-4ef4-9b98-9021ad635add",
   "metadata": {},
   "outputs": [
    {
     "data": {
      "text/plain": [
       "4"
      ]
     },
     "execution_count": 64,
     "metadata": {},
     "output_type": "execute_result"
    }
   ],
   "source": [
    "school['age']"
   ]
  },
  {
   "cell_type": "code",
   "execution_count": 65,
   "id": "5e0d7a0f-dac3-4f3f-b69f-aeb9e502ce3e",
   "metadata": {},
   "outputs": [],
   "source": [
    "school['age'] += 1"
   ]
  },
  {
   "cell_type": "code",
   "execution_count": 66,
   "id": "91588c70-7e45-4a15-ab03-55df2c957390",
   "metadata": {},
   "outputs": [
    {
     "data": {
      "text/plain": [
       "5"
      ]
     },
     "execution_count": 66,
     "metadata": {},
     "output_type": "execute_result"
    }
   ],
   "source": [
    "school['age']"
   ]
  },
  {
   "cell_type": "code",
   "execution_count": 67,
   "id": "9f4cb909-91a7-482d-aeea-39e90b8dfca0",
   "metadata": {},
   "outputs": [
    {
     "data": {
      "text/plain": [
       "{'name': 'Codeup', 'age': 5}"
      ]
     },
     "execution_count": 67,
     "metadata": {},
     "output_type": "execute_result"
    }
   ],
   "source": [
    "school"
   ]
  },
  {
   "cell_type": "code",
   "execution_count": 68,
   "id": "fe4d0d95-6205-49db-9d45-d8e7be9c8c89",
   "metadata": {},
   "outputs": [
    {
     "name": "stdout",
     "output_type": "stream",
     "text": [
      "The type of 99.9 is <class 'float'>\n",
      "The type of 'False' is <class 'str'>\n",
      "The type of False is <class 'bool'>\n",
      "The type of '0' is <class 'str'>\n",
      "The type of 0 is <class 'int'>\n",
      "The type of True is <class 'bool'>\n",
      "\n",
      "      The type of 'True' is <class 'str'> \n",
      "      and the type of \"True\" is <class 'str'>\n",
      "      \n"
     ]
    }
   ],
   "source": [
    "import data_types_and_variables"
   ]
  },
  {
   "cell_type": "markdown",
   "id": "db9b899e-e77f-4f24-bfec-0a17f9c4128a",
   "metadata": {},
   "source": [
    "5. Suppose you're working as a contractor for 3 companies: Google, Amazon and Facebook.\n",
    "- They pay you the following hourly rates:\n",
    "\n",
    "    - Google: 400 dollars\n",
    "    - Amazon: 380 dollars\n",
    "    - Facebook: 350 dollars\n",
    "\n",
    "This week you worked: 10 hours for Facebook, 6 hours for Google, and 4 hours for Amazon.\n",
    "\n",
    "How much will you receive in payment for this week?\n"
   ]
  },
  {
   "cell_type": "code",
   "execution_count": 71,
   "id": "2e56411d-89be-4e32-b5b6-738a91d6ca53",
   "metadata": {},
   "outputs": [
    {
     "name": "stdout",
     "output_type": "stream",
     "text": [
      "Your weekly pay is $7420.00.\n"
     ]
    }
   ],
   "source": [
    "g_rate = 400\n",
    "a_rate = 380\n",
    "f_rate = 350\n",
    "\n",
    "g_time = 6\n",
    "a_time = 4\n",
    "f_time = 10\n",
    "\n",
    "weekly_pay = g_rate*g_time + a_rate*a_time + f_rate*f_time\n",
    "print(f'Your weekly pay is ${weekly_pay:.2f}.')"
   ]
  },
  {
   "cell_type": "markdown",
   "id": "e1b6ea2c-4ea7-43ce-b543-2cae1ccced77",
   "metadata": {},
   "source": [
    "6. A student can be enrolled in a class only if the class is not full and the class schedule does not conflict with her current schedule.\n",
    "\n"
   ]
  },
  {
   "cell_type": "code",
   "execution_count": 78,
   "id": "1160ce94-a0f5-43a5-87a0-56bb1f549936",
   "metadata": {},
   "outputs": [
    {
     "name": "stdout",
     "output_type": "stream",
     "text": [
      "Is the class full? Input Y or N\n"
     ]
    },
    {
     "name": "stdin",
     "output_type": "stream",
     "text": [
      " y\n"
     ]
    },
    {
     "name": "stdout",
     "output_type": "stream",
     "text": [
      "Does the class conflict with the students schedule? Input Y or N\n"
     ]
    },
    {
     "name": "stdin",
     "output_type": "stream",
     "text": [
      " y\n"
     ]
    },
    {
     "name": "stdout",
     "output_type": "stream",
     "text": [
      "The student cannot enroll in the class\n"
     ]
    }
   ],
   "source": [
    "# Ask initial question to user followed by request for input standardized to upper-case\n",
    "print('Is the class full? Input Y or N')\n",
    "is_full_input = input().upper()\n",
    "\n",
    "# assign variable is_full to be True if is_full_input is 'Y'\n",
    "is_full = is_full_input == 'Y'\n",
    "\n",
    "# Ask second question to user followed by request for input standardized to upper-case\n",
    "print('Does the class conflict with the students schedule? Input Y or N')\n",
    "has_conflict_input = input().upper()\n",
    "\n",
    "# assign variable has_conflict to be True if has_conflict_input is 'Y'\n",
    "has_conflict = has_conflict_input == 'Y'\n",
    "\n",
    "# assign variable can_enroll to be True is student meets requirements to enroll in class\n",
    "can_enroll = not is_full and not has_conflict\n",
    "\n",
    "# print appropriate statement depending on whether can_enroll is True\n",
    "if can_enroll == True:\n",
    "    print('The student can enroll in the class')\n",
    "else:\n",
    "    print('The student cannot enroll in the class')"
   ]
  },
  {
   "cell_type": "markdown",
   "id": "343c9955-aa11-4635-8ee3-588a305b769b",
   "metadata": {},
   "source": [
    "7. A product offer can be applied only if a customer buys more than 2 items, and the offer has not expired. Premium members do not need to buy a specific amount of products.\n",
    "\n"
   ]
  },
  {
   "cell_type": "markdown",
   "id": "fe6fa9d5-0f4e-456c-b593-b6b07202e6c1",
   "metadata": {},
   "source": [
    "8. Use the following code to follow the instructions below:\n",
    "\n",
    "`username = 'codeup'`\n",
    "\n",
    "`password = 'notastrongpassword'\n",
    "`\n",
    "\n",
    "Create a variable that holds a boolean value for each of the following conditions:\n",
    "\n",
    "- The password must be at least 5 characters\n",
    "- The username must be no more than 20 characters\n",
    "- The password must not be the same as the username\n",
    "- Bonus Neither the username or password can start nor end with whitespace\n",
    "\n"
   ]
  },
  {
   "cell_type": "code",
   "execution_count": 86,
   "id": "2b963bd2-c09c-45a6-8f7e-278c0bb8da7a",
   "metadata": {},
   "outputs": [
    {
     "name": "stdout",
     "output_type": "stream",
     "text": [
      "True True True True\n"
     ]
    }
   ],
   "source": [
    "\n",
    "\n",
    "username = 'codeup'\n",
    "password = 'notastrongpassword'\n",
    "\n",
    "at_least_5 = len(password) >= 5\n",
    "twenty_or_less = len(username) <= 20\n",
    "not_same = username != password\n",
    "no_whitespace = username == username.strip() and password == password.strip()\n",
    "\n",
    "print(at_least_5, twenty_or_less, not_same, no_whitespace)\n",
    "\n",
    "#  # Assertions to test the conditions\n",
    "# assert at_least_5, \"Password should have at least 5 characters.\"\n",
    "# assert twenty_or_less, \"Username should have 20 characters or less.\"\n",
    "# assert not_same, \"Username and password should not be the same.\"\n",
    "# assert no_whitespace, \"Username and password should not have leading or trailing whitespace.\"\n",
    "\n",
    "#     # print(\"All conditions passed successfully.\")"
   ]
  },
  {
   "cell_type": "markdown",
   "id": "cdf2cc8d-87e0-4b0d-875a-624429047dfa",
   "metadata": {},
   "source": [
    "#### Control Structures"
   ]
  },
  {
   "cell_type": "code",
   "execution_count": 11,
   "id": "274f1ead-a42a-4fbf-9b0b-5d6f574ecd3b",
   "metadata": {},
   "outputs": [],
   "source": [
    "def monday_or_not():\n",
    "    print('Type a day of the week.')\n",
    "    user_in = input()\n",
    "    if user_in.lower().strip() == 'monday':\n",
    "        print('Yeup, that\\'s a Monday.')\n",
    "    else:\n",
    "        print('Definitely not a Monday!.')\n",
    "    "
   ]
  },
  {
   "cell_type": "code",
   "execution_count": 12,
   "id": "c7868caf-e730-45c0-a264-10f66d5f83de",
   "metadata": {},
   "outputs": [
    {
     "name": "stdout",
     "output_type": "stream",
     "text": [
      "Type a day of the week.\n"
     ]
    },
    {
     "name": "stdin",
     "output_type": "stream",
     "text": [
      "   mOnday\n"
     ]
    },
    {
     "name": "stdout",
     "output_type": "stream",
     "text": [
      "Yeup, that's a Monday.\n"
     ]
    }
   ],
   "source": [
    "monday_or_not()"
   ]
  },
  {
   "cell_type": "code",
   "execution_count": 14,
   "id": "2bd9b4e4-c7f1-408d-a882-bb15b39e5d9d",
   "metadata": {},
   "outputs": [],
   "source": [
    "def weekday_or_weekend():\n",
    "    weekdays = ['monday', 'tuesday', 'wednesday'\n",
    "               , 'thursday', 'friday']\n",
    "    weekend_days = ['saturday', 'sunday']\n",
    "    print('Type a day of the week.')\n",
    "    user_in = input().lower().strip()\n",
    "    if user_in in weekdays:\n",
    "        print('That, good sir or madam, is a weekday.')\n",
    "    elif user_in in weekend_days:\n",
    "        print('Hell yeah, that\\'s a weekend day!')\n",
    "    else:\n",
    "        print('Dunno what that is, but it isn\\'t a day of the week!')\n",
    "        \n",
    "              "
   ]
  },
  {
   "cell_type": "code",
   "execution_count": 36,
   "id": "2ba99b4b-da0c-4903-977b-201025fec92c",
   "metadata": {},
   "outputs": [
    {
     "name": "stdout",
     "output_type": "stream",
     "text": [
      "Type a day of the week.\n"
     ]
    },
    {
     "name": "stdin",
     "output_type": "stream",
     "text": [
      " what a day\n"
     ]
    },
    {
     "name": "stdout",
     "output_type": "stream",
     "text": [
      "Dunno what that is, but it isn't a day of the week!\n"
     ]
    }
   ],
   "source": [
    "weekday_or_weekend()"
   ]
  },
  {
   "cell_type": "code",
   "execution_count": 38,
   "id": "0c9fe155-0a9d-40fb-9247-2b33ba2c0fdd",
   "metadata": {},
   "outputs": [],
   "source": [
    "def weekly_pay():\n",
    "    print('Welcome to your paycheck calculator')\n",
    "    hourly_rate = float(input(\"Enter your hourly pay rate: $\").strip())\n",
    "    hours_worked = float(input('Enter the number of hours worked this pay period: '))\n",
    "    print(f'Your gross pay for the week is ${hourly_rate * hours_worked :.2f}')    "
   ]
  },
  {
   "cell_type": "code",
   "execution_count": 39,
   "id": "a2ec34f9-98d6-4867-9c08-c1b7c8620b2d",
   "metadata": {},
   "outputs": [
    {
     "name": "stdout",
     "output_type": "stream",
     "text": [
      "Welcome to your paycheck calculator\n"
     ]
    },
    {
     "name": "stdin",
     "output_type": "stream",
     "text": [
      "Enter your hourly pay rate: $ 23.45\n",
      "Enter the number of hours worked this pay period:  42\n"
     ]
    },
    {
     "name": "stdout",
     "output_type": "stream",
     "text": [
      "Your gross pay for the week is $984.90\n"
     ]
    }
   ],
   "source": [
    "weekly_pay()"
   ]
  },
  {
   "cell_type": "code",
   "execution_count": 48,
   "id": "44b546c7-5692-412e-b740-f1be6edea382",
   "metadata": {},
   "outputs": [
    {
     "name": "stdin",
     "output_type": "stream",
     "text": [
      " 5\n",
      " ash\n",
      " 100\n",
      " bob\n",
      " 99\n",
      " cal\n",
      " 99\n",
      " dan\n",
      " 98\n",
      " eric\n",
      " 97\n"
     ]
    },
    {
     "name": "stdout",
     "output_type": "stream",
     "text": [
      "[['ash', 100.0], ['bob', 99.0], ['cal', 99.0], ['dan', 98.0], ['eric', 97.0]]\n",
      "98.0\n",
      "dan\n"
     ]
    }
   ],
   "source": [
    "if __name__ == '__main__':\n",
    "    master_list = []\n",
    "    for _ in range(int(input())):\n",
    "        name = input()\n",
    "        score = float(input())\n",
    "        master_list.append([name, score])\n",
    "        \n",
    "print(master_list)\n",
    "# find list of unique scores using set(), convert set to list\n",
    "unique_scores = list(set([x[1] for x in master_list]))\n",
    "# sort unique scores low to high and select second (index 1)\n",
    "second_lowest_score = sorted(unique_scores)[1]\n",
    "print(second_lowest_score)\n",
    "# find lists in master_list that have second_lowest_score\n",
    "# add name to list and sort alphabetically\n",
    "sls_names = sorted([x[0] for x in master_list if x[1] == second_lowest_score])\n",
    "for name in sls_names:\n",
    "    print(name)"
   ]
  },
  {
   "cell_type": "code",
   "execution_count": null,
   "id": "67f4b561-6476-424e-9b96-8af61367af22",
   "metadata": {},
   "outputs": [],
   "source": []
  }
 ],
 "metadata": {
  "kernelspec": {
   "display_name": "Python 3 (ipykernel)",
   "language": "python",
   "name": "python3"
  },
  "language_info": {
   "codemirror_mode": {
    "name": "ipython",
    "version": 3
   },
   "file_extension": ".py",
   "mimetype": "text/x-python",
   "name": "python",
   "nbconvert_exporter": "python",
   "pygments_lexer": "ipython3",
   "version": "3.9.13"
  }
 },
 "nbformat": 4,
 "nbformat_minor": 5
}
