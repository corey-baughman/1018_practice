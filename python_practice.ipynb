{
 "cells": [
  {
   "cell_type": "code",
   "execution_count": 1,
   "id": "94af37e0-01f8-4e08-8219-aece79eb816b",
   "metadata": {},
   "outputs": [
    {
     "data": {
      "text/plain": [
       "int"
      ]
     },
     "execution_count": 1,
     "metadata": {},
     "output_type": "execute_result"
    }
   ],
   "source": [
    "type(123)"
   ]
  },
  {
   "cell_type": "code",
   "execution_count": 2,
   "id": "43578978-0722-43be-9215-f757a0cc8958",
   "metadata": {},
   "outputs": [],
   "source": [
    "favorite_number = 42\n",
    "n = favorite_number + 7"
   ]
  },
  {
   "cell_type": "code",
   "execution_count": 3,
   "id": "fc1649db-31e9-4e4f-9c8b-71cb5e7d8ae7",
   "metadata": {},
   "outputs": [
    {
     "data": {
      "text/plain": [
       "49"
      ]
     },
     "execution_count": 3,
     "metadata": {},
     "output_type": "execute_result"
    }
   ],
   "source": [
    "n"
   ]
  },
  {
   "cell_type": "code",
   "execution_count": 4,
   "id": "88ee64c3-3acc-4d9d-8703-4b282d45a674",
   "metadata": {},
   "outputs": [
    {
     "name": "stdout",
     "output_type": "stream",
     "text": [
      "49\n"
     ]
    }
   ],
   "source": [
    "print(n)"
   ]
  },
  {
   "cell_type": "markdown",
   "id": "e7b36fa1-7e3b-4015-9e81-9e92ab9d4c1e",
   "metadata": {},
   "source": [
    "#### Booleans"
   ]
  },
  {
   "cell_type": "code",
   "execution_count": 5,
   "id": "c9059258-822e-425f-9bed-d9a14636f183",
   "metadata": {},
   "outputs": [
    {
     "data": {
      "text/plain": [
       "True"
      ]
     },
     "execution_count": 5,
     "metadata": {},
     "output_type": "execute_result"
    }
   ],
   "source": [
    "True == True"
   ]
  },
  {
   "cell_type": "code",
   "execution_count": 6,
   "id": "f757c013-4137-40af-8f50-2d5e814d83fd",
   "metadata": {},
   "outputs": [
    {
     "data": {
      "text/plain": [
       "False"
      ]
     },
     "execution_count": 6,
     "metadata": {},
     "output_type": "execute_result"
    }
   ],
   "source": [
    "True != True"
   ]
  },
  {
   "cell_type": "code",
   "execution_count": 7,
   "id": "171a660e-d7ba-40fa-b585-e429f7716d36",
   "metadata": {},
   "outputs": [
    {
     "data": {
      "text/plain": [
       "False"
      ]
     },
     "execution_count": 7,
     "metadata": {},
     "output_type": "execute_result"
    }
   ],
   "source": [
    "True > True"
   ]
  },
  {
   "cell_type": "code",
   "execution_count": 9,
   "id": "aa601579-4198-4d16-9d4f-371230618602",
   "metadata": {},
   "outputs": [
    {
     "name": "stdout",
     "output_type": "stream",
     "text": [
      "True\n"
     ]
    }
   ],
   "source": [
    "is_first_of_the_month = True\n",
    "report_has_been_filed = False\n",
    "\n",
    "should_process_report = is_first_of_the_month and not report_has_been_filed\n",
    "\n",
    "print(should_process_report)"
   ]
  },
  {
   "cell_type": "markdown",
   "id": "a0cb1cc9-6b68-4984-837a-5ff767b4848f",
   "metadata": {},
   "source": [
    "#### Numbers"
   ]
  },
  {
   "cell_type": "code",
   "execution_count": 23,
   "id": "37235275-2d64-41a0-8713-6d3bbe0f3d84",
   "metadata": {},
   "outputs": [],
   "source": [
    "# Addition\n",
    "add = 4 + 5"
   ]
  },
  {
   "cell_type": "code",
   "execution_count": 24,
   "id": "5128ad50-50e9-4a92-9307-a4d50cff0ef0",
   "metadata": {},
   "outputs": [],
   "source": [
    "# Subtraction\n",
    "sub = 9 - 1"
   ]
  },
  {
   "cell_type": "code",
   "execution_count": 25,
   "id": "b37a2789-9e46-4efb-a73e-196336955a95",
   "metadata": {},
   "outputs": [],
   "source": [
    "# Multiplication\n",
    "mult = 4 * 2"
   ]
  },
  {
   "cell_type": "code",
   "execution_count": 38,
   "id": "ef3f451b-0f5c-4854-8d67-66d101121b9b",
   "metadata": {},
   "outputs": [],
   "source": [
    "# Division\n",
    "div = 8 / 4"
   ]
  },
  {
   "cell_type": "code",
   "execution_count": 40,
   "id": "5042f0bc-a983-4bb0-b961-b024a19992dc",
   "metadata": {},
   "outputs": [],
   "source": [
    "# Exponentiation\n",
    "exp = 2 ** 4"
   ]
  },
  {
   "cell_type": "code",
   "execution_count": 42,
   "id": "704a92f1-1e2d-4dba-91f1-9328cf237d33",
   "metadata": {},
   "outputs": [
    {
     "name": "stdout",
     "output_type": "stream",
     "text": [
      "9 <class 'int'>\n",
      "8 <class 'int'>\n",
      "8 <class 'int'>\n",
      "2.0 <class 'float'>\n",
      "16 <class 'int'>\n"
     ]
    }
   ],
   "source": [
    "list = [add, sub, mult, div, exp]\n",
    "\n",
    "for i in list:\n",
    "    print(i, type(i)) "
   ]
  },
  {
   "cell_type": "code",
   "execution_count": 35,
   "id": "961c8e7a-143a-4739-abc0-21a42e77434e",
   "metadata": {},
   "outputs": [],
   "source": [
    "# interesting that division is the only operation that produces a float"
   ]
  },
  {
   "cell_type": "markdown",
   "id": "09c2a0fe-de52-4272-bd4a-565336f105ff",
   "metadata": {},
   "source": [
    "#### Numeric expressions with Booleans"
   ]
  },
  {
   "cell_type": "code",
   "execution_count": 43,
   "id": "8135eb60-7952-4ec5-8210-5975da577dba",
   "metadata": {},
   "outputs": [
    {
     "data": {
      "text/plain": [
       "False"
      ]
     },
     "execution_count": 43,
     "metadata": {},
     "output_type": "execute_result"
    }
   ],
   "source": [
    "4 ** 2 != 2 ** 4"
   ]
  },
  {
   "cell_type": "code",
   "execution_count": 44,
   "id": "9770333e-af86-4657-9fe4-11ece54c5419",
   "metadata": {},
   "outputs": [],
   "source": [
    "# <, >, <=, >="
   ]
  },
  {
   "cell_type": "markdown",
   "id": "52c06704-cccc-4164-a16e-7cdf23475d39",
   "metadata": {},
   "source": [
    "#### Strings"
   ]
  },
  {
   "cell_type": "code",
   "execution_count": 46,
   "id": "3a227841-a6c5-4596-916f-8a50e964eaaf",
   "metadata": {},
   "outputs": [
    {
     "data": {
      "text/plain": [
       "'123'"
      ]
     },
     "execution_count": 46,
     "metadata": {},
     "output_type": "execute_result"
    }
   ],
   "source": [
    "'hello there'\n",
    "''\n",
    "'123'\n",
    "# \"here is a number: 42. It's a nice number\""
   ]
  },
  {
   "cell_type": "code",
   "execution_count": 47,
   "id": "e0719372-44b9-4263-931a-f9e093d37707",
   "metadata": {},
   "outputs": [
    {
     "name": "stdout",
     "output_type": "stream",
     "text": [
      "This string\n",
      "contains a newline\n"
     ]
    }
   ],
   "source": [
    "print('This string\\ncontains a newline')"
   ]
  },
  {
   "cell_type": "code",
   "execution_count": 50,
   "id": "bc905531-05dd-4a64-9deb-5d76fd08e185",
   "metadata": {},
   "outputs": [
    {
     "name": "stdout",
     "output_type": "stream",
     "text": [
      "\n",
      "This string\n",
      "can contain\n",
      "a lot of\n",
      "text!\n"
     ]
    },
    {
     "data": {
      "text/plain": [
       "'\\nThis string\\ncan contain\\na lot of\\ntext!'"
      ]
     },
     "execution_count": 50,
     "metadata": {},
     "output_type": "execute_result"
    }
   ],
   "source": [
    "# blocks of strings can also be delimited with triple quotes\n",
    "print('''\n",
    "This string\n",
    "can contain\n",
    "a lot of\n",
    "text!''')\n",
    "\n",
    "'''\n",
    "This string\n",
    "can contain\n",
    "a lot of\n",
    "text!'''"
   ]
  },
  {
   "cell_type": "markdown",
   "id": "d927cb89-d7a7-4a2d-81e4-1ea5eb8e279e",
   "metadata": {},
   "source": [
    "#### String Operations\n",
    "- Strings can be compared with the == and != operators.\n",
    "- Strings can be concatenated with +\n",
    "- Strings can be repeated with the * operator and a number"
   ]
  },
  {
   "cell_type": "code",
   "execution_count": 51,
   "id": "b0f56578-850d-4293-ae26-771fdca6a4c1",
   "metadata": {},
   "outputs": [
    {
     "data": {
      "text/plain": [
       "True"
      ]
     },
     "execution_count": 51,
     "metadata": {},
     "output_type": "execute_result"
    }
   ],
   "source": [
    "'hello' == 'hello'"
   ]
  },
  {
   "cell_type": "code",
   "execution_count": 52,
   "id": "77bf518e-7dda-4739-bee2-e1a992a1711f",
   "metadata": {},
   "outputs": [
    {
     "data": {
      "text/plain": [
       "True"
      ]
     },
     "execution_count": 52,
     "metadata": {},
     "output_type": "execute_result"
    }
   ],
   "source": [
    "'abc' != 'def'"
   ]
  },
  {
   "cell_type": "code",
   "execution_count": 53,
   "id": "41ffd053-c5f6-48c9-83d2-0866310a149b",
   "metadata": {},
   "outputs": [
    {
     "data": {
      "text/plain": [
       "'abcdef'"
      ]
     },
     "execution_count": 53,
     "metadata": {},
     "output_type": "execute_result"
    }
   ],
   "source": [
    "'abc' + 'def'"
   ]
  },
  {
   "cell_type": "code",
   "execution_count": 54,
   "id": "db3583cf-a1c1-4da7-91b4-095e6b89773f",
   "metadata": {},
   "outputs": [
    {
     "data": {
      "text/plain": [
       "'abcabcabc'"
      ]
     },
     "execution_count": 54,
     "metadata": {},
     "output_type": "execute_result"
    }
   ],
   "source": [
    "'abc' * 3"
   ]
  },
  {
   "cell_type": "code",
   "execution_count": 55,
   "id": "ecdc1f03-41d5-413a-b6a4-4b7cd9d0e222",
   "metadata": {},
   "outputs": [
    {
     "ename": "TypeError",
     "evalue": "can only concatenate str (not \"int\") to str",
     "output_type": "error",
     "traceback": [
      "\u001b[0;31m---------------------------------------------------------------------------\u001b[0m",
      "\u001b[0;31mTypeError\u001b[0m                                 Traceback (most recent call last)",
      "Input \u001b[0;32mIn [55]\u001b[0m, in \u001b[0;36m<cell line: 2>\u001b[0;34m()\u001b[0m\n\u001b[1;32m      1\u001b[0m \u001b[38;5;66;03m# can't mix strings and numbers in most operations\u001b[39;00m\n\u001b[0;32m----> 2\u001b[0m \u001b[38;5;124;43m'\u001b[39;49m\u001b[38;5;124;43mabc\u001b[39;49m\u001b[38;5;124;43m'\u001b[39;49m\u001b[43m \u001b[49m\u001b[38;5;241;43m+\u001b[39;49m\u001b[43m \u001b[49m\u001b[38;5;241;43m3\u001b[39;49m\n",
      "\u001b[0;31mTypeError\u001b[0m: can only concatenate str (not \"int\") to str"
     ]
    }
   ],
   "source": [
    "# can't mix strings and numbers in most operations\n",
    "'abc' + 3"
   ]
  },
  {
   "cell_type": "markdown",
   "id": "a413861e-730e-4161-a8ff-74e6b67ba963",
   "metadata": {},
   "source": [
    "#### String Formatting"
   ]
  },
  {
   "cell_type": "markdown",
   "id": "95f1ac86-2794-42f0-8bdc-54ff4bd15f30",
   "metadata": {},
   "source": [
    "##### It is very common that a string needs to contain the contents of a variable. There are several differen ways to include variables in strings\n",
    "- `%` formatting: a little older, but still fairly common\n",
    "- `.format`: a newer wayu to format strings\n",
    "- f-strings: introduced in Python 3.6; comparable to string interpolation in other languages"
   ]
  },
  {
   "cell_type": "code",
   "execution_count": 56,
   "id": "07715c79-e075-4987-9005-bf256aea58c3",
   "metadata": {},
   "outputs": [],
   "source": [
    "name = 'World'"
   ]
  },
  {
   "cell_type": "code",
   "execution_count": 57,
   "id": "52a1b7e5-94d7-48d3-bdf7-f46dc654df76",
   "metadata": {},
   "outputs": [
    {
     "data": {
      "text/plain": [
       "'Hello, World!'"
      ]
     },
     "execution_count": 57,
     "metadata": {},
     "output_type": "execute_result"
    }
   ],
   "source": [
    "'Hello, %s!' % name"
   ]
  },
  {
   "cell_type": "code",
   "execution_count": 58,
   "id": "3a0b1852-def9-4929-901a-13fbc45645b2",
   "metadata": {},
   "outputs": [
    {
     "data": {
      "text/plain": [
       "'Hello, World!'"
      ]
     },
     "execution_count": 58,
     "metadata": {},
     "output_type": "execute_result"
    }
   ],
   "source": [
    "'Hello, {}!'.format(name)"
   ]
  },
  {
   "cell_type": "code",
   "execution_count": 60,
   "id": "efbbd862-69c4-4090-aa12-a152ff3f01b3",
   "metadata": {},
   "outputs": [
    {
     "data": {
      "text/plain": [
       "'Hello, World!'"
      ]
     },
     "execution_count": 60,
     "metadata": {},
     "output_type": "execute_result"
    }
   ],
   "source": [
    "f'Hello, {name}!'"
   ]
  },
  {
   "cell_type": "markdown",
   "id": "c5389881-a43a-4d08-8448-df620866807b",
   "metadata": {},
   "source": [
    "#### String Methods"
   ]
  },
  {
   "cell_type": "markdown",
   "id": "e44bad1e-7333-4e35-b355-a3a001f804f1",
   "metadata": {},
   "source": [
    "- `.lower` and `.upper`: convert the string to all lower or upper-case\n",
    "- `.strip`: removes any leading and trailing whitespace from the string\n",
    "- `.isdigit`: tests whether or not the string is a number\n",
    "- `.split`: converts a string to a list\n",
    "- `.join`: converts a list to a string"
   ]
  },
  {
   "cell_type": "markdown",
   "id": "2051fb99-d791-41de-b63e-b7a0a7de4dcd",
   "metadata": {},
   "source": [
    "<div class=\"alert alert-block alert-info\">\n",
    "All of the string methods here do not modify the original string, they return a new string with the modification."
   ]
  },
  {
   "cell_type": "code",
   "execution_count": 61,
   "id": "52a73445-f7d7-47b5-a562-93fcb7355266",
   "metadata": {},
   "outputs": [],
   "source": [
    "s = '    Hello, Codeup!    '"
   ]
  },
  {
   "cell_type": "code",
   "execution_count": 62,
   "id": "81fd792a-4642-4743-9b32-be908f166253",
   "metadata": {},
   "outputs": [
    {
     "data": {
      "text/plain": [
       "'    hello, codeup!    '"
      ]
     },
     "execution_count": 62,
     "metadata": {},
     "output_type": "execute_result"
    }
   ],
   "source": [
    "s.lower()"
   ]
  },
  {
   "cell_type": "code",
   "execution_count": 63,
   "id": "f4f94625-0c29-4fa2-8911-24de95a77986",
   "metadata": {},
   "outputs": [
    {
     "data": {
      "text/plain": [
       "'    HELLO, CODEUP!    '"
      ]
     },
     "execution_count": 63,
     "metadata": {},
     "output_type": "execute_result"
    }
   ],
   "source": [
    "s.upper()"
   ]
  },
  {
   "cell_type": "code",
   "execution_count": 64,
   "id": "40c2d4fc-6494-4428-8443-b7d32606a873",
   "metadata": {},
   "outputs": [
    {
     "data": {
      "text/plain": [
       "'Hello, Codeup!'"
      ]
     },
     "execution_count": 64,
     "metadata": {},
     "output_type": "execute_result"
    }
   ],
   "source": [
    "s.strip()"
   ]
  },
  {
   "cell_type": "code",
   "execution_count": 65,
   "id": "70dbc7e0-f39f-449f-8d29-f6b2d0ca7b20",
   "metadata": {},
   "outputs": [
    {
     "data": {
      "text/plain": [
       "False"
      ]
     },
     "execution_count": 65,
     "metadata": {},
     "output_type": "execute_result"
    }
   ],
   "source": [
    "s.isdigit()"
   ]
  },
  {
   "cell_type": "code",
   "execution_count": 66,
   "id": "1eeb5b96-e5ea-4881-9266-88c65cca774d",
   "metadata": {},
   "outputs": [
    {
     "data": {
      "text/plain": [
       "True"
      ]
     },
     "execution_count": 66,
     "metadata": {},
     "output_type": "execute_result"
    }
   ],
   "source": [
    "'123'.isdigit()"
   ]
  },
  {
   "cell_type": "code",
   "execution_count": 67,
   "id": "1abe9b67-1267-49b0-858f-30f13df8827e",
   "metadata": {},
   "outputs": [
    {
     "data": {
      "text/plain": [
       "['Hello,', 'Codeup!']"
      ]
     },
     "execution_count": 67,
     "metadata": {},
     "output_type": "execute_result"
    }
   ],
   "source": [
    "s.strip().split()"
   ]
  },
  {
   "cell_type": "code",
   "execution_count": 68,
   "id": "97004de5-2c20-4631-9105-fb06aa7ad1bc",
   "metadata": {},
   "outputs": [
    {
     "data": {
      "text/plain": [
       "'one, two, three'"
      ]
     },
     "execution_count": 68,
     "metadata": {},
     "output_type": "execute_result"
    }
   ],
   "source": [
    "', '.join(['one', 'two', 'three'])"
   ]
  },
  {
   "cell_type": "markdown",
   "id": "45f850d1-8280-43d7-b94a-3742e99b57c4",
   "metadata": {},
   "source": [
    "#### Lists"
   ]
  },
  {
   "cell_type": "code",
   "execution_count": null,
   "id": "c72f7bc0-08d2-46b7-9b0d-5ee9eb4273b0",
   "metadata": {},
   "outputs": [],
   "source": []
  }
 ],
 "metadata": {
  "kernelspec": {
   "display_name": "Python 3 (ipykernel)",
   "language": "python",
   "name": "python3"
  },
  "language_info": {
   "codemirror_mode": {
    "name": "ipython",
    "version": 3
   },
   "file_extension": ".py",
   "mimetype": "text/x-python",
   "name": "python",
   "nbconvert_exporter": "python",
   "pygments_lexer": "ipython3",
   "version": "3.9.13"
  }
 },
 "nbformat": 4,
 "nbformat_minor": 5
}
