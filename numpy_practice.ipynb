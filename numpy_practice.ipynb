{
 "cells": [
  {
   "cell_type": "markdown",
   "id": "77fcae77-5e03-43f5-9cfd-bd22479fc031",
   "metadata": {},
   "source": [
    "## Numpy practice"
   ]
  },
  {
   "cell_type": "markdown",
   "id": "70c541c4-6bc1-4778-9133-1faaa6df093d",
   "metadata": {},
   "source": [
    "##### Numpy is a library for representing and working with large and multi-dimensional arrays. Most other libraries in the data-science ecosystem depend on numpy, making it one of the fundamental data science libraries. It provides a number of useful tools for scientific programming."
   ]
  },
  {
   "cell_type": "code",
   "execution_count": 1,
   "id": "929f1579-9859-46ff-9149-b97fb8e50ce7",
   "metadata": {},
   "outputs": [],
   "source": [
    "import numpy as np"
   ]
  },
  {
   "cell_type": "markdown",
   "id": "82722927-80d8-4e26-a43b-610ce3cd7edc",
   "metadata": {},
   "source": [
    "#### The Numpy Array\n",
    "- numpy provides an array type that goes beyond what Python lists can do\n",
    "- We can create a numpy array by passing a list to the `np.array()` function"
   ]
  },
  {
   "cell_type": "code",
   "execution_count": 3,
   "id": "d3efccb9-f3e3-4c2f-bf9a-6640db267994",
   "metadata": {},
   "outputs": [
    {
     "data": {
      "text/plain": [
       "array([1, 2, 3])"
      ]
     },
     "execution_count": 3,
     "metadata": {},
     "output_type": "execute_result"
    }
   ],
   "source": [
    "a = np.array([1, 2, 3])\n",
    "a"
   ]
  },
  {
   "cell_type": "markdown",
   "id": "99eec601-c130-4c38-a7b0-065660ba182e",
   "metadata": {},
   "source": [
    "- We can create multi-dimensional arrays by passing a list of lists to the `array` function."
   ]
  },
  {
   "cell_type": "code",
   "execution_count": 4,
   "id": "003c6240-3ad1-44cc-b73e-c645c9eb0855",
   "metadata": {},
   "outputs": [
    {
     "data": {
      "text/plain": [
       "array([[1, 2, 3],\n",
       "       [4, 5, 6],\n",
       "       [7, 8, 9]])"
      ]
     },
     "execution_count": 4,
     "metadata": {},
     "output_type": "execute_result"
    }
   ],
   "source": [
    "matrix = np.array([[1, 2, 3],\n",
    "                  [4, 5, 6],\n",
    "                  [7, 8, 9]])\n",
    "matrix"
   ]
  },
  {
   "cell_type": "markdown",
   "id": "4a20cb7c-af47-40d8-8d58-6309b4fd3653",
   "metadata": {},
   "source": [
    "#### Indexing\n",
    "- Referencing elements in numpy arrays at it's most basic is the same as referencing elements in Python lists."
   ]
  },
  {
   "cell_type": "code",
   "execution_count": 5,
   "id": "823264f6-ae98-4ca8-9423-457f7996adac",
   "metadata": {},
   "outputs": [
    {
     "data": {
      "text/plain": [
       "1"
      ]
     },
     "execution_count": 5,
     "metadata": {},
     "output_type": "execute_result"
    }
   ],
   "source": [
    "a[0]"
   ]
  },
  {
   "cell_type": "code",
   "execution_count": 6,
   "id": "ddbd4dc9-7662-42bf-ba64-aac71c02395d",
   "metadata": {},
   "outputs": [
    {
     "name": "stdout",
     "output_type": "stream",
     "text": [
      "a    == [1 2 3]\n",
      "a[0] == 1\n",
      "a[1] == 2\n",
      "a[2] == 3\n"
     ]
    }
   ],
   "source": [
    "print(f'a    == {a}')\n",
    "print(f'a[0] == {a[0]}')\n",
    "print(f'a[1] == {a[1]}')\n",
    "print(f'a[2] == {a[2]}')"
   ]
  },
  {
   "cell_type": "markdown",
   "id": "da7002e8-ca6e-4912-bee0-300cd88686d4",
   "metadata": {},
   "source": [
    "- However, multidimensional numpy arrays are easier to index into. To obtain the element at the second column in the second row, we would write:"
   ]
  },
  {
   "cell_type": "code",
   "execution_count": 7,
   "id": "fbc48e74-a2d0-4f91-a8c0-bab779eecdea",
   "metadata": {},
   "outputs": [
    {
     "data": {
      "text/plain": [
       "5"
      ]
     },
     "execution_count": 7,
     "metadata": {},
     "output_type": "execute_result"
    }
   ],
   "source": [
    "matrix[1, 1]"
   ]
  },
  {
   "cell_type": "markdown",
   "id": "3e3c2ab5-30f2-46e4-a562-f5fe0e8c9137",
   "metadata": {},
   "source": [
    "- To get the first 2 elements of the last 2 rows:"
   ]
  },
  {
   "cell_type": "code",
   "execution_count": 10,
   "id": "baf991b7-dca3-4ffe-8e4d-5013f1e13afd",
   "metadata": {},
   "outputs": [
    {
     "data": {
      "text/plain": [
       "array([[4, 5],\n",
       "       [7, 8]])"
      ]
     },
     "execution_count": 10,
     "metadata": {},
     "output_type": "execute_result"
    }
   ],
   "source": [
    "matrix[1:,:2]"
   ]
  },
  {
   "cell_type": "markdown",
   "id": "c594ba36-a5d3-4bff-a36c-fa570dd49a57",
   "metadata": {},
   "source": [
    "#### Vectorized Operations\n",
    "- Another useful feature of numpy arrays is being able to perform vectorized operations\n",
    "- e.g. if we wanted to add 1 to every element in a normal Python list, we get a TypeError or have to use a loop or list comprehension:\n"
   ]
  },
  {
   "cell_type": "code",
   "execution_count": 17,
   "id": "432f73f4-9b39-480d-b9b1-cec042816398",
   "metadata": {},
   "outputs": [
    {
     "name": "stdout",
     "output_type": "stream",
     "text": [
      "An Error Occurred\n",
      "TypeError: can only concatenate list (not \"int\") to list\n"
     ]
    }
   ],
   "source": [
    "python_list = [1, 2, 3, 4, 5]\n",
    "try:\n",
    "    python_list + 1\n",
    "except TypeError as e:\n",
    "    print('An Error Occurred')\n",
    "    print(f'TypeError: {e}')"
   ]
  },
  {
   "cell_type": "code",
   "execution_count": 12,
   "id": "ab841c9d-3159-498b-aed4-1561c4519f26",
   "metadata": {},
   "outputs": [
    {
     "data": {
      "text/plain": [
       "[2, 3, 4, 5, 6]"
      ]
     },
     "execution_count": 12,
     "metadata": {},
     "output_type": "execute_result"
    }
   ],
   "source": [
    "list_plus_1 = [x + 1 for x in python_list]\n",
    "list_plus_1"
   ]
  },
  {
   "cell_type": "markdown",
   "id": "97e75e33-4098-40a4-bc0f-99d213fa66b5",
   "metadata": {},
   "source": [
    "- Vectorizing allows an operation to be applied to every element in a vector, which in our case is a numpy array.\n",
    "- So, with a numpy array, we can just add one like this:\n"
   ]
  },
  {
   "cell_type": "code",
   "execution_count": 13,
   "id": "47c6e241-e56e-4312-a654-717726592294",
   "metadata": {},
   "outputs": [
    {
     "data": {
      "text/plain": [
       "array([1, 2, 3, 4, 5])"
      ]
     },
     "execution_count": 13,
     "metadata": {},
     "output_type": "execute_result"
    }
   ],
   "source": [
    "# let's convert that original python list to a numpy array:\n",
    "numpy_array = np.array(python_list)\n",
    "numpy_array"
   ]
  },
  {
   "cell_type": "code",
   "execution_count": 14,
   "id": "23b2e168-51f9-4c61-9303-f6acaf1e257f",
   "metadata": {},
   "outputs": [
    {
     "data": {
      "text/plain": [
       "array([2, 3, 4, 5, 6])"
      ]
     },
     "execution_count": 14,
     "metadata": {},
     "output_type": "execute_result"
    }
   ],
   "source": [
    "# now we can just add one or use any other basic operator to transform the entire array\n",
    "numpy_array + 1"
   ]
  },
  {
   "cell_type": "markdown",
   "id": "135795fd-df18-4181-8afc-d4767afcfca2",
   "metadata": {},
   "source": [
    "- Comparison operators are also vectorized in an array:"
   ]
  },
  {
   "cell_type": "code",
   "execution_count": 19,
   "id": "73d8bd57-1214-4457-a411-708c0fefae0f",
   "metadata": {},
   "outputs": [
    {
     "name": "stdout",
     "output_type": "stream",
     "text": [
      "my_array       == [-3  0  3 16]\n",
      "my_array == -3 == [ True False False False]\n",
      "my_array >= 0  == [False  True  True  True]\n",
      "my_array < 10  == [ True  True  True False]\n"
     ]
    }
   ],
   "source": [
    "my_array = np.array([-3, 0, 3, 16])\n",
    "\n",
    "print(f'my_array       == {my_array}')\n",
    "print(f'my_array == -3 == {my_array == -3}')\n",
    "print('my_array >= 0  == {}'.format(my_array >= 0))\n",
    "print('my_array < 10  == {}'.format(my_array < 10))\n"
   ]
  },
  {
   "cell_type": "markdown",
   "id": "1472740a-ed84-4614-9b97-1a05e9295e1f",
   "metadata": {},
   "source": [
    "- we can also use comparison operators to select a certain subset of an array.\n",
    "- this is essentially a boolean \"slice\" instead of an index slice.\n"
   ]
  },
  {
   "cell_type": "code",
   "execution_count": 21,
   "id": "643a9ce8-2719-4e6c-8a7f-747b0265388c",
   "metadata": {},
   "outputs": [
    {
     "data": {
      "text/plain": [
       "array([ 3, 16])"
      ]
     },
     "execution_count": 21,
     "metadata": {},
     "output_type": "execute_result"
    }
   ],
   "source": [
    "# select all values in array greater than zero.\n",
    "my_array[my_array > 0]"
   ]
  },
  {
   "cell_type": "code",
   "execution_count": 22,
   "id": "1e7ba50b-df85-4e9b-b507-6a2f516aa54d",
   "metadata": {},
   "outputs": [
    {
     "data": {
      "text/plain": [
       "array([ 0, 16])"
      ]
     },
     "execution_count": 22,
     "metadata": {},
     "output_type": "execute_result"
    }
   ],
   "source": [
    "# get the even numbers in the array\n",
    "my_array[my_array % 2 == 0]"
   ]
  },
  {
   "cell_type": "markdown",
   "id": "e52bd802-d4d9-49cc-8f6c-36ca6e5fe25c",
   "metadata": {},
   "source": [
    "#### Array Creation\n",
    "- Make an array of a specified length from the standard normal distribution"
   ]
  },
  {
   "cell_type": "code",
   "execution_count": 24,
   "id": "7a4968f4-26cf-4f29-8dfa-5e904b9c51fc",
   "metadata": {},
   "outputs": [
    {
     "data": {
      "text/plain": [
       "array([ 0.03025169, -0.63835195, -1.27993281, -0.1023321 ,  1.79367735,\n",
       "        0.35724932,  0.14806355,  0.97087283, -0.89338799,  1.69387885])"
      ]
     },
     "execution_count": 24,
     "metadata": {},
     "output_type": "execute_result"
    }
   ],
   "source": [
    "np.random.randn(10)"
   ]
  },
  {
   "cell_type": "markdown",
   "id": "a8ebe995-75ed-4ec4-9da8-a66a48f27199",
   "metadata": {},
   "source": [
    "- we transform this to a normal distribution with mean $\\mu$ and standard deviation $\\sigma$ by applying some basic math:"
   ]
  },
  {
   "cell_type": "code",
   "execution_count": 28,
   "id": "25658ab1-332d-416f-8f7f-404c4739d7c5",
   "metadata": {},
   "outputs": [
    {
     "data": {
      "text/plain": [
       "array([132.59280904,  88.54152996, 106.25803488,  96.66699514,\n",
       "       139.55411366,  96.58333529, 109.45252063,  91.90875516,\n",
       "       145.19008195, 139.12366075,  82.07056689,  75.53923575,\n",
       "       150.82739714, 110.06025711, 116.9824605 , 116.70664166,\n",
       "        52.976519  ,  74.60577164, 131.10376021, 126.86892314])"
      ]
     },
     "execution_count": 28,
     "metadata": {},
     "output_type": "execute_result"
    }
   ],
   "source": [
    "μ = 100\n",
    "σ = 30\n",
    "\n",
    "σ * np.random.randn(20) + μ"
   ]
  },
  {
   "cell_type": "markdown",
   "id": "97363939-bd25-4500-b3c8-5b3725deca43",
   "metadata": {},
   "source": [
    "- the `zeros` and `ones` functions allow creation of arrays of a specified size of 0's and 1's.\n",
    "- the `full` function creates arrays of specified size populated with a particular value."
   ]
  },
  {
   "cell_type": "code",
   "execution_count": 33,
   "id": "8a6d24fa-65dc-44fe-82e6-e271ff6c8ecf",
   "metadata": {},
   "outputs": [
    {
     "name": "stdout",
     "output_type": "stream",
     "text": [
      "np.zeros(3)     == [0. 0. 0.]\n",
      "np.ones(3)      == [1. 1. 1.]\n",
      "np.full(3, 17)  == [17 17 17]\n"
     ]
    }
   ],
   "source": [
    "print(f'np.zeros(3)     == {np.zeros(3)}')\n",
    "print(f'np.ones(3)      == {np.ones(3)}')\n",
    "print(f'np.full(3, 17)  == {np.full(3, 17)}')\n",
    "      "
   ]
  },
  {
   "cell_type": "markdown",
   "id": "8801e916-c63e-49fd-9f12-118c4e5355f7",
   "metadata": {},
   "source": [
    "- We can also create multi-dimensional arrays by passing a tuple of the dimensions of the desire array, instead of a single integer value."
   ]
  },
  {
   "cell_type": "code",
   "execution_count": 34,
   "id": "b175a0dd-31eb-495e-9c7c-a6e2762c04eb",
   "metadata": {},
   "outputs": [
    {
     "data": {
      "text/plain": [
       "array([[0., 0., 0.],\n",
       "       [0., 0., 0.]])"
      ]
     },
     "execution_count": 34,
     "metadata": {},
     "output_type": "execute_result"
    }
   ],
   "source": [
    "np.zeros((2, 3))"
   ]
  },
  {
   "cell_type": "markdown",
   "id": "995d0b0a-9324-4d70-9804-9f59d441b50b",
   "metadata": {},
   "source": [
    "- numpy's `arange()` function is similar to python's builtin `range()` function.\n",
    "- it can take a single argument and generate a range from zero up to, but not including, the passed number."
   ]
  },
  {
   "cell_type": "code",
   "execution_count": 35,
   "id": "537ed863-d594-4e1a-87ab-6921afc11a97",
   "metadata": {},
   "outputs": [
    {
     "data": {
      "text/plain": [
       "array([0, 1, 2, 3])"
      ]
     },
     "execution_count": 35,
     "metadata": {},
     "output_type": "execute_result"
    }
   ],
   "source": [
    "np.arange(4)"
   ]
  },
  {
   "cell_type": "markdown",
   "id": "e370d9d8-404a-4f8e-94b8-edb1a2367827",
   "metadata": {},
   "source": [
    "- we can also specify a starting point for the range:"
   ]
  },
  {
   "cell_type": "code",
   "execution_count": 36,
   "id": "e4d2d374-dd50-4bbf-bde9-fe0099d31453",
   "metadata": {},
   "outputs": [
    {
     "data": {
      "text/plain": [
       "array([3, 4, 5, 6, 7])"
      ]
     },
     "execution_count": 36,
     "metadata": {},
     "output_type": "execute_result"
    }
   ],
   "source": [
    "np.arange(3, 8)"
   ]
  },
  {
   "cell_type": "markdown",
   "id": "f1bd5c27-eceb-4fc9-b134-8e213b3297c1",
   "metadata": {},
   "source": [
    "- unlike `range()`, `arange()` can handle decimal numbers"
   ]
  },
  {
   "cell_type": "code",
   "execution_count": 38,
   "id": "c118a98e-ed5d-4a45-9c39-76a7106e479a",
   "metadata": {},
   "outputs": [
    {
     "data": {
      "text/plain": [
       "array([3. , 3.5, 4. , 4.5])"
      ]
     },
     "execution_count": 38,
     "metadata": {},
     "output_type": "execute_result"
    }
   ],
   "source": [
    "np.arange(3, 5, 0.5) # the third value in the tuple is the 'step' interval."
   ]
  },
  {
   "cell_type": "markdown",
   "id": "b58e7ad5-15e1-49aa-9ba9-73bfe03280d8",
   "metadata": {},
   "source": [
    "- the `linspace()` method creates a range of numbers between a minimum and a maximum, with a set number of elements."
   ]
  },
  {
   "cell_type": "code",
   "execution_count": 43,
   "id": "940fd31a-7d3c-40dd-a8ca-0317155f4e5a",
   "metadata": {},
   "outputs": [
    {
     "name": "stdout",
     "output_type": "stream",
     "text": [
      "min: 1, max: 4, length = 4 -- [1. 2. 3. 4.]\n",
      "min: 1, max: 4, lenght = 7 -- [1.  1.5 2.  2.5 3.  3.5 4. ]\n"
     ]
    }
   ],
   "source": [
    "# note here that max value is inclusive\n",
    "print(f'min: 1, max: 4, length = 4 -- {np.linspace(1, 4, 4)}')\n",
    "print(f'min: 1, max: 4, lenght = 7 -- {np.linspace(1, 4, 7)}')"
   ]
  },
  {
   "cell_type": "markdown",
   "id": "f7d8dda6-909a-4e20-8199-f97386d55bbe",
   "metadata": {},
   "source": [
    "#### Array Methods\n",
    "- numpy has many built-in methods that make mathematical operations easier.\n",
    "- some common ones are `.min`, `.max`, `.mean`, `.sum`, `.std` (standard deviation)"
   ]
  },
  {
   "cell_type": "code",
   "execution_count": 46,
   "id": "28af3da5-c9e2-44f2-af8f-49b27c6f21fb",
   "metadata": {},
   "outputs": [
    {
     "data": {
      "text/plain": [
       "array([1, 2, 3, 4, 5])"
      ]
     },
     "execution_count": 46,
     "metadata": {},
     "output_type": "execute_result"
    }
   ],
   "source": [
    "a = np.array(np.arange(1,6))\n",
    "a"
   ]
  },
  {
   "cell_type": "code",
   "execution_count": 48,
   "id": "bbb2b600-4df6-4891-ae80-addfa5d7c2b3",
   "metadata": {},
   "outputs": [
    {
     "data": {
      "text/plain": [
       "(1, 5, 3.0, 15, 1.4142135623730951)"
      ]
     },
     "execution_count": 48,
     "metadata": {},
     "output_type": "execute_result"
    }
   ],
   "source": [
    "a.min(), a.max(), a.mean(), a.sum(), a.std()"
   ]
  },
  {
   "cell_type": "markdown",
   "id": "fab85e9a-a275-41c8-8728-edb7104d2658",
   "metadata": {},
   "source": [
    "#### Exercises"
   ]
  },
  {
   "cell_type": "code",
   "execution_count": 81,
   "id": "264753ae-3091-4c94-9dc3-c12257fa57f4",
   "metadata": {},
   "outputs": [
    {
     "data": {
      "text/plain": [
       "12"
      ]
     },
     "execution_count": 81,
     "metadata": {},
     "output_type": "execute_result"
    }
   ],
   "source": [
    "a = np.array([4, 10, 12, 23, -2, -1, 0, 0, 0, -6, 3, -7])\n",
    "len(a)\n"
   ]
  },
  {
   "cell_type": "markdown",
   "id": "b7f0b3c3-38f3-4e96-b6b0-5b8829224074",
   "metadata": {},
   "source": [
    "1. How many negative numbers are there?"
   ]
  },
  {
   "cell_type": "code",
   "execution_count": 54,
   "id": "eb8d1e5e-562f-487e-a948-1e4de72033e9",
   "metadata": {},
   "outputs": [
    {
     "data": {
      "text/plain": [
       "4"
      ]
     },
     "execution_count": 54,
     "metadata": {},
     "output_type": "execute_result"
    }
   ],
   "source": [
    "len(a[a < 0])"
   ]
  },
  {
   "cell_type": "markdown",
   "id": "ccb82feb-6f78-4588-b740-71c53fbce71f",
   "metadata": {},
   "source": [
    "2. How many positive numbers are there?"
   ]
  },
  {
   "cell_type": "code",
   "execution_count": 68,
   "id": "e7d94b01-5f51-4fc5-8802-893078994fad",
   "metadata": {},
   "outputs": [
    {
     "name": "stdout",
     "output_type": "stream",
     "text": [
      "[ 4 10 12 23 -2 -1  0  0  0 -6  3 -7]\n",
      "[ True  True  True  True False False False False False False  True False]\n",
      "[ 4 10 12 23  3]\n"
     ]
    },
    {
     "data": {
      "text/plain": [
       "5"
      ]
     },
     "execution_count": 68,
     "metadata": {},
     "output_type": "execute_result"
    }
   ],
   "source": [
    "# if zero is neither positive or negative\n",
    "print(a)\n",
    "print(a > 0)\n",
    "print(a[a > 0])\n",
    "len(a[a > 0])"
   ]
  },
  {
   "cell_type": "markdown",
   "id": "819ce14e-c842-4654-9941-7dd60acb9fb9",
   "metadata": {},
   "source": [
    "3. How many even positive numbers are there?"
   ]
  },
  {
   "cell_type": "code",
   "execution_count": 70,
   "id": "d75c1658-63df-4f4f-b2a3-d1665f7e378e",
   "metadata": {},
   "outputs": [
    {
     "name": "stdout",
     "output_type": "stream",
     "text": [
      "[ 4 10 12 23  3]\n",
      "[ 4 10 12 -2  0  0  0 -6]\n",
      "[ 4 10 12]\n",
      "[ 4 10 12]\n"
     ]
    },
    {
     "data": {
      "text/plain": [
       "3"
      ]
     },
     "execution_count": 70,
     "metadata": {},
     "output_type": "execute_result"
    }
   ],
   "source": [
    "print(a[a > 0])\n",
    "print(a[a % 2 == 0])\n",
    "print(a[(a > 0) & (a % 2 == 0)])\n",
    "print(a[(a > 0) & (a % 2 == 0)])\n",
    "len(a[(a > 0) & (a % 2 == 0)])"
   ]
  },
  {
   "cell_type": "markdown",
   "id": "c388b452-aef3-462b-a3f4-2404ade143d9",
   "metadata": {},
   "source": [
    "4. If you were to add 3 to each data point, how many positive numbers would there be?\n",
    "\n"
   ]
  },
  {
   "cell_type": "code",
   "execution_count": 80,
   "id": "cc6e0816-2f27-4788-97df-380bb86f2fe6",
   "metadata": {},
   "outputs": [
    {
     "name": "stdout",
     "output_type": "stream",
     "text": [
      "[ 4 10 12 23 -2 -1  0  0  0 -6  3 -7]\n",
      "[ 7 13 15 26  1  2  3  3  3 -3  6 -4]\n",
      "[ 7 13 15 26  1  2  3  3  3  6]\n"
     ]
    },
    {
     "data": {
      "text/plain": [
       "10"
      ]
     },
     "execution_count": 80,
     "metadata": {},
     "output_type": "execute_result"
    }
   ],
   "source": [
    "print(a)\n",
    "print(a + 3)\n",
    "print((a + 3)[(a + 3) > 0])\n",
    "len(a[(a + 3) > 0])"
   ]
  },
  {
   "cell_type": "markdown",
   "id": "769feafd-ef71-4ae1-9cfe-a3aee674a802",
   "metadata": {},
   "source": [
    "5. If you squared each number, what would the new mean and standard deviation be?\n",
    "\n"
   ]
  },
  {
   "cell_type": "code",
   "execution_count": 90,
   "id": "558e89dd-9c1a-48f6-a8f4-670ae7a84d6d",
   "metadata": {},
   "outputs": [
    {
     "name": "stdout",
     "output_type": "stream",
     "text": [
      "a = [ 4 10 12 23 -2 -1  0  0  0 -6  3 -7]\n",
      "mean of a = 3.0\n",
      "std of a = 8.06225774829855\n",
      "square of a = [ 16 100 144 529   4   1   0   0   0  36   9  49]\n",
      "std of a-squared = 144.0243035046516\n"
     ]
    }
   ],
   "source": [
    "print(f'a = {a}')\n",
    "print(f'mean of a = {a.mean()}')\n",
    "print(f'std of a = {a.std()}')\n",
    "print(f'square of a = {a**2}')\n",
    "print(f'std of a-squared = {(a**2).std()}')"
   ]
  },
  {
   "cell_type": "markdown",
   "id": "d54ec8a1-3fca-448f-80ec-fd312845f70d",
   "metadata": {},
   "source": [
    "6. A common statistical operation on a dataset is centering. This means to adjust the data such that the mean of the data is 0. This is done by subtracting the mean from each data point. Center the data set."
   ]
  },
  {
   "cell_type": "code",
   "execution_count": 92,
   "id": "0677d388-3c89-4a12-8d9b-cc19087cd636",
   "metadata": {},
   "outputs": [
    {
     "name": "stdout",
     "output_type": "stream",
     "text": [
      "a = [ 4 10 12 23 -2 -1  0  0  0 -6  3 -7]\n",
      "mean of a = 3.0\n",
      "centered a = [  1.   7.   9.  20.  -5.  -4.  -3.  -3.  -3.  -9.   0. -10.]\n"
     ]
    }
   ],
   "source": [
    "print(f'a = {a}')\n",
    "print(f'mean of a = {a.mean()}')\n",
    "print(f'centered a = {a - a.mean()}')"
   ]
  },
  {
   "cell_type": "markdown",
   "id": "831f2433-42af-4621-b359-64013253c71a",
   "metadata": {},
   "source": [
    "7. Calculate the z-score for each data point. Recall that the z-score is given by:\n",
    "   $$Z = \\frac{x - \\mu}{\\sigma}$$\n",
    "\n",
    "\n"
   ]
  },
  {
   "cell_type": "code",
   "execution_count": 104,
   "id": "89e6214e-60ac-4e94-b641-8a36871468b6",
   "metadata": {},
   "outputs": [
    {
     "name": "stdout",
     "output_type": "stream",
     "text": [
      "z-scores for each element in a:\n",
      "\n",
      "0.12403473458920847\n",
      "0.8682431421244593\n",
      "1.116312611302876\n",
      "2.4806946917841692\n",
      "-0.6201736729460423\n",
      "-0.49613893835683387\n",
      "-0.3721042037676254\n",
      "-0.3721042037676254\n",
      "-0.3721042037676254\n",
      "-1.116312611302876\n",
      "0.0\n",
      "-1.2403473458920846\n"
     ]
    }
   ],
   "source": [
    "print('z-scores for each element in a:\\n')\n",
    "print(*((a - a.mean()) / a.std()), sep='\\n')"
   ]
  },
  {
   "cell_type": "markdown",
   "id": "a11af31b-8951-49d5-9ded-b3f8536a1b3a",
   "metadata": {},
   "source": [
    "8. Copy the setup and exercise directions from More Numpy Practice into your numpy_exercises.py and add your solutions.\n",
    "\n"
   ]
  },
  {
   "cell_type": "code",
   "execution_count": null,
   "id": "d461832b-ed47-4c87-96ed-9a5f38e1e090",
   "metadata": {},
   "outputs": [],
   "source": [
    "\n",
    "# Life w/o numpy to life with numpy"
   ]
  },
  {
   "cell_type": "code",
   "execution_count": null,
   "id": "3ecb26fa-4e36-4f9c-a949-1fb5f11aa247",
   "metadata": {},
   "outputs": [],
   "source": [
    "## Setup 1\n",
    "a = [1, 2, 3, 4, 5, 6, 7, 8, 9, 10]"
   ]
  },
  {
   "cell_type": "code",
   "execution_count": null,
   "id": "5cf9aeb4-05b9-4c37-ae80-7e26aeabc1fd",
   "metadata": {},
   "outputs": [],
   "source": [
    "# Use python's built in functionality/operators to determine the following:\n",
    "# Exercise 1 - Make a variable called sum_of_a to hold the sum of all the numbers in above list"
   ]
  },
  {
   "cell_type": "code",
   "execution_count": null,
   "id": "063b66d2-b902-4ff9-a66c-5eb9799796d7",
   "metadata": {},
   "outputs": [],
   "source": [
    "# Exercise 2 - Make a variable named min_of_a to hold the minimum of all the numbers in the above list"
   ]
  },
  {
   "cell_type": "code",
   "execution_count": null,
   "id": "51a02373-1176-496d-91d5-5524e7261751",
   "metadata": {},
   "outputs": [],
   "source": [
    "# Exercise 3 - Make a variable named max_of_a to hold the max number of all the numbers in the above list"
   ]
  },
  {
   "cell_type": "code",
   "execution_count": null,
   "id": "c62a2d27-56df-4cef-81dc-3491ae51b302",
   "metadata": {},
   "outputs": [],
   "source": [
    "# Exercise 4 - Make a variable named mean_of_a to hold the average of all the numbers in the above list"
   ]
  },
  {
   "cell_type": "code",
   "execution_count": null,
   "id": "21f389bb-4da7-479a-af95-f16a3495a0cb",
   "metadata": {},
   "outputs": [],
   "source": [
    "# Exercise 5 - Make a variable named product_of_a to hold the product of multiplying all the numbers in the above list together"
   ]
  },
  {
   "cell_type": "code",
   "execution_count": null,
   "id": "385ce3b3-f071-4e8f-bfc2-d8fef138249f",
   "metadata": {},
   "outputs": [],
   "source": [
    "# Exercise 6 - Make a variable named squares_of_a. It should hold each number in a squared like [1, 4, 9, 16, 25...]"
   ]
  },
  {
   "cell_type": "code",
   "execution_count": null,
   "id": "0c32c5cf-ba3d-4292-8bf9-e09c1eb8cdf4",
   "metadata": {},
   "outputs": [],
   "source": [
    "# Exercise 7 - Make a variable named odds_in_a. It should hold only the odd numbers"
   ]
  },
  {
   "cell_type": "code",
   "execution_count": null,
   "id": "f08ed869-96f0-4332-b6e8-2691012439d6",
   "metadata": {},
   "outputs": [],
   "source": [
    "# Exercise 8 - Make a variable named evens_in_a. It should hold only the evens."
   ]
  },
  {
   "cell_type": "code",
   "execution_count": null,
   "id": "9748a44f-7ec6-413a-8c81-d2aade1384b0",
   "metadata": {},
   "outputs": [],
   "source": [
    "## What about life in two dimensions? A list of lists is matrix, a table, a spreadsheet, a chessboard...\n",
    "## Setup 2: Consider what it would take to find the sum, min, max, average, sum, product, and list of squares for this list of two lists.\n",
    "b = [\n",
    "    [3, 4, 5],\n",
    "    [6, 7, 8]\n",
    "]"
   ]
  },
  {
   "cell_type": "code",
   "execution_count": null,
   "id": "97e5edf0-e57d-401b-a654-9badce9fac5d",
   "metadata": {},
   "outputs": [],
   "source": [
    "# Exercise 1 - refactor the following to use numpy. Use sum_of_b as the variable. **Hint, you'll first need to make sure that the \"b\" variable is a numpy array**\n",
    "sum_of_b = 0\n",
    "for row in b:\n",
    "    sum_of_b += sum(row)"
   ]
  },
  {
   "cell_type": "code",
   "execution_count": null,
   "id": "6a30696f-04ee-404b-8f6f-1dfefa2bea28",
   "metadata": {},
   "outputs": [],
   "source": [
    "# Exercise 2 - refactor the following to use numpy. \n",
    "min_of_b = min(b[0]) if min(b[0]) <= min(b[1]) else min(b[1])  "
   ]
  },
  {
   "cell_type": "code",
   "execution_count": null,
   "id": "3049b9b3-52fe-4450-9d9f-d725dda47ecb",
   "metadata": {},
   "outputs": [],
   "source": [
    "# Exercise 3 - refactor the following maximum calculation to find the answer with numpy.\n",
    "max_of_b = max(b[0]) if max(b[0]) >= max(b[1]) else max(b[1])"
   ]
  },
  {
   "cell_type": "code",
   "execution_count": null,
   "id": "d54bfea2-ee15-4823-886e-4bd08c09a0fb",
   "metadata": {},
   "outputs": [],
   "source": [
    "# Exercise 4 - refactor the following using numpy to find the mean of b\n",
    "mean_of_b = (sum(b[0]) + sum(b[1])) / (len(b[0]) + len(b[1]))"
   ]
  },
  {
   "cell_type": "code",
   "execution_count": null,
   "id": "6b552756-5334-425f-aa04-d76c5858559b",
   "metadata": {},
   "outputs": [],
   "source": [
    "# Exercise 5 - refactor the following to use numpy for calculating the product of all numbers multiplied together.\n",
    "product_of_b = 1\n",
    "for row in b:\n",
    "    for number in row:\n",
    "        product_of_b *= number"
   ]
  },
  {
   "cell_type": "code",
   "execution_count": null,
   "id": "3a025b0a-cee8-4a92-b6ef-51396a0a30b3",
   "metadata": {},
   "outputs": [],
   "source": [
    "# Exercise 6 - refactor the following to use numpy to find the list of squares \n",
    "squares_of_b = []\n",
    "for row in b:\n",
    "    for number in row:\n",
    "        squares_of_b.append(number**2)"
   ]
  },
  {
   "cell_type": "code",
   "execution_count": null,
   "id": "0940612e-99cf-4158-9959-a6f1a9079b33",
   "metadata": {},
   "outputs": [],
   "source": [
    "# Exercise 7 - refactor using numpy to determine the odds_in_b\n",
    "odds_in_b = []\n",
    "for row in b:\n",
    "    for number in row:\n",
    "        if(number % 2 != 0):\n",
    "            odds_in_b.append(number)"
   ]
  },
  {
   "cell_type": "code",
   "execution_count": null,
   "id": "38e476b8-b69c-4ad6-9e3b-3a541769ea57",
   "metadata": {},
   "outputs": [],
   "source": [
    "# Exercise 8 - refactor the following to use numpy to filter only the even numbers\n",
    "evens_in_b = []\n",
    "for row in b:\n",
    "    for number in row:\n",
    "        if(number % 2 == 0):\n",
    "            evens_in_b.append(number)"
   ]
  },
  {
   "cell_type": "code",
   "execution_count": null,
   "id": "c17b441c-5391-4b1d-856c-d54600ed3451",
   "metadata": {},
   "outputs": [],
   "source": [
    "# Exercise 9 - print out the shape of the array b."
   ]
  },
  {
   "cell_type": "code",
   "execution_count": null,
   "id": "313c9cf7-934d-4a8e-b7fc-5f91c7099c9c",
   "metadata": {},
   "outputs": [],
   "source": [
    "# Exercise 10 - transpose the array b."
   ]
  },
  {
   "cell_type": "code",
   "execution_count": null,
   "id": "fcf7ba0e-e9ac-4928-9805-405c694912d9",
   "metadata": {},
   "outputs": [],
   "source": [
    "# Exercise 11 - reshape the array b to be a single list of 6 numbers. (1 x 6)"
   ]
  },
  {
   "cell_type": "code",
   "execution_count": null,
   "id": "94ae0e96-0b42-4094-8c7e-686c17522630",
   "metadata": {},
   "outputs": [],
   "source": [
    "# Exercise 12 - reshape the array b to be a list of 6 lists, each containing only 1 number (6 x 1)"
   ]
  },
  {
   "cell_type": "code",
   "execution_count": null,
   "id": "07a323d9-f713-41e6-be31-88fe79180b51",
   "metadata": {},
   "outputs": [],
   "source": [
    "## Setup 3\n",
    "c = [\n",
    "    [1, 2, 3],\n",
    "    [4, 5, 6],\n",
    "    [7, 8, 9]\n",
    "]\n",
    "\n",
    "# HINT, you'll first need to make sure that the \"c\" variable is a numpy array prior to using numpy array methods."
   ]
  },
  {
   "cell_type": "code",
   "execution_count": null,
   "id": "3cf6df22-6ac5-4e54-8d21-5b1baab0b5cf",
   "metadata": {},
   "outputs": [],
   "source": [
    "# Exercise 1 - Find the min, max, sum, and product of c."
   ]
  },
  {
   "cell_type": "code",
   "execution_count": null,
   "id": "525ab89b-0739-4a57-9306-45d0d7d49b42",
   "metadata": {},
   "outputs": [],
   "source": [
    "# Exercise 2 - Determine the standard deviation of c."
   ]
  },
  {
   "cell_type": "code",
   "execution_count": null,
   "id": "6d9bb27e-6de8-426b-9dc5-6f579d5d4e3a",
   "metadata": {},
   "outputs": [],
   "source": [
    "# Exercise 3 - Determine the variance of c."
   ]
  },
  {
   "cell_type": "code",
   "execution_count": null,
   "id": "4e97b018-0894-460c-b437-eb0ecb22a3df",
   "metadata": {},
   "outputs": [],
   "source": [
    "# Exercise 4 - Print out the shape of the array c"
   ]
  },
  {
   "cell_type": "code",
   "execution_count": null,
   "id": "0a15c343-4a76-4d07-b4d4-6efd470d6443",
   "metadata": {},
   "outputs": [],
   "source": [
    "# Exercise 5 - Transpose c and print out transposed result."
   ]
  },
  {
   "cell_type": "code",
   "execution_count": null,
   "id": "ba1736e9-b361-41f1-9f69-ca9f0f97f4b1",
   "metadata": {},
   "outputs": [],
   "source": [
    "# Exercise 6 - Get the dot product of the array c with c. "
   ]
  },
  {
   "cell_type": "code",
   "execution_count": null,
   "id": "1bb4847a-9e07-4f6c-ad34-12b3c510559b",
   "metadata": {},
   "outputs": [],
   "source": [
    "# Exercise 7 - Write the code necessary to sum up the result of c times c transposed. Answer should be 261"
   ]
  },
  {
   "cell_type": "code",
   "execution_count": null,
   "id": "701ed08d-6b6a-4a23-80c3-077cc503a589",
   "metadata": {},
   "outputs": [],
   "source": [
    "# Exercise 8 - Write the code necessary to determine the product of c times c transposed. Answer should be 131681894400."
   ]
  },
  {
   "cell_type": "code",
   "execution_count": null,
   "id": "fc431ccf-2ec2-408d-a0ad-405f442e1e12",
   "metadata": {},
   "outputs": [],
   "source": [
    "## Setup 4\n",
    "d = [\n",
    "    [90, 30, 45, 0, 120, 180],\n",
    "    [45, -90, -30, 270, 90, 0],\n",
    "    [60, 45, -45, 90, -45, 180]\n",
    "]"
   ]
  },
  {
   "cell_type": "code",
   "execution_count": null,
   "id": "42b08fac-0733-4824-a7bf-062f587ea256",
   "metadata": {},
   "outputs": [],
   "source": [
    "# Exercise 1 - Find the sine of all the numbers in d"
   ]
  },
  {
   "cell_type": "code",
   "execution_count": null,
   "id": "02f68ecc-1835-4bc4-bcc7-e6ac15666b55",
   "metadata": {},
   "outputs": [],
   "source": [
    "# Exercise 2 - Find the cosine of all the numbers in d"
   ]
  },
  {
   "cell_type": "code",
   "execution_count": null,
   "id": "933b4f80-af15-4abb-b2ad-1ecacc3b35c5",
   "metadata": {},
   "outputs": [],
   "source": [
    "# Exercise 3 - Find the tangent of all the numbers in d"
   ]
  },
  {
   "cell_type": "code",
   "execution_count": null,
   "id": "84c3952b-9360-4df8-99a5-e144e4db2133",
   "metadata": {},
   "outputs": [],
   "source": [
    "# Exercise 4 - Find all the negative numbers in d"
   ]
  },
  {
   "cell_type": "code",
   "execution_count": null,
   "id": "9587bda6-1016-4479-a013-84feebd9fe15",
   "metadata": {},
   "outputs": [],
   "source": [
    "# Exercise 5 - Find all the positive numbers in d"
   ]
  },
  {
   "cell_type": "code",
   "execution_count": null,
   "id": "edd18255-c94a-4d36-a828-e2ccb6602dbc",
   "metadata": {},
   "outputs": [],
   "source": [
    "# Exercise 6 - Return an array of only the unique numbers in d."
   ]
  },
  {
   "cell_type": "code",
   "execution_count": null,
   "id": "2e99b64f-3ff9-4b28-8645-70a775141244",
   "metadata": {},
   "outputs": [],
   "source": [
    "# Exercise 7 - Determine how many unique numbers there are in d."
   ]
  },
  {
   "cell_type": "code",
   "execution_count": null,
   "id": "57cd1e55-f194-4bc0-809f-c78386556047",
   "metadata": {},
   "outputs": [],
   "source": [
    "# Exercise 8 - Print out the shape of d."
   ]
  },
  {
   "cell_type": "code",
   "execution_count": null,
   "id": "abb89415-dd4d-4858-b5fe-542a69b8bb9f",
   "metadata": {},
   "outputs": [],
   "source": [
    "# Exercise 9 - Transpose and then print out the shape of d."
   ]
  },
  {
   "cell_type": "code",
   "execution_count": null,
   "id": "1aebb047-c5c2-4b43-b35e-1c968ed592d6",
   "metadata": {},
   "outputs": [],
   "source": [
    "# Exercise 10 - Reshape d into an array of 9 x 2"
   ]
  }
 ],
 "metadata": {
  "kernelspec": {
   "display_name": "Python 3 (ipykernel)",
   "language": "python",
   "name": "python3"
  },
  "language_info": {
   "codemirror_mode": {
    "name": "ipython",
    "version": 3
   },
   "file_extension": ".py",
   "mimetype": "text/x-python",
   "name": "python",
   "nbconvert_exporter": "python",
   "pygments_lexer": "ipython3",
   "version": "3.9.13"
  }
 },
 "nbformat": 4,
 "nbformat_minor": 5
}
