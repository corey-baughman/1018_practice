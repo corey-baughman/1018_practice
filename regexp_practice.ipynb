{
 "cells": [
  {
   "cell_type": "markdown",
   "id": "9e132e91-dfa3-4d67-af02-17997d52114f",
   "metadata": {},
   "source": [
    "## **regex practice**"
   ]
  },
  {
   "cell_type": "code",
   "execution_count": 1,
   "id": "d3b8a404-ba85-46f8-9d60-7ce6062fa138",
   "metadata": {},
   "outputs": [],
   "source": [
    "import re"
   ]
  },
  {
   "cell_type": "code",
   "execution_count": 2,
   "id": "6a0cae79-f873-42fa-ab85-97db052eea0a",
   "metadata": {},
   "outputs": [],
   "source": [
    "def show_all_matches(regexes, subject, re_length=6):\n",
    "    print('Sentence:')\n",
    "    print()\n",
    "    print('    {}'.format(subject))\n",
    "    print()\n",
    "    print(' regexp{} | matches'.format(' ' * (re_length - 6)))\n",
    "    print(' ------{} | -------'.format(' ' * (re_length - 6)))\n",
    "    for regexp in regexes:\n",
    "        fmt = ' {:<%d} | {!r}' % re_length\n",
    "        matches = re.findall(regexp, subject)\n",
    "        if len(matches) > 8:\n",
    "            matches = matches[:8] + ['...']\n",
    "        print(fmt.format(regexp, matches))"
   ]
  },
  {
   "cell_type": "code",
   "execution_count": 3,
   "id": "c89db16e-0a9c-4d90-86b6-3baea7ef4b50",
   "metadata": {},
   "outputs": [
    {
     "name": "stdout",
     "output_type": "stream",
     "text": [
      "Sentence:\n",
      "\n",
      "    Mary had a little lamb. 1 little lamb. Not 1056, not 12, not 22, just one.\n",
      "\n",
      " regexp | matches\n",
      " ------ | -------\n",
      " a      | ['a', 'a', 'a', 'a', 'a']\n",
      " m      | ['m', 'm']\n",
      " M      | ['M']\n",
      " Mary   | ['Mary']\n",
      " little | ['little', 'little']\n",
      " 1      | ['1', '1', '1']\n",
      " 10     | ['10']\n",
      " 22     | ['22']\n"
     ]
    }
   ],
   "source": [
    "sentence = 'Mary had a little lamb. 1 little lamb. Not 1056, not 12, not 22, just one.'\n",
    "\n",
    "show_all_matches([\n",
    "    r'a',\n",
    "    r'm',\n",
    "    r'M',\n",
    "    r'Mary',\n",
    "    r'little',\n",
    "    r'1',\n",
    "    r'10',\n",
    "    r'22',\n",
    "], sentence)\n"
   ]
  },
  {
   "cell_type": "code",
   "execution_count": 4,
   "id": "83c85803-5547-40bb-8a6f-8eba95d0b819",
   "metadata": {},
   "outputs": [
    {
     "name": "stdout",
     "output_type": "stream",
     "text": [
      "Sentence:\n",
      "\n",
      "    Mary had a little lamb. 1 little lamb. Not 1056, not 12, not 22, just one.\n",
      "\n",
      " regexp | matches\n",
      " ------ | -------\n",
      " \\w     | ['M', 'a', 'r', 'y', 'h', 'a', 'd', 'a', '...']\n",
      " \\d     | ['1', '1', '0', '5', '6', '1', '2', '2', '...']\n",
      " \\s     | [' ', ' ', ' ', ' ', ' ', ' ', ' ', ' ', '...']\n",
      " .      | ['M', 'a', 'r', 'y', ' ', 'h', 'a', 'd', '...']\n",
      " \\.     | ['.', '.', '.']\n"
     ]
    }
   ],
   "source": [
    "res = [\n",
    "    r'\\w',\n",
    "    r'\\d',\n",
    "    r'\\s',\n",
    "    r'.',  # matches every character\n",
    "    r'\\.', # a literal period\n",
    "]\n",
    "show_all_matches(res, sentence)"
   ]
  },
  {
   "cell_type": "markdown",
   "id": "c88f2fca-5927-4c40-82c6-ced526d8c0ec",
   "metadata": {},
   "source": [
    "#### These can be combined together"
   ]
  },
  {
   "cell_type": "code",
   "execution_count": 5,
   "id": "552a3f6f-5d2a-4061-a679-21eeb17e3be9",
   "metadata": {},
   "outputs": [
    {
     "name": "stdout",
     "output_type": "stream",
     "text": [
      "Sentence:\n",
      "\n",
      "    Mary had a little lamb. 1 little lamb. Not 1056, not 12, not 22, just one.\n",
      "\n",
      " regexp    | matches\n",
      " ------    | -------\n",
      " 1\\w\\w\\w\\W | ['1056,']\n",
      " \\d\\d      | ['10', '56', '12', '22']\n"
     ]
    }
   ],
   "source": [
    "show_all_matches([r'1\\w\\w\\w\\W', r'\\d\\d'], sentence, re_length=9)"
   ]
  },
  {
   "cell_type": "markdown",
   "id": "294db84b-29ac-4dfe-a829-6a8fe5e7f60a",
   "metadata": {},
   "source": [
    "#### Repeating"
   ]
  },
  {
   "cell_type": "code",
   "execution_count": 6,
   "id": "28605cf8-fbd3-444c-95af-32f4c1ca57a5",
   "metadata": {},
   "outputs": [
    {
     "name": "stdout",
     "output_type": "stream",
     "text": [
      "Sentence:\n",
      "\n",
      "    Mary had a little lamb. 1 little lamb. Not 1056, not 12, not 22, just one.\n",
      "\n",
      " regexp | matches\n",
      " ------ | -------\n",
      " \\d+    | ['1', '1056', '12', '22']\n",
      "\n",
      "---\n",
      "\n",
      "Sentence:\n",
      "\n",
      "    aabbaaaa\n",
      "\n",
      " regexp | matches\n",
      " ------ | -------\n",
      " a{2,}  | ['aa', 'aaaa']\n",
      " a{2}   | ['aa', 'aa', 'aa']\n",
      " a{3,4} | ['aaaa']\n"
     ]
    }
   ],
   "source": [
    "show_all_matches([\n",
    "    r'\\d+'\n",
    "], sentence)\n",
    "\n",
    "print('\\n---\\n')\n",
    "\n",
    "show_all_matches([\n",
    "    r'a{2,}',\n",
    "    r'a{2}',\n",
    "    r'a{3,4}'\n",
    "], 'aabbaaaa')"
   ]
  },
  {
   "cell_type": "markdown",
   "id": "a090a5cc-0271-4a79-8f18-0da866d0b3f2",
   "metadata": {},
   "source": [
    "#### Any of or None of"
   ]
  },
  {
   "cell_type": "code",
   "execution_count": 7,
   "id": "babc9b34-48ae-4eb4-918a-7ee70e269872",
   "metadata": {},
   "outputs": [
    {
     "name": "stdout",
     "output_type": "stream",
     "text": [
      "Sentence:\n",
      "\n",
      "    Mary had a little lamb. 1 little lamb. Not 1056, not 12, not 22, just one.\n",
      "\n",
      " regexp       | matches\n",
      " ------       | -------\n",
      " [lt]         | ['l', 't', 't', 'l', 'l', 'l', 't', 't', '...']\n",
      " [lt]+        | ['l', 'ttl', 'l', 'l', 'ttl', 'l', 't', 't', '...']\n",
      " [^aeiou\\s\\.] | ['M', 'r', 'y', 'h', 'd', 'l', 't', 't', '...']\n",
      " [a-d]        | ['a', 'a', 'd', 'a', 'a', 'b', 'a', 'b']\n"
     ]
    }
   ],
   "source": [
    "show_all_matches([\n",
    "    r'[lt]',\n",
    "    r'[lt]+',\n",
    "    r'[^aeiou\\s\\.]', # any letter that's not a vowel\n",
    "    r'[a-d]'\n",
    "], sentence, re_length=12)\n"
   ]
  },
  {
   "cell_type": "code",
   "execution_count": 8,
   "id": "8be0217e-3406-4c7c-8462-f8058b1b2b1e",
   "metadata": {},
   "outputs": [
    {
     "name": "stdout",
     "output_type": "stream",
     "text": [
      "['M', 'r', 'y', 'h', 'd', 'l', 't', 't', 'l', 'l', 'm', 'b', '1', 'l', 't', 't', 'l', 'l', 'm', 'b', 'N', 't', '1', '0', '5', '6', ',', 'n', 't', '1', '2', ',', 'n', 't', '2', '2', ',', 'j', 's', 't', 'n']\n"
     ]
    }
   ],
   "source": [
    "# wanted to see the full list for this one so just put it into findall\n",
    "# manually and used the print statement to see the list in a more compact\n",
    "# form\n",
    "print(re.findall(r'[^aeiou\\s\\.]', sentence))"
   ]
  },
  {
   "cell_type": "markdown",
   "id": "2d99e53f-d79c-42c1-9cce-3e50744739bd",
   "metadata": {},
   "source": [
    "#### Anchors"
   ]
  },
  {
   "cell_type": "code",
   "execution_count": 9,
   "id": "7c675a0d-db67-403e-81c0-f68c490536ee",
   "metadata": {},
   "outputs": [
    {
     "name": "stdout",
     "output_type": "stream",
     "text": [
      "Sentence:\n",
      "\n",
      "    Mary had a little lamb. 1 little lamb. Not 1056, not 12, not 22, just one.\n",
      "\n",
      " regexp | matches\n",
      " ------ | -------\n",
      " \\bo\\w+ | ['one']\n",
      " ^\\s    | []\n",
      " ^M     | ['M']\n",
      " ^h     | []\n",
      " \\bh\\w+ | ['had']\n",
      " \\.$    | ['.']\n"
     ]
    }
   ],
   "source": [
    "show_all_matches([\n",
    "    r'\\bo\\w+', # any word that starts with an 'o'\n",
    "    r'^\\s', # starts with a space\n",
    "    r'^M', # 'M' at the start of the string\n",
    "    r'^h', # 'h' at the start of the string\n",
    "    r'\\bh\\w+', # word that starts with 'h'\n",
    "    r'\\.$' # string ends with a period\n",
    "], sentence)"
   ]
  },
  {
   "cell_type": "markdown",
   "id": "341b75f0-6e4d-44ec-9db2-f1c055807a58",
   "metadata": {},
   "source": [
    "#### Other Common re Functions\n",
    "\n",
    "`match()` matches from the start of the string  \n",
    "`search()` finds the first instance of the regular expression  \n",
    "`sub()` makes substitutions with a regular expression  \n",
    "`compile()` prepare a regular expression for use ahead of time  "
   ]
  },
  {
   "cell_type": "markdown",
   "id": "1a60d459-2c4a-40c5-bbd5-1cfc0ab169f4",
   "metadata": {},
   "source": [
    "#### Capture Groups"
   ]
  },
  {
   "cell_type": "code",
   "execution_count": 10,
   "id": "e83b1e40-4c0c-429b-8cdb-fc3c1eeea7a8",
   "metadata": {},
   "outputs": [],
   "source": [
    "sentence = '''\n",
    "You can find us on the web at https://codeup.com. Our ip address is 123.123.123.123 (maybe).\n",
    "'''.strip()"
   ]
  },
  {
   "cell_type": "code",
   "execution_count": 11,
   "id": "f0540898-e6a2-4b3f-bec1-6015476fb8c7",
   "metadata": {},
   "outputs": [
    {
     "data": {
      "text/plain": [
       "'123.123.123.123'"
      ]
     },
     "execution_count": 11,
     "metadata": {},
     "output_type": "execute_result"
    }
   ],
   "source": [
    "ip_re = r'\\d+(\\.\\d+){3}'\n",
    "\n",
    "match = re.search(ip_re, sentence)\n",
    "match[0]"
   ]
  },
  {
   "cell_type": "code",
   "execution_count": 12,
   "id": "12af71da-d26c-473d-8b7a-f764e50ae6c2",
   "metadata": {},
   "outputs": [
    {
     "data": {
      "text/plain": [
       "['.123']"
      ]
     },
     "execution_count": 12,
     "metadata": {},
     "output_type": "execute_result"
    }
   ],
   "source": [
    "match_all = re.findall(ip_re, sentence)\n",
    "match_all"
   ]
  },
  {
   "cell_type": "code",
   "execution_count": 13,
   "id": "29b82ce8-49fc-4df9-af5e-f095cf654b36",
   "metadata": {},
   "outputs": [
    {
     "name": "stdout",
     "output_type": "stream",
     "text": [
      "\n",
      "protocol: https\n",
      "domain:   codeup\n",
      "tld:      com\n",
      "\n"
     ]
    }
   ],
   "source": [
    "# simplified for demonstration, a real url to parse urls would be much more\n",
    "# complex\n",
    "url_re = r'(https?)://(\\w+)\\.(\\w+)'\n",
    "\n",
    "protocol, domain, tld = re.search(url_re, sentence).groups()\n",
    "\n",
    "print(f'''\n",
    "protocol: {protocol}\n",
    "domain:   {domain}\n",
    "tld:      {tld}\n",
    "''')\n"
   ]
  },
  {
   "cell_type": "markdown",
   "id": "3cddba1f-184e-4747-a07c-6d458c1754d1",
   "metadata": {},
   "source": [
    "#### Non-capturing (aka 'Shy') Groups\n",
    "- a `?:` at the beginning of a group makes is non-capturing\n",
    "- also note that any group can be named (aliased) by using `?P<name>`"
   ]
  },
  {
   "cell_type": "code",
   "execution_count": 14,
   "id": "e71bd051-f2a8-4a07-8ae2-3e3648745680",
   "metadata": {},
   "outputs": [
    {
     "name": "stdout",
     "output_type": "stream",
     "text": [
      "\n",
      "groups: ('https', 'com')\n",
      "referencing a group by name: com\n",
      "group dictionary: {'protocol': 'https', 'tld': 'com'}\n",
      "\n"
     ]
    }
   ],
   "source": [
    "url_re = r'(?P<protocol>https?)://(?:\\w+)\\.(?P<tld>\\w+)'\n",
    "\n",
    "match = re.search(url_re, sentence)\n",
    "\n",
    "print(f'''\n",
    "groups: {match.groups()}\n",
    "referencing a group by name: {match.group('tld')}\n",
    "group dictionary: {match.groupdict()}\n",
    "''')\n"
   ]
  },
  {
   "cell_type": "code",
   "execution_count": 15,
   "id": "762d753a-d47b-4a9d-bfb9-fe644e5febe9",
   "metadata": {},
   "outputs": [
    {
     "data": {
      "text/plain": [
       "[('https', 'com')]"
      ]
     },
     "execution_count": 15,
     "metadata": {},
     "output_type": "execute_result"
    }
   ],
   "source": [
    "match_all = re.findall(url_re, sentence)\n",
    "match_all"
   ]
  },
  {
   "cell_type": "markdown",
   "id": "6efef3d0-4aa4-492e-ba0d-59b1008b17f8",
   "metadata": {},
   "source": [
    "#### Substitution"
   ]
  },
  {
   "cell_type": "code",
   "execution_count": 16,
   "id": "4380db8e-aba9-4f7a-93c5-74fe647b927c",
   "metadata": {},
   "outputs": [
    {
     "data": {
      "text/plain": [
       "'123'"
      ]
     },
     "execution_count": 16,
     "metadata": {},
     "output_type": "execute_result"
    }
   ],
   "source": [
    "# remove anything that's not a digit\n",
    "re.sub(r'\\D', '', 'abc 123')"
   ]
  },
  {
   "cell_type": "code",
   "execution_count": 17,
   "id": "808155b7-368a-4e3f-8373-596b3492b262",
   "metadata": {},
   "outputs": [
    {
     "data": {
      "text/plain": [
       "'abc'"
      ]
     },
     "execution_count": 17,
     "metadata": {},
     "output_type": "execute_result"
    }
   ],
   "source": [
    "# remove anything that's not a letter\n",
    "re.sub(r'[^a-z]', '', 'abc 123')"
   ]
  },
  {
   "cell_type": "code",
   "execution_count": 18,
   "id": "2cccadb2-883a-47f6-9095-42bdbd66a86d",
   "metadata": {},
   "outputs": [
    {
     "data": {
      "text/plain": [
       "'b'"
      ]
     },
     "execution_count": 18,
     "metadata": {},
     "output_type": "execute_result"
    }
   ],
   "source": [
    "# find first three characters, capture the second and use it to replace first 3\n",
    "re.sub(r'.(.).', r'\\1', 'abc')"
   ]
  },
  {
   "cell_type": "code",
   "execution_count": 19,
   "id": "9fdc3df9-ba35-442d-8b4c-7a29af49d6ae",
   "metadata": {},
   "outputs": [
    {
     "data": {
      "text/plain": [
       "'cba'"
      ]
     },
     "execution_count": 19,
     "metadata": {},
     "output_type": "execute_result"
    }
   ],
   "source": [
    "# capture first three characters and replace them in reverse\n",
    "re.sub(r'(.)(.)(.)', r'\\3\\2\\1', 'abc')\n"
   ]
  },
  {
   "cell_type": "code",
   "execution_count": 20,
   "id": "425a9879-018c-4eab-b66d-83031063b187",
   "metadata": {},
   "outputs": [
    {
     "data": {
      "text/plain": [
       "'aX'"
      ]
     },
     "execution_count": 20,
     "metadata": {},
     "output_type": "execute_result"
    }
   ],
   "source": [
    "# replace the last two characters with 'X'\n",
    "re.sub(r'.{2}$', r'X', 'abc')"
   ]
  },
  {
   "cell_type": "markdown",
   "id": "b1859838-1f0e-46da-a145-93aa53ffa7f2",
   "metadata": {},
   "source": [
    "#### Regex Flags"
   ]
  },
  {
   "cell_type": "code",
   "execution_count": null,
   "id": "ea5b491a-24bf-4633-86e7-f719327bf840",
   "metadata": {},
   "outputs": [],
   "source": []
  },
  {
   "cell_type": "code",
   "execution_count": 26,
   "id": "1a7b0778-afc5-45f8-950d-c485555cf060",
   "metadata": {},
   "outputs": [],
   "source": [
    "inputs = ['$1,120.98', '1,0', 'ab', '1.50', '3']"
   ]
  },
  {
   "cell_type": "code",
   "execution_count": 35,
   "id": "ffc616f0-44e6-486d-afc4-830c11cad7b7",
   "metadata": {},
   "outputs": [],
   "source": [
    "def show_all_matches_2(regex_list, inputs, re_length=6, inp_length=7):\n",
    "    print('Inputs:')\n",
    "    print()\n",
    "    print('    {}'.format(inputs))\n",
    "    print()\n",
    "    print(' regexp{} |  input{}  | matches'.format(' ' * (re_length - 6), ' ' * (inp_length - 7)))\n",
    "    print(' ------{} | -------{} | -------'.format(' ' * (re_length - 6), ' ' * (inp_length - 7)))\n",
    "    for regexp in regex_list:\n",
    "        fmt = ' {:<%d} | {:<%d} | {!r}' % (re_length, inp_length)\n",
    "        for input in inputs:\n",
    "            matches = re.findall(regexp, input)\n",
    "            if len(matches) > 8:\n",
    "                matches = matches[:8] + ['...']\n",
    "            print(fmt.format(regexp, input, matches))"
   ]
  },
  {
   "cell_type": "code",
   "execution_count": 47,
   "id": "ac235fd1-6b35-4a4a-a69e-1677e5c86ca7",
   "metadata": {},
   "outputs": [],
   "source": [
    "regexes_2 = [r'(\\d+)[,.]*(\\d+)*', r'(\\d+).*(\\d{,2})', r'\\d+']"
   ]
  },
  {
   "cell_type": "code",
   "execution_count": 48,
   "id": "f89d303d-6862-401e-8be3-39c22d951d15",
   "metadata": {},
   "outputs": [
    {
     "name": "stdout",
     "output_type": "stream",
     "text": [
      "Inputs:\n",
      "\n",
      "    ['$1,120.98', '1,0', 'ab', '1.50', '3']\n",
      "\n",
      " regexp |  input  | matches\n",
      " ------ | ------- | -------\n",
      " (\\d+)[,.]*(\\d+)* | $1,120.98 | [('1', '120'), ('98', '')]\n",
      " (\\d+)[,.]*(\\d+)* | 1,0     | [('1', '0')]\n",
      " (\\d+)[,.]*(\\d+)* | ab      | []\n",
      " (\\d+)[,.]*(\\d+)* | 1.50    | [('1', '50')]\n",
      " (\\d+)[,.]*(\\d+)* | 3       | [('3', '')]\n",
      " (\\d+).*(\\d{,2}) | $1,120.98 | [('1', '')]\n",
      " (\\d+).*(\\d{,2}) | 1,0     | [('1', '')]\n",
      " (\\d+).*(\\d{,2}) | ab      | []\n",
      " (\\d+).*(\\d{,2}) | 1.50    | [('1', '')]\n",
      " (\\d+).*(\\d{,2}) | 3       | [('3', '')]\n",
      " \\d+    | $1,120.98 | ['1', '120', '98']\n",
      " \\d+    | 1,0     | ['1', '0']\n",
      " \\d+    | ab      | []\n",
      " \\d+    | 1.50    | ['1', '50']\n",
      " \\d+    | 3       | ['3']\n"
     ]
    }
   ],
   "source": [
    "show_all_matches_2(regexes_2, inputs)"
   ]
  },
  {
   "cell_type": "code",
   "execution_count": 46,
   "id": "99b10acf-fd28-45ce-a8cc-64b19a6208e9",
   "metadata": {},
   "outputs": [
    {
     "data": {
      "text/plain": [
       "[('1', '120'), ('98', '')]"
      ]
     },
     "execution_count": 46,
     "metadata": {},
     "output_type": "execute_result"
    }
   ],
   "source": [
    "re.findall(r'(\\d+)[,.]*(\\d+)*', '$1,120.98')"
   ]
  },
  {
   "cell_type": "code",
   "execution_count": 125,
   "id": "287cbd66-d8ff-4cd4-8b10-e832dc526908",
   "metadata": {},
   "outputs": [],
   "source": [
    "\n",
    "def wage_input():\n",
    "    '''\n",
    "    Function takes in hourly wage input from a user, validates it and returns\n",
    "    the validated wage as a float rounded to two digits.\n",
    "\n",
    "    Inputs: User provided number.\n",
    "\n",
    "    Outputs: Validated user input returned as a float rounded to 2 decimals.\n",
    "    '''\n",
    "    while True:\n",
    "        user_input = input('Enter hourly wage in decimal format:').replace(',', '.')\n",
    "        user_input = re.sub(r'^[^0-9](?=\\d)', '', user_input)\n",
    "        if re.findall(r'[^0-9.]', user_input) != []:\n",
    "            print('Please use only numbers and a decimal point')\n",
    "            continue\n",
    "        else:\n",
    "            output = round(float(re.sub(r'\\.(?=.*\\.)', '', user_input)), 2)\n",
    "        return output"
   ]
  },
  {
   "cell_type": "code",
   "execution_count": 126,
   "id": "77bf8ac5-e857-4453-9749-ad4c8221ba2b",
   "metadata": {},
   "outputs": [],
   "source": [
    "def confirm_wage_input():\n",
    "    '''\n",
    "    Function takes in the output of wage_input() and asks the user\n",
    "    to confirm that the amount is correct. User inputs y or n and that input is \n",
    "    validated. If y is validated, then wage is returned. If n is\n",
    "    selected then wage_input is run again\n",
    "    \n",
    "    Inputs: None.\n",
    "    \n",
    "    Outputs: Confirmed wage amount as a float\n",
    "    '''\n",
    "    \n",
    "    validated_input = wage_input()\n",
    "    \n",
    "    while True:  \n",
    "        print(f'You input a wage of ${validated_input:.2f}/hour.')\n",
    "        confirm = input('Is this correct? (y or n)').lower().strip()\n",
    "        if confirm == 'y':\n",
    "            return validated_input\n",
    "        elif confirm == 'n':\n",
    "            validated_input = wage_input()\n",
    "        else:\n",
    "            print('Please type either y for yes or n for no.')\n",
    "    "
   ]
  },
  {
   "cell_type": "code",
   "execution_count": 123,
   "id": "8ad5a8fd-66ab-4a2c-98a2-1d2ab4702b4c",
   "metadata": {},
   "outputs": [
    {
     "name": "stdin",
     "output_type": "stream",
     "text": [
      "Enter hourly wage in decimal format: 4.35\n"
     ]
    },
    {
     "name": "stdout",
     "output_type": "stream",
     "text": [
      "You input a wage of $4.35/hour.\n"
     ]
    },
    {
     "name": "stdin",
     "output_type": "stream",
     "text": [
      "Is this correct? (y or n) n\n",
      "Enter hourly wage in decimal format: 4.23\n"
     ]
    },
    {
     "name": "stdout",
     "output_type": "stream",
     "text": [
      "You input a wage of $4.23/hour.\n"
     ]
    },
    {
     "name": "stdin",
     "output_type": "stream",
     "text": [
      "Is this correct? (y or n) b\n"
     ]
    },
    {
     "name": "stdout",
     "output_type": "stream",
     "text": [
      "Please type either y for yes or n for no.\n",
      "You input a wage of $4.23/hour.\n"
     ]
    },
    {
     "name": "stdin",
     "output_type": "stream",
     "text": [
      "Is this correct? (y or n) 5.67\n"
     ]
    },
    {
     "name": "stdout",
     "output_type": "stream",
     "text": [
      "Please type either y for yes or n for no.\n",
      "You input a wage of $4.23/hour.\n"
     ]
    },
    {
     "name": "stdin",
     "output_type": "stream",
     "text": [
      "Is this correct? (y or n) y\n"
     ]
    },
    {
     "data": {
      "text/plain": [
       "4.23"
      ]
     },
     "execution_count": 123,
     "metadata": {},
     "output_type": "execute_result"
    }
   ],
   "source": [
    "confirm_wage_input()"
   ]
  },
  {
   "cell_type": "code",
   "execution_count": null,
   "id": "17ef3ff0-d925-4526-a4bd-5b0f612c4806",
   "metadata": {},
   "outputs": [],
   "source": []
  }
 ],
 "metadata": {
  "kernelspec": {
   "display_name": "Python 3 (ipykernel)",
   "language": "python",
   "name": "python3"
  },
  "language_info": {
   "codemirror_mode": {
    "name": "ipython",
    "version": 3
   },
   "file_extension": ".py",
   "mimetype": "text/x-python",
   "name": "python",
   "nbconvert_exporter": "python",
   "pygments_lexer": "ipython3",
   "version": "3.9.13"
  }
 },
 "nbformat": 4,
 "nbformat_minor": 5
}
